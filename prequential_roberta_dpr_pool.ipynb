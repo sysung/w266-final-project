{
 "cells": [
  {
   "cell_type": "markdown",
   "metadata": {},
   "source": [
    "# Prequential RoBERTa DPR Pool\n",
    "\n",
    "Within the paper [WatClaimCheck: A new Dataset for Claim Entailment and Inference](https://aclanthology.org/2022.acl-long.92.pdf), they state that the Dense Passage Retrieval model using a pooling.\n",
    "\n",
    "**How do they pool?**\n",
    "1. For each claim, all of the sentences are pooled from every associated premise article and ranked using a similarity score.\n",
    "2. Evidence sentences are concatenated in the descending order of similarity score.\n",
    "3. The claim text and evidence sentences are concatenated.\n",
    "4. Resulting text is truncated to maximum sequence length of transformer model to perform claim veracity inference"
   ]
  },
  {
   "cell_type": "code",
   "execution_count": 14,
   "metadata": {},
   "outputs": [],
   "source": [
    "from helper import download_dataset\n",
    "from transformers import RobertaConfig, RobertaTokenizer, TFRobertaForSequenceClassification\n",
    "\n",
    "import matplotlib.pyplot as plt\n",
    "import numpy as np\n",
    "import pandas as pd\n",
    "import tensorflow as tf"
   ]
  },
  {
   "cell_type": "code",
   "execution_count": 15,
   "metadata": {},
   "outputs": [],
   "source": [
    "# Set Global Variables\n",
    "DATASET_FP = \"./WatClaimCheck_dataset\" # CHANGE TO MATCH LOCAL"
   ]
  },
  {
   "cell_type": "code",
   "execution_count": 20,
   "metadata": {},
   "outputs": [],
   "source": [
    "# Retrieve dataset\n",
    "train_pd_df, valid_pd_df, test_pd_df = download_dataset(DATASET_FP)"
   ]
  },
  {
   "cell_type": "code",
   "execution_count": 18,
   "metadata": {},
   "outputs": [],
   "source": [
    "# Set model properties\n",
    "max_seq_len = 512\n",
    "model_checkpoint = \"roberta-base\"\n",
    "learning_rate = 0.00001"
   ]
  },
  {
   "cell_type": "code",
   "execution_count": 19,
   "metadata": {},
   "outputs": [
    {
     "name": "stderr",
     "output_type": "stream",
     "text": [
      "Some weights of the PyTorch model were not used when initializing the TF 2.0 model TFRobertaForSequenceClassification: ['roberta.embeddings.position_ids']\n",
      "- This IS expected if you are initializing TFRobertaForSequenceClassification from a PyTorch model trained on another task or with another architecture (e.g. initializing a TFBertForSequenceClassification model from a BertForPreTraining model).\n",
      "- This IS NOT expected if you are initializing TFRobertaForSequenceClassification from a PyTorch model that you expect to be exactly identical (e.g. initializing a TFBertForSequenceClassification model from a BertForSequenceClassification model).\n",
      "Some weights or buffers of the TF 2.0 model TFRobertaForSequenceClassification were not initialized from the PyTorch model and are newly initialized: ['classifier.dense.weight', 'classifier.dense.bias', 'classifier.out_proj.weight', 'classifier.out_proj.bias']\n",
      "You should probably TRAIN this model on a down-stream task to be able to use it for predictions and inference.\n"
     ]
    }
   ],
   "source": [
    "# Get model and set number of labels\n",
    "model_config = RobertaConfig.from_pretrained(model_checkpoint)\n",
    "model_config.num_labels = 3\n",
    "model = TFRobertaForSequenceClassification.from_pretrained(model_checkpoint, config=model_config)\n",
    "\n",
    "# Get Tokenizer\n",
    "tokenizer = RobertaTokenizer.from_pretrained(model_checkpoint)\n",
    "\n",
    "# Get optimizer\n",
    "optimizer = tf.keras.optimizers.Adam(learning_rate)"
   ]
  },
  {
   "cell_type": "code",
   "execution_count": null,
   "metadata": {},
   "outputs": [],
   "source": []
  }
 ],
 "metadata": {
  "kernelspec": {
   "display_name": "Python 3",
   "language": "python",
   "name": "python3"
  },
  "language_info": {
   "codemirror_mode": {
    "name": "ipython",
    "version": 3
   },
   "file_extension": ".py",
   "mimetype": "text/x-python",
   "name": "python",
   "nbconvert_exporter": "python",
   "pygments_lexer": "ipython3",
   "version": "3.11.6"
  }
 },
 "nbformat": 4,
 "nbformat_minor": 2
}
