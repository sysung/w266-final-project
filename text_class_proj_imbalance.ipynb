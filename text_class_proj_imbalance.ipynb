{
 "cells": [
  {
   "cell_type": "code",
   "execution_count": 1,
   "id": "c0f5c760-48d4-49e2-ae4b-f9777c19a55c",
   "metadata": {},
   "outputs": [
    {
     "name": "stderr",
     "output_type": "stream",
     "text": [
      "2023-11-05 13:49:29.927082: I tensorflow/core/platform/cpu_feature_guard.cc:182] This TensorFlow binary is optimized to use available CPU instructions in performance-critical operations.\n",
      "To enable the following instructions: AVX2 AVX512F AVX512_VNNI FMA, in other operations, rebuild TensorFlow with the appropriate compiler flags.\n"
     ]
    }
   ],
   "source": [
    "from watclaimdata import test_df,train_df,valid_df\n",
    "\n",
    "import numpy as np\n",
    "import tensorflow as tf\n",
    "from tensorflow import keras\n",
    "\n",
    "from tensorflow.keras.layers import Embedding, Input, Dense, Lambda\n",
    "from tensorflow.keras.models import Model\n",
    "import tensorflow.keras.backend as K\n",
    "import tensorflow_datasets as tfds\n",
    "import tensorflow_text as tf_text\n",
    "\n",
    "import sklearn as sk\n",
    "import os\n",
    "import nltk\n",
    "from nltk.data import find\n",
    "\n",
    "import matplotlib.pyplot as plt\n",
    "\n",
    "import re\n",
    "import pandas as pd\n",
    "\n",
    "import gensim\n",
    "from gensim.models import Word2Vec\n",
    "from gensim.models import KeyedVectors\n",
    "from gensim.test.utils import datapath"
   ]
  },
  {
   "cell_type": "code",
   "execution_count": 2,
   "id": "ab6fa8e3-7bf5-45c4-982f-2746f2425f64",
   "metadata": {},
   "outputs": [
    {
     "data": {
      "text/html": [
       "<div>\n",
       "<style scoped>\n",
       "    .dataframe tbody tr th:only-of-type {\n",
       "        vertical-align: middle;\n",
       "    }\n",
       "\n",
       "    .dataframe tbody tr th {\n",
       "        vertical-align: top;\n",
       "    }\n",
       "\n",
       "    .dataframe thead th {\n",
       "        text-align: right;\n",
       "    }\n",
       "</style>\n",
       "<table border=\"1\" class=\"dataframe\">\n",
       "  <thead>\n",
       "    <tr style=\"text-align: right;\">\n",
       "      <th></th>\n",
       "      <th>claim</th>\n",
       "      <th>id</th>\n",
       "      <th>rating</th>\n",
       "      <th>original_rating</th>\n",
       "    </tr>\n",
       "  </thead>\n",
       "  <tbody>\n",
       "    <tr>\n",
       "      <th>26971</th>\n",
       "      <td>If an individual is determined \"to commit suic...</td>\n",
       "      <td>26972</td>\n",
       "      <td>1</td>\n",
       "      <td>barely-true</td>\n",
       "    </tr>\n",
       "    <tr>\n",
       "      <th>26972</th>\n",
       "      <td>Former NBA star said modern basketball players...</td>\n",
       "      <td>26973</td>\n",
       "      <td>0</td>\n",
       "      <td>false</td>\n",
       "    </tr>\n",
       "    <tr>\n",
       "      <th>26973</th>\n",
       "      <td>\"Since Debbie Halvorson has been in politics, ...</td>\n",
       "      <td>26974</td>\n",
       "      <td>1</td>\n",
       "      <td>half-true</td>\n",
       "    </tr>\n",
       "    <tr>\n",
       "      <th>26974</th>\n",
       "      <td>President Barack Obama \"had the legal authorit...</td>\n",
       "      <td>26975</td>\n",
       "      <td>2</td>\n",
       "      <td>true</td>\n",
       "    </tr>\n",
       "    <tr>\n",
       "      <th>26975</th>\n",
       "      <td>Photograph of a Congress worker protesting aga...</td>\n",
       "      <td>26976</td>\n",
       "      <td>0</td>\n",
       "      <td>false</td>\n",
       "    </tr>\n",
       "  </tbody>\n",
       "</table>\n",
       "</div>"
      ],
      "text/plain": [
       "                                                   claim     id  rating  \\\n",
       "26971  If an individual is determined \"to commit suic...  26972       1   \n",
       "26972  Former NBA star said modern basketball players...  26973       0   \n",
       "26973  \"Since Debbie Halvorson has been in politics, ...  26974       1   \n",
       "26974  President Barack Obama \"had the legal authorit...  26975       2   \n",
       "26975  Photograph of a Congress worker protesting aga...  26976       0   \n",
       "\n",
       "      original_rating  \n",
       "26971     barely-true  \n",
       "26972           false  \n",
       "26973       half-true  \n",
       "26974            true  \n",
       "26975           false  "
      ]
     },
     "execution_count": 2,
     "metadata": {},
     "output_type": "execute_result"
    }
   ],
   "source": [
    "train_df.tail()"
   ]
  },
  {
   "cell_type": "code",
   "execution_count": 3,
   "id": "5dbd10b1-e24d-446f-abf4-dd3b1125c5b1",
   "metadata": {},
   "outputs": [
    {
     "data": {
      "text/plain": [
       "<AxesSubplot:>"
      ]
     },
     "execution_count": 3,
     "metadata": {},
     "output_type": "execute_result"
    },
    {
     "data": {
      "image/png": "[encoded data removed]",
      "text/plain": [
       "<Figure size 432x288 with 1 Axes>"
      ]
     },
     "metadata": {
      "needs_background": "light"
     },
     "output_type": "display_data"
    }
   ],
   "source": [
    "train_df['rating'].value_counts().plot(kind='bar')"
   ]
  },
  {
   "cell_type": "code",
   "execution_count": 4,
   "id": "73678e60-6d57-4176-8a22-123c41e54233",
   "metadata": {},
   "outputs": [
    {
     "name": "stdout",
     "output_type": "stream",
     "text": [
      "0.9.0\n"
     ]
    }
   ],
   "source": [
    "# check version number\n",
    "import imblearn\n",
    "print(imblearn.__version__)"
   ]
  },
  {
   "cell_type": "markdown",
   "id": "773058a3-74e9-4a12-bf75-59ff76c30a26",
   "metadata": {},
   "source": [
    "NearMiss-3 selects the closest examples from the majority class for each minority class.\n",
    "\n",
    "The n_neighbors_ver3 argument determines the number of examples to select for each minority example, although the desired balancing ratio set via sampling_strategy will filter this to achieve the desired balance."
   ]
  },
  {
   "cell_type": "code",
   "execution_count": 5,
   "id": "261f91e0-e6c6-4fda-932a-a0a169d7e31b",
   "metadata": {},
   "outputs": [
    {
     "data": {
      "text/plain": [
       "(26976, 1)"
      ]
     },
     "execution_count": 5,
     "metadata": {},
     "output_type": "execute_result"
    }
   ],
   "source": [
    "X = train_df.iloc[:,1:2]\n",
    "X.shape"
   ]
  },
  {
   "cell_type": "code",
   "execution_count": 6,
   "id": "a4440bd7-0a67-4ee2-a155-5e4e821ec411",
   "metadata": {},
   "outputs": [
    {
     "data": {
      "text/plain": [
       "(26976,)"
      ]
     },
     "execution_count": 6,
     "metadata": {},
     "output_type": "execute_result"
    }
   ],
   "source": [
    "y = train_df['rating']\n",
    "y.shape"
   ]
  },
  {
   "cell_type": "code",
   "execution_count": 7,
   "id": "98897fd9-1583-49b7-b727-eba7902dab06",
   "metadata": {},
   "outputs": [],
   "source": [
    "valid_df['indx'] = valid_df.index"
   ]
  },
  {
   "cell_type": "code",
   "execution_count": 8,
   "id": "3c2bff9f-38ec-4cd6-8ac7-d899238b5d90",
   "metadata": {},
   "outputs": [
    {
     "data": {
      "text/html": [
       "<div>\n",
       "<style scoped>\n",
       "    .dataframe tbody tr th:only-of-type {\n",
       "        vertical-align: middle;\n",
       "    }\n",
       "\n",
       "    .dataframe tbody tr th {\n",
       "        vertical-align: top;\n",
       "    }\n",
       "\n",
       "    .dataframe thead th {\n",
       "        text-align: right;\n",
       "    }\n",
       "</style>\n",
       "<table border=\"1\" class=\"dataframe\">\n",
       "  <thead>\n",
       "    <tr style=\"text-align: right;\">\n",
       "      <th></th>\n",
       "      <th>claim</th>\n",
       "      <th>id</th>\n",
       "      <th>rating</th>\n",
       "      <th>original_rating</th>\n",
       "      <th>indx</th>\n",
       "    </tr>\n",
       "  </thead>\n",
       "  <tbody>\n",
       "    <tr>\n",
       "      <th>0</th>\n",
       "      <td>Video shows that \"Joe Biden participated in 'B...</td>\n",
       "      <td>26977</td>\n",
       "      <td>0</td>\n",
       "      <td>false</td>\n",
       "      <td>0</td>\n",
       "    </tr>\n",
       "    <tr>\n",
       "      <th>1</th>\n",
       "      <td>\"While Act 10 allowed (Milwaukee County) to sa...</td>\n",
       "      <td>26978</td>\n",
       "      <td>1</td>\n",
       "      <td>half-true</td>\n",
       "      <td>1</td>\n",
       "    </tr>\n",
       "    <tr>\n",
       "      <th>2</th>\n",
       "      <td>\"In Massachusetts, Biden’s vote exceeded exit ...</td>\n",
       "      <td>26979</td>\n",
       "      <td>0</td>\n",
       "      <td>false</td>\n",
       "      <td>2</td>\n",
       "    </tr>\n",
       "    <tr>\n",
       "      <th>3</th>\n",
       "      <td>Reliance supplying Jio Atta after farm bills w...</td>\n",
       "      <td>26980</td>\n",
       "      <td>0</td>\n",
       "      <td>false</td>\n",
       "      <td>3</td>\n",
       "    </tr>\n",
       "    <tr>\n",
       "      <th>4</th>\n",
       "      <td>Photo of maulvi and MP Shafiqur Rahman Virk pe...</td>\n",
       "      <td>26981</td>\n",
       "      <td>0</td>\n",
       "      <td>false</td>\n",
       "      <td>4</td>\n",
       "    </tr>\n",
       "  </tbody>\n",
       "</table>\n",
       "</div>"
      ],
      "text/plain": [
       "                                               claim     id  rating  \\\n",
       "0  Video shows that \"Joe Biden participated in 'B...  26977       0   \n",
       "1  \"While Act 10 allowed (Milwaukee County) to sa...  26978       1   \n",
       "2  \"In Massachusetts, Biden’s vote exceeded exit ...  26979       0   \n",
       "3  Reliance supplying Jio Atta after farm bills w...  26980       0   \n",
       "4  Photo of maulvi and MP Shafiqur Rahman Virk pe...  26981       0   \n",
       "\n",
       "  original_rating  indx  \n",
       "0           false     0  \n",
       "1       half-true     1  \n",
       "2           false     2  \n",
       "3           false     3  \n",
       "4           false     4  "
      ]
     },
     "execution_count": 8,
     "metadata": {},
     "output_type": "execute_result"
    }
   ],
   "source": [
    "valid_df.head()"
   ]
  },
  {
   "cell_type": "code",
   "execution_count": 9,
   "id": "6c352993-6c52-47fd-9d9a-ecd874b99e10",
   "metadata": {},
   "outputs": [
    {
     "data": {
      "text/plain": [
       "(3372, 1)"
      ]
     },
     "execution_count": 9,
     "metadata": {},
     "output_type": "execute_result"
    }
   ],
   "source": [
    "X_v = valid_df[['indx']]\n",
    "y_v = valid_df['rating']\n",
    "X_v.shape"
   ]
  },
  {
   "cell_type": "code",
   "execution_count": 10,
   "id": "c1f9c00c-3143-45ec-80f1-79fc4c63b9dc",
   "metadata": {},
   "outputs": [],
   "source": [
    "# define the undersampling method\n",
    "# undersample = NearMiss(version=3)\n",
    "\n",
    "from imblearn.over_sampling import SMOTE\n",
    "\n",
    "\n",
    "# define the undersampling method\n",
    "oversample = SMOTE()\n",
    "# transform the dataset\n",
    "X_over, y_over = oversample.fit_resample(X, y.ravel())\n",
    "Xv_over, yv_over = oversample.fit_resample(X_v, y_v.ravel())\n",
    "\n",
    "from imblearn.under_sampling import NearMiss\n",
    "\n",
    "\n",
    "# define the undersampling method\n",
    "undersample = NearMiss(n_neighbors_ver3=3)\n",
    "# transform the dataset\n",
    "X_near, y_near = undersample.fit_resample(X, y.ravel())\n",
    "Xv_near, yv_near = undersample.fit_resample(X_v, y_v.ravel())\n"
   ]
  },
  {
   "cell_type": "code",
   "execution_count": 11,
   "id": "57259e9a-46ca-4e9d-994b-ca8c82d4ad51",
   "metadata": {},
   "outputs": [
    {
     "name": "stdout",
     "output_type": "stream",
     "text": [
      "After Oversampling, counts of label '1': 12105\n",
      "After Oversampling, counts of label '0': 12105\n",
      "After Oversampling, counts of label '2': 12105\n",
      "After Undersampling, counts of label '1': 2894\n",
      "After Undersampling, counts of label '0': 2894\n",
      "After Undersampling, counts of label '2': 2894\n"
     ]
    }
   ],
   "source": [
    "print(\"After Oversampling, counts of label '1': {}\".format(sum(y_over == 1))) \n",
    "print(\"After Oversampling, counts of label '0': {}\".format(sum(y_over == 0))) \n",
    "print(\"After Oversampling, counts of label '2': {}\".format(sum(y_over == 2))) \n",
    "\n",
    "print(\"After Undersampling, counts of label '1': {}\".format(sum(y_near == 1))) \n",
    "print(\"After Undersampling, counts of label '0': {}\".format(sum(y_near == 0))) \n",
    "print(\"After Undersampling, counts of label '2': {}\".format(sum(y_near == 2))) "
   ]
  },
  {
   "cell_type": "code",
   "execution_count": 12,
   "id": "3963d5cd-c6c7-4d0d-9ca2-581382e2a12c",
   "metadata": {},
   "outputs": [],
   "source": [
    "over_idx = X_over['id'].apply(lambda x: x-1).tolist()\n",
    "train_over_df = train_df.loc[over_idx]\n",
    "\n",
    "over_v_idx = Xv_over['indx'].tolist()\n",
    "valid_over_df = valid_df.loc[over_v_idx]"
   ]
  },
  {
   "cell_type": "code",
   "execution_count": 13,
   "id": "06840d78-68dd-41e5-abc4-de28edebf8fc",
   "metadata": {},
   "outputs": [],
   "source": [
    "near_idx = X_near['id'].apply(lambda x: x-1).tolist()\n",
    "train_near_df = train_df.loc[near_idx]\n",
    "\n",
    "near_v_idx = Xv_near['indx'].tolist()\n",
    "valid_near_df = valid_df.loc[near_v_idx]"
   ]
  },
  {
   "cell_type": "code",
   "execution_count": null,
   "id": "3f6ec76c-b1ab-4ee6-b2b6-374646705aa5",
   "metadata": {},
   "outputs": [],
   "source": []
  },
  {
   "cell_type": "code",
   "execution_count": null,
   "id": "e29ca1b5-0215-43da-a43e-20549f2d766e",
   "metadata": {},
   "outputs": [],
   "source": []
  },
  {
   "cell_type": "code",
   "execution_count": null,
   "id": "4a0f5f56-f7db-4d16-a598-358c24b736cb",
   "metadata": {},
   "outputs": [],
   "source": []
  },
  {
   "cell_type": "code",
   "execution_count": null,
   "id": "8ccc2e2f-569e-457a-ba9a-8125263dfa22",
   "metadata": {},
   "outputs": [],
   "source": []
  },
  {
   "cell_type": "code",
   "execution_count": 14,
   "id": "2aa71e48-c139-44e3-978b-36c7ef059da0",
   "metadata": {},
   "outputs": [
    {
     "data": {
      "text/plain": [
       "array([0, 1, 2])"
      ]
     },
     "execution_count": 14,
     "metadata": {},
     "output_type": "execute_result"
    }
   ],
   "source": [
    "train_near_df['rating'].unique()"
   ]
  },
  {
   "cell_type": "code",
   "execution_count": 15,
   "id": "a256820b-1ebf-4fe5-8596-ef730c3357e3",
   "metadata": {},
   "outputs": [
    {
     "data": {
      "text/html": [
       "<div>\n",
       "<style scoped>\n",
       "    .dataframe tbody tr th:only-of-type {\n",
       "        vertical-align: middle;\n",
       "    }\n",
       "\n",
       "    .dataframe tbody tr th {\n",
       "        vertical-align: top;\n",
       "    }\n",
       "\n",
       "    .dataframe thead th {\n",
       "        text-align: right;\n",
       "    }\n",
       "</style>\n",
       "<table border=\"1\" class=\"dataframe\">\n",
       "  <thead>\n",
       "    <tr style=\"text-align: right;\">\n",
       "      <th></th>\n",
       "      <th>claim</th>\n",
       "      <th>id</th>\n",
       "      <th>rating</th>\n",
       "      <th>original_rating</th>\n",
       "    </tr>\n",
       "  </thead>\n",
       "  <tbody>\n",
       "    <tr>\n",
       "      <th>40</th>\n",
       "      <td>Indians in Spain celebrating Ram Mandir constr...</td>\n",
       "      <td>41</td>\n",
       "      <td>0</td>\n",
       "      <td>false</td>\n",
       "    </tr>\n",
       "    <tr>\n",
       "      <th>419</th>\n",
       "      <td>Says \"Nancy Pelosi came out in favor of MS-13.\"</td>\n",
       "      <td>420</td>\n",
       "      <td>0</td>\n",
       "      <td>false</td>\n",
       "    </tr>\n",
       "    <tr>\n",
       "      <th>874</th>\n",
       "      <td>Muslims punished for breaking lockdown in India</td>\n",
       "      <td>875</td>\n",
       "      <td>0</td>\n",
       "      <td>false</td>\n",
       "    </tr>\n",
       "    <tr>\n",
       "      <th>1629</th>\n",
       "      <td>Photo of Narendra Modi's mother in an auto-ric...</td>\n",
       "      <td>1630</td>\n",
       "      <td>0</td>\n",
       "      <td>false</td>\n",
       "    </tr>\n",
       "    <tr>\n",
       "      <th>1705</th>\n",
       "      <td>President Donald Trump’s budget \"threatened to...</td>\n",
       "      <td>1706</td>\n",
       "      <td>0</td>\n",
       "      <td>false</td>\n",
       "    </tr>\n",
       "  </tbody>\n",
       "</table>\n",
       "</div>"
      ],
      "text/plain": [
       "                                                  claim    id  rating  \\\n",
       "40    Indians in Spain celebrating Ram Mandir constr...    41       0   \n",
       "419     Says \"Nancy Pelosi came out in favor of MS-13.\"   420       0   \n",
       "874     Muslims punished for breaking lockdown in India   875       0   \n",
       "1629  Photo of Narendra Modi's mother in an auto-ric...  1630       0   \n",
       "1705  President Donald Trump’s budget \"threatened to...  1706       0   \n",
       "\n",
       "     original_rating  \n",
       "40             false  \n",
       "419            false  \n",
       "874            false  \n",
       "1629           false  \n",
       "1705           false  "
      ]
     },
     "execution_count": 15,
     "metadata": {},
     "output_type": "execute_result"
    }
   ],
   "source": [
    "train_near_df[train_near_df['rating'] == 0][:5]"
   ]
  },
  {
   "cell_type": "code",
   "execution_count": 16,
   "id": "d5d88015-1b04-4a92-b6eb-e415df7bfd43",
   "metadata": {},
   "outputs": [
    {
     "data": {
      "text/html": [
       "<div>\n",
       "<style scoped>\n",
       "    .dataframe tbody tr th:only-of-type {\n",
       "        vertical-align: middle;\n",
       "    }\n",
       "\n",
       "    .dataframe tbody tr th {\n",
       "        vertical-align: top;\n",
       "    }\n",
       "\n",
       "    .dataframe thead th {\n",
       "        text-align: right;\n",
       "    }\n",
       "</style>\n",
       "<table border=\"1\" class=\"dataframe\">\n",
       "  <thead>\n",
       "    <tr style=\"text-align: right;\">\n",
       "      <th></th>\n",
       "      <th>claim</th>\n",
       "      <th>id</th>\n",
       "      <th>rating</th>\n",
       "      <th>original_rating</th>\n",
       "    </tr>\n",
       "  </thead>\n",
       "  <tbody>\n",
       "    <tr>\n",
       "      <th>1008</th>\n",
       "      <td>The number of people who \"believe in socialism...</td>\n",
       "      <td>1009</td>\n",
       "      <td>1</td>\n",
       "      <td>half-true</td>\n",
       "    </tr>\n",
       "    <tr>\n",
       "      <th>6412</th>\n",
       "      <td>An image shows animals burning in the Australi...</td>\n",
       "      <td>6413</td>\n",
       "      <td>1</td>\n",
       "      <td>barely-true</td>\n",
       "    </tr>\n",
       "    <tr>\n",
       "      <th>7457</th>\n",
       "      <td>Donald Trump would \"engage in a risky scheme t...</td>\n",
       "      <td>7458</td>\n",
       "      <td>1</td>\n",
       "      <td>barely-true</td>\n",
       "    </tr>\n",
       "    <tr>\n",
       "      <th>7635</th>\n",
       "      <td>A photograph shows a nude man walking the runw...</td>\n",
       "      <td>7636</td>\n",
       "      <td>1</td>\n",
       "      <td>miscaptioned</td>\n",
       "    </tr>\n",
       "    <tr>\n",
       "      <th>8675</th>\n",
       "      <td>Anyone bringing supplies to DAPL protesters at...</td>\n",
       "      <td>8676</td>\n",
       "      <td>1</td>\n",
       "      <td>mostly true</td>\n",
       "    </tr>\n",
       "  </tbody>\n",
       "</table>\n",
       "</div>"
      ],
      "text/plain": [
       "                                                  claim    id  rating  \\\n",
       "1008  The number of people who \"believe in socialism...  1009       1   \n",
       "6412  An image shows animals burning in the Australi...  6413       1   \n",
       "7457  Donald Trump would \"engage in a risky scheme t...  7458       1   \n",
       "7635  A photograph shows a nude man walking the runw...  7636       1   \n",
       "8675  Anyone bringing supplies to DAPL protesters at...  8676       1   \n",
       "\n",
       "     original_rating  \n",
       "1008       half-true  \n",
       "6412     barely-true  \n",
       "7457     barely-true  \n",
       "7635    miscaptioned  \n",
       "8675     mostly true  "
      ]
     },
     "execution_count": 16,
     "metadata": {},
     "output_type": "execute_result"
    }
   ],
   "source": [
    "train_near_df[train_near_df['rating'] == 1][:5]"
   ]
  },
  {
   "cell_type": "code",
   "execution_count": 17,
   "id": "acb954e9-8902-46de-8dde-6f3da6b5787e",
   "metadata": {},
   "outputs": [
    {
     "data": {
      "text/html": [
       "<div>\n",
       "<style scoped>\n",
       "    .dataframe tbody tr th:only-of-type {\n",
       "        vertical-align: middle;\n",
       "    }\n",
       "\n",
       "    .dataframe tbody tr th {\n",
       "        vertical-align: top;\n",
       "    }\n",
       "\n",
       "    .dataframe thead th {\n",
       "        text-align: right;\n",
       "    }\n",
       "</style>\n",
       "<table border=\"1\" class=\"dataframe\">\n",
       "  <thead>\n",
       "    <tr style=\"text-align: right;\">\n",
       "      <th></th>\n",
       "      <th>claim</th>\n",
       "      <th>id</th>\n",
       "      <th>rating</th>\n",
       "      <th>original_rating</th>\n",
       "    </tr>\n",
       "  </thead>\n",
       "  <tbody>\n",
       "    <tr>\n",
       "      <th>13</th>\n",
       "      <td>Says that U.S. Rep. Allen West is \"a constitue...</td>\n",
       "      <td>14</td>\n",
       "      <td>2</td>\n",
       "      <td>true</td>\n",
       "    </tr>\n",
       "    <tr>\n",
       "      <th>14</th>\n",
       "      <td>\"The average margin of victory in the House of...</td>\n",
       "      <td>15</td>\n",
       "      <td>2</td>\n",
       "      <td>true</td>\n",
       "    </tr>\n",
       "    <tr>\n",
       "      <th>25</th>\n",
       "      <td>\"Not a single Democrat opposed Neil Gorsuch's ...</td>\n",
       "      <td>26</td>\n",
       "      <td>2</td>\n",
       "      <td>true</td>\n",
       "    </tr>\n",
       "    <tr>\n",
       "      <th>28</th>\n",
       "      <td>Ted Livingston, the CEO of Kik Interactive, an...</td>\n",
       "      <td>29</td>\n",
       "      <td>2</td>\n",
       "      <td>true</td>\n",
       "    </tr>\n",
       "    <tr>\n",
       "      <th>31</th>\n",
       "      <td>There are cities and counties in Georgia that ...</td>\n",
       "      <td>32</td>\n",
       "      <td>2</td>\n",
       "      <td>true</td>\n",
       "    </tr>\n",
       "  </tbody>\n",
       "</table>\n",
       "</div>"
      ],
      "text/plain": [
       "                                                claim  id  rating  \\\n",
       "13  Says that U.S. Rep. Allen West is \"a constitue...  14       2   \n",
       "14  \"The average margin of victory in the House of...  15       2   \n",
       "25  \"Not a single Democrat opposed Neil Gorsuch's ...  26       2   \n",
       "28  Ted Livingston, the CEO of Kik Interactive, an...  29       2   \n",
       "31  There are cities and counties in Georgia that ...  32       2   \n",
       "\n",
       "   original_rating  \n",
       "13            true  \n",
       "14            true  \n",
       "25            true  \n",
       "28            true  \n",
       "31            true  "
      ]
     },
     "execution_count": 17,
     "metadata": {},
     "output_type": "execute_result"
    }
   ],
   "source": [
    "train_near_df[train_near_df['rating'] == 2][:5]"
   ]
  },
  {
   "cell_type": "code",
   "execution_count": 18,
   "id": "d130e817-a5df-4129-9e2e-1fac6a32f739",
   "metadata": {},
   "outputs": [],
   "source": [
    "train_df['new_rating'] = np.where(train_df['rating'] == 0,'false',np.where(train_df['rating'] == 1,'misleading',np.where(train_df['rating'] == 2,'true','')))\n",
    "train_df['new_rating'].unique()\n",
    "\n",
    "# test_df['new_rating'] = np.where(test_df['rating'] == 0,'false',np.where(test_df['rating'] == 1,'misleading',np.where(test_df['rating'] == 2,'true','')))\n",
    "valid_df['new_rating'] = np.where(valid_df['rating'] == 0,'false',np.where(valid_df['rating'] == 1,'misleading',np.where(valid_df['rating'] == 2,'true','')))\n",
    "\n"
   ]
  },
  {
   "cell_type": "code",
   "execution_count": 19,
   "id": "52629d9c-311d-42e7-b7b9-1a8eaaaee74f",
   "metadata": {},
   "outputs": [],
   "source": [
    "train_over_df['new_rating'] = np.where(train_over_df['rating'] == 0,'false',np.where(train_over_df['rating'] == 1,'misleading',np.where(train_over_df['rating'] == 2,'true','')))\n",
    "train_over_df['new_rating'].unique()\n",
    "\n",
    "test_df['new_rating'] = np.where(test_df['rating'] == 0,'false',np.where(test_df['rating'] == 1,'misleading',np.where(test_df['rating'] == 2,'true','')))\n",
    "valid_over_df['new_rating'] = np.where(valid_over_df['rating'] == 0,'false',np.where(valid_over_df['rating'] == 1,'misleading',np.where(valid_over_df['rating'] == 2,'true','')))\n",
    "\n"
   ]
  },
  {
   "cell_type": "code",
   "execution_count": 20,
   "id": "d9dbe064-9308-4db1-9951-656bfb4111f8",
   "metadata": {},
   "outputs": [],
   "source": [
    "train_near_df['new_rating'] = np.where(train_near_df['rating'] == 0,'false',np.where(train_near_df['rating'] == 1,'misleading',np.where(train_near_df['rating'] == 2,'true','')))\n",
    "train_near_df['new_rating'].unique()\n",
    "\n",
    "# test_df['new_rating'] = np.where(test_df['rating'] == 0,'false',np.where(test_df['rating'] == 1,'misleading',np.where(test_df['rating'] == 2,'true','')))\n",
    "valid_near_df['new_rating'] = np.where(valid_near_df['rating'] == 0,'false',np.where(valid_near_df['rating'] == 1,'misleading',np.where(valid_near_df['rating'] == 2,'true','')))\n",
    "\n"
   ]
  },
  {
   "cell_type": "code",
   "execution_count": 21,
   "id": "fec15046-6781-454b-a4e8-84882152f192",
   "metadata": {},
   "outputs": [],
   "source": [
    "\n",
    "dummy_train_y = np.array(pd.get_dummies(train_df['new_rating']))\n",
    "dummy_train_over_y = np.array(pd.get_dummies(train_over_df['new_rating']))\n",
    "dummy_train_near_y = np.array(pd.get_dummies(train_near_df['new_rating']))\n",
    "\n",
    "\n",
    "dummy_test_y = np.array(pd.get_dummies(test_df['new_rating']))\n",
    "\n",
    "dummy_valid_y = np.array(pd.get_dummies(valid_df['new_rating']))\n",
    "dummy_valid_near_y = np.array(pd.get_dummies(valid_near_df['new_rating']))\n",
    "dummy_valid_over_y = np.array(pd.get_dummies(valid_over_df['new_rating']))\n"
   ]
  },
  {
   "cell_type": "code",
   "execution_count": 22,
   "id": "aa766c84-80bf-4413-8a22-fab750501d12",
   "metadata": {},
   "outputs": [
    {
     "name": "stderr",
     "output_type": "stream",
     "text": [
      "[nltk_data] Downloading package word2vec_sample to\n",
      "[nltk_data]     /Users/peeti_mac/nltk_data...\n",
      "[nltk_data]   Package word2vec_sample is already up-to-date!\n"
     ]
    }
   ],
   "source": [
    "nltk.download('word2vec_sample')\n",
    "word2vec_sample = str(find('models/word2vec_sample/pruned.word2vec.txt'))\n",
    "model = KeyedVectors.load_word2vec_format(datapath(word2vec_sample), binary=False)\n",
    "\n",
    "EMBEDDING_DIM = len(model['university'])      \n",
    "\n",
    "# initialize embedding matrix and word-to-id map:  \n",
    "embedding_matrix = np.zeros((len(model) + 1, EMBEDDING_DIM))  \n",
    "vocab_dict = {}\n",
    "\n",
    "# build the embedding matrix and the word-to-id map:\n",
    "for i, word in enumerate(model.index_to_key):\n",
    "    embedding_vector = model[word]\n",
    "\n",
    "    if embedding_vector is not None:\n",
    "        # words not found in embedding index will be all-zeros.\n",
    "        embedding_matrix[i] = embedding_vector\n",
    "        vocab_dict[word] = i\n",
    "\n",
    "# we can use the last index at the end of the vocab for unknown tokens\n",
    "vocab_dict['[UNK]'] = len(vocab_dict)"
   ]
  },
  {
   "cell_type": "code",
   "execution_count": 23,
   "id": "e10b05d8-69a9-407e-9b90-2d13d9d65618",
   "metadata": {},
   "outputs": [
    {
     "data": {
      "text/plain": [
       "['Indians in Spain celebrating Ram Mandir construction',\n",
       " 'Says \"Nancy Pelosi came out in favor of MS-13.\"',\n",
       " 'Muslims punished for breaking lockdown in India',\n",
       " \"Photo of Narendra Modi's mother in an auto-rickshaw is photoshopped\"]"
      ]
     },
     "execution_count": 23,
     "metadata": {},
     "output_type": "execute_result"
    }
   ],
   "source": [
    "train_near_df['claim'].values.tolist()[:4]"
   ]
  },
  {
   "cell_type": "code",
   "execution_count": 24,
   "id": "a3b62710-8ab2-4438-8ff8-3bb504c18d35",
   "metadata": {},
   "outputs": [
    {
     "data": {
      "text/plain": [
       "array([0, 0, 0, 0])"
      ]
     },
     "execution_count": 24,
     "metadata": {},
     "output_type": "execute_result"
    }
   ],
   "source": [
    "np.array(train_near_df['rating'].values.tolist())[:4]"
   ]
  },
  {
   "cell_type": "code",
   "execution_count": 98,
   "id": "1dd5d1e5-24f0-43b8-bcfd-56406f6c92d3",
   "metadata": {},
   "outputs": [
    {
     "ename": "NameError",
     "evalue": "name 'test_over_df' is not defined",
     "output_type": "error",
     "traceback": [
      "\u001b[0;31m---------------------------------------------------------------------------\u001b[0m",
      "\u001b[0;31mNameError\u001b[0m                                 Traceback (most recent call last)",
      "Cell \u001b[0;32mIn[98], line 18\u001b[0m\n\u001b[1;32m      1\u001b[0m \u001b[38;5;66;03m# train_examples = train_df['claim'].values.tolist()\u001b[39;00m\n\u001b[1;32m      2\u001b[0m \u001b[38;5;66;03m# train_examples = tf.convert_to_tensor(train_examples)\u001b[39;00m\n\u001b[1;32m      3\u001b[0m \u001b[38;5;66;03m# train_labels = np.array(train_df['rating'].values.tolist())\u001b[39;00m\n\u001b[0;32m   (...)\u001b[0m\n\u001b[1;32m     15\u001b[0m \u001b[38;5;66;03m# test_examples = tf.convert_to_tensor(test_examples)\u001b[39;00m\n\u001b[1;32m     16\u001b[0m \u001b[38;5;66;03m# test_labels = np.array(test_df['rating'].values.tolist())\u001b[39;00m\n\u001b[0;32m---> 18\u001b[0m test_over_examples \u001b[38;5;241m=\u001b[39m \u001b[43mtest_over_df\u001b[49m[\u001b[38;5;124m'\u001b[39m\u001b[38;5;124mclaim\u001b[39m\u001b[38;5;124m'\u001b[39m]\u001b[38;5;241m.\u001b[39mvalues\u001b[38;5;241m.\u001b[39mtolist()\n\u001b[1;32m     19\u001b[0m test_over_examples \u001b[38;5;241m=\u001b[39m tf\u001b[38;5;241m.\u001b[39mconvert_to_tensor(test_over_examples)\n\u001b[1;32m     20\u001b[0m test_over_labels \u001b[38;5;241m=\u001b[39m np\u001b[38;5;241m.\u001b[39marray(test_over_df[\u001b[38;5;124m'\u001b[39m\u001b[38;5;124mrating\u001b[39m\u001b[38;5;124m'\u001b[39m]\u001b[38;5;241m.\u001b[39mvalues\u001b[38;5;241m.\u001b[39mtolist())\n",
      "\u001b[0;31mNameError\u001b[0m: name 'test_over_df' is not defined"
     ]
    }
   ],
   "source": [
    "train_examples = train_df['claim'].values.tolist()\n",
    "train_examples = tf.convert_to_tensor(train_examples)\n",
    "train_labels = np.array(train_df['rating'].values.tolist())\n",
    "\n",
    "train_over_examples = train_over_df['claim'].values.tolist()\n",
    "train_over_examples = tf.convert_to_tensor(train_over_examples)\n",
    "train_over_labels = np.array(train_over_df['rating'].values.tolist())\n",
    "\n",
    "train_near_examples = train_near_df['claim'].values.tolist()\n",
    "train_near_examples = tf.convert_to_tensor(train_near_examples)\n",
    "train_near_labels = np.array(train_near_df['rating'].values.tolist())\n",
    "\n",
    "\n",
    "test_examples = test_df['claim'].values.tolist()\n",
    "test_examples = tf.convert_to_tensor(test_examples)\n",
    "test_labels = np.array(test_df['rating'].values.tolist())\n",
    "\n",
    "\n",
    "\n",
    "\n",
    "val_examples = valid_df['claim'].values.tolist()\n",
    "val_examples = tf.convert_to_tensor(val_examples)\n",
    "val_labels = np.array(valid_df['rating'].values.tolist())\n",
    "\n",
    "val_over_examples = valid_over_df['claim'].values.tolist()\n",
    "val_over_examples = tf.convert_to_tensor(val_over_examples)\n",
    "val_over_labels = np.array(valid_over_df['rating'].values.tolist())\n",
    "\n",
    "val_near_examples = valid_near_df['claim'].values.tolist()\n",
    "val_near_examples = tf.convert_to_tensor(val_near_examples)\n",
    "val_near_labels = np.array(valid_near_df['rating'].values.tolist())\n",
    "\n",
    "# print('Train data contains {} with labels of {}'.format(train_examples.shape[0],train_labels['rating'].unique()))"
   ]
  },
  {
   "cell_type": "code",
   "execution_count": 26,
   "id": "697531d6-4873-4956-b4dd-bf45e473d7f1",
   "metadata": {},
   "outputs": [
    {
     "data": {
      "text/plain": [
       "<tf.Tensor: shape=(4,), dtype=string, numpy=\n",
       "array([b\"OpIndia claimed Greta Thunberg's real name is Ghazala bhat\",\n",
       "       b'\\xe2\\x80\\x9c38,000 prisoners were released from federal prison\\xe2\\x80\\x9d during the Obama administration.',\n",
       "       b'Says\\xc2\\xa0Wisconsin \\xe2\\x80\\x98could compel\\xe2\\x80\\x99 Foxconn to install solar panels that would power 33,000 homes.',\n",
       "       b\"A 4-year-old boy was accused of hacking the FBI's databases.\"],\n",
       "      dtype=object)>"
      ]
     },
     "execution_count": 26,
     "metadata": {},
     "output_type": "execute_result"
    }
   ],
   "source": [
    "train_examples[:4]"
   ]
  },
  {
   "cell_type": "code",
   "execution_count": 27,
   "id": "3a1e161e-b040-4df0-916f-d02317eb0ca7",
   "metadata": {},
   "outputs": [
    {
     "data": {
      "text/plain": [
       "array([0, 1, 1, 0])"
      ]
     },
     "execution_count": 27,
     "metadata": {},
     "output_type": "execute_result"
    }
   ],
   "source": [
    "train_labels[:4]"
   ]
  },
  {
   "cell_type": "code",
   "execution_count": 28,
   "id": "613ebd34-a28d-4d56-a28d-1dc54395c5f6",
   "metadata": {},
   "outputs": [
    {
     "data": {
      "text/plain": [
       "(26976,)"
      ]
     },
     "execution_count": 28,
     "metadata": {},
     "output_type": "execute_result"
    }
   ],
   "source": [
    "train_labels.shape"
   ]
  },
  {
   "cell_type": "code",
   "execution_count": 29,
   "id": "aa0da942-b42e-4eeb-8b45-edba6a11bb78",
   "metadata": {},
   "outputs": [],
   "source": [
    "# tf.convert_to_tensor(train_examples)"
   ]
  },
  {
   "cell_type": "code",
   "execution_count": 30,
   "id": "999aea3d-0083-448a-8636-b9adb4933d03",
   "metadata": {},
   "outputs": [],
   "source": [
    "tokenizer = tf_text.WhitespaceTokenizer()\n",
    "train_tokens = tokenizer.tokenize(train_examples)\n",
    "test_tokens = tokenizer.tokenize(val_examples)\n",
    "\n",
    "tokenizer = tf_text.WhitespaceTokenizer()\n",
    "train_over_tokens = tokenizer.tokenize(train_over_examples)\n",
    "test_over_tokens = tokenizer.tokenize(val_over_examples)\n",
    "\n",
    "tokenizer = tf_text.WhitespaceTokenizer()\n",
    "train_near_tokens = tokenizer.tokenize(train_near_examples)\n",
    "test_near_tokens = tokenizer.tokenize(val_near_examples)"
   ]
  },
  {
   "cell_type": "code",
   "execution_count": 31,
   "id": "5326cf02-0d0c-4c04-9e57-c5092a8d0f35",
   "metadata": {},
   "outputs": [
    {
     "data": {
      "text/plain": [
       "<tf.Tensor: shape=(9,), dtype=string, numpy=\n",
       "array([b'OpIndia', b'claimed', b'Greta', b\"Thunberg's\", b'real', b'name',\n",
       "       b'is', b'Ghazala', b'bhat'], dtype=object)>"
      ]
     },
     "execution_count": 31,
     "metadata": {},
     "output_type": "execute_result"
    }
   ],
   "source": [
    "train_tokens[0]"
   ]
  },
  {
   "cell_type": "code",
   "execution_count": 32,
   "id": "bc8bb52a-baa4-405b-b782-224bc32e6fa3",
   "metadata": {},
   "outputs": [],
   "source": [
    "MAX_SEQUENCE_LENGTH = 128\n",
    "\n",
    "def docs_to_vocab_ids(tokenized_texts_list):\n",
    "    \"\"\"\n",
    "    converting a list of strings to a list of lists of word ids\n",
    "    \"\"\"\n",
    "    texts_vocab_ids = []\n",
    "    for i, token_list in enumerate(tokenized_texts_list):\n",
    "\n",
    "        # Get the vocab id for each token in this doc ([UNK] if not in vocab)\n",
    "        vocab_ids = []\n",
    "        for token in list(token_list.numpy()):\n",
    "            decoded = token.decode('utf-8', errors='ignore')\n",
    "            if decoded in vocab_dict:\n",
    "                vocab_ids.append(vocab_dict[decoded])\n",
    "            else:\n",
    "                vocab_ids.append(vocab_dict['[UNK]'])\n",
    "            \n",
    "        # Truncate text to max length, add padding up to max length\n",
    "        vocab_ids = vocab_ids[:MAX_SEQUENCE_LENGTH]\n",
    "        n_padding = (MAX_SEQUENCE_LENGTH - len(vocab_ids))\n",
    "        # For simplicity in this model, we'll just pad with uknown tokens\n",
    "        vocab_ids += [vocab_dict['[UNK]']] * n_padding\n",
    "\n",
    "        # Add this example to the list of converted docs\n",
    "        texts_vocab_ids.append(vocab_ids)\n",
    "            \n",
    "        if i % 5000 == 0:\n",
    "            print('Examples processed: ', i)\n",
    "        \n",
    "    print('Total examples: ', i)\n",
    "\n",
    "    return np.array(texts_vocab_ids)"
   ]
  },
  {
   "cell_type": "code",
   "execution_count": 96,
   "id": "374bd4ef-f566-4f1b-9e8c-8776dc8cf1f5",
   "metadata": {},
   "outputs": [],
   "source": [
    "train_input = docs_to_vocab_ids(train_tokens)\n",
    "test_input = docs_to_vocab_ids(test_tokens)\n",
    "\n",
    "train_labels = np.array(train_labels)\n",
    "test_labels = np.array(val_labels)\n",
    "t_test_labels = np.array(test_labels)"
   ]
  },
  {
   "cell_type": "code",
   "execution_count": 34,
   "id": "67ef2ad2-52bc-4d61-a40b-47ff8d8594dd",
   "metadata": {},
   "outputs": [
    {
     "name": "stdout",
     "output_type": "stream",
     "text": [
      "Examples processed:  0\n",
      "Examples processed:  5000\n",
      "Examples processed:  10000\n",
      "Examples processed:  15000\n",
      "Examples processed:  20000\n",
      "Examples processed:  25000\n",
      "Examples processed:  30000\n",
      "Examples processed:  35000\n",
      "Total examples:  36314\n",
      "Examples processed:  0\n",
      "Total examples:  4547\n"
     ]
    }
   ],
   "source": [
    "train_over_input = docs_to_vocab_ids(train_over_tokens)\n",
    "test_over_input = docs_to_vocab_ids(test_over_tokens)\n",
    "\n",
    "train_over_labels = np.array(train_over_labels)\n",
    "test_over_labels = np.array(val_over_labels)"
   ]
  },
  {
   "cell_type": "code",
   "execution_count": 35,
   "id": "6b4138a4-88c8-4d3b-b350-18ce1b9fd140",
   "metadata": {},
   "outputs": [
    {
     "name": "stdout",
     "output_type": "stream",
     "text": [
      "Examples processed:  0\n",
      "Examples processed:  5000\n",
      "Total examples:  8681\n",
      "Examples processed:  0\n",
      "Total examples:  1079\n"
     ]
    }
   ],
   "source": [
    "train_near_input = docs_to_vocab_ids(train_near_tokens)\n",
    "test_near_input = docs_to_vocab_ids(test_near_tokens)\n",
    "\n",
    "train_near_labels = np.array(train_near_labels)\n",
    "test_near_labels = np.array(val_near_labels)"
   ]
  },
  {
   "cell_type": "code",
   "execution_count": 36,
   "id": "fa5098d5-7ec8-41e7-bf8b-dcc1c34a03ed",
   "metadata": {},
   "outputs": [],
   "source": [
    "# train_input[:4]"
   ]
  },
  {
   "cell_type": "code",
   "execution_count": 37,
   "id": "41cf39dd-3ed6-4f37-ade3-6dfe83757b74",
   "metadata": {},
   "outputs": [
    {
     "data": {
      "text/plain": [
       "array([0, 1, 1, 0])"
      ]
     },
     "execution_count": 37,
     "metadata": {},
     "output_type": "execute_result"
    }
   ],
   "source": [
    "train_labels[:4]"
   ]
  },
  {
   "cell_type": "code",
   "execution_count": 38,
   "id": "bfc6c5b8-2231-4046-8536-82321c9f698c",
   "metadata": {},
   "outputs": [],
   "source": [
    "def build_ann_model(num_classes, embeddings_trainable=False):\n",
    "    an_input_layer = tf.keras.layers.Input(shape=(MAX_SEQUENCE_LENGTH,), dtype='int64')\n",
    "    \n",
    "    an_embedding_layer = Embedding(embedding_matrix.shape[0],\n",
    "                                   embedding_matrix.shape[1],\n",
    "                                   embeddings_initializer=tf.keras.initializers.Constant(embedding_matrix),\n",
    "                                   input_length=MAX_SEQUENCE_LENGTH,\n",
    "                                   trainable=embeddings_trainable)\n",
    "    \n",
    "    an_embeddings = an_embedding_layer(an_input_layer)\n",
    "    \n",
    "    an_avg_embeddings = tf.keras.layers.Lambda(lambda x: K.mean(x, axis=1), name='averaging')(an_embeddings)\n",
    "    \n",
    "    an_classification = tf.keras.layers.Dense(num_classes, \n",
    "                                              activation='softmax', \n",
    "                                              name='an_classification')(an_avg_embeddings)\n",
    "    \n",
    "    an_model = tf.keras.models.Model(inputs=an_input_layer, outputs=[an_classification])\n",
    "    \n",
    "    \n",
    "    an_model.compile(loss='categorical_crossentropy',\n",
    "                     optimizer=tf.keras.optimizers.Adam(learning_rate=0.001,\n",
    "                                                        beta_1=0.9,\n",
    "                                                        beta_2=0.999,\n",
    "                                                        epsilon=1e-07,\n",
    "                                                        amsgrad=False,\n",
    "                                                        name='Adam'),\n",
    "                     metrics='accuracy')\n",
    "    return an_model"
   ]
  },
  {
   "cell_type": "code",
   "execution_count": 39,
   "id": "2ea4f3a2-00f5-4c56-b032-f05c5f1b4fb7",
   "metadata": {},
   "outputs": [
    {
     "name": "stdout",
     "output_type": "stream",
     "text": [
      "Model: \"model\"\n",
      "_________________________________________________________________\n",
      " Layer (type)                Output Shape              Param #   \n",
      "=================================================================\n",
      " input_1 (InputLayer)        [(None, 128)]             0         \n",
      "                                                                 \n",
      " embedding (Embedding)       (None, 128, 300)          13194600  \n",
      "                                                                 \n",
      " averaging (Lambda)          (None, 300)               0         \n",
      "                                                                 \n",
      " an_classification (Dense)   (None, 3)                 903       \n",
      "                                                                 \n",
      "=================================================================\n",
      "Total params: 13195503 (50.34 MB)\n",
      "Trainable params: 903 (3.53 KB)\n",
      "Non-trainable params: 13194600 (50.33 MB)\n",
      "_________________________________________________________________\n"
     ]
    }
   ],
   "source": [
    "ann_model = build_ann_model(3)\n",
    "ann_model.summary()"
   ]
  },
  {
   "cell_type": "code",
   "execution_count": null,
   "id": "a9e3d78b-0e70-437c-8d2d-738a6f90ab5f",
   "metadata": {},
   "outputs": [],
   "source": []
  },
  {
   "cell_type": "code",
   "execution_count": 40,
   "id": "77292fdc-8afb-4dc4-8756-f61e1e516679",
   "metadata": {},
   "outputs": [
    {
     "name": "stdout",
     "output_type": "stream",
     "text": [
      "Epoch 1/20\n",
      "843/843 [==============================] - 3s 3ms/step - loss: 0.9992 - accuracy: 0.5311 - val_loss: 0.9596 - val_accuracy: 0.5246\n",
      "Epoch 2/20\n",
      "843/843 [==============================] - 2s 2ms/step - loss: 0.9510 - accuracy: 0.5522 - val_loss: 0.9455 - val_accuracy: 0.5486\n",
      "Epoch 3/20\n",
      "843/843 [==============================] - 2s 2ms/step - loss: 0.9411 - accuracy: 0.5538 - val_loss: 0.9391 - val_accuracy: 0.5516\n",
      "Epoch 4/20\n",
      "843/843 [==============================] - 2s 2ms/step - loss: 0.9347 - accuracy: 0.5544 - val_loss: 0.9346 - val_accuracy: 0.5504\n",
      "Epoch 5/20\n",
      "843/843 [==============================] - 2s 2ms/step - loss: 0.9298 - accuracy: 0.5570 - val_loss: 0.9310 - val_accuracy: 0.5477\n",
      "Epoch 6/20\n",
      "843/843 [==============================] - 2s 2ms/step - loss: 0.9259 - accuracy: 0.5578 - val_loss: 0.9282 - val_accuracy: 0.5495\n",
      "Epoch 7/20\n",
      "843/843 [==============================] - 2s 2ms/step - loss: 0.9226 - accuracy: 0.5587 - val_loss: 0.9262 - val_accuracy: 0.5525\n",
      "Epoch 8/20\n",
      "843/843 [==============================] - 2s 2ms/step - loss: 0.9199 - accuracy: 0.5615 - val_loss: 0.9243 - val_accuracy: 0.5534\n",
      "Epoch 9/20\n",
      "843/843 [==============================] - 2s 2ms/step - loss: 0.9175 - accuracy: 0.5633 - val_loss: 0.9225 - val_accuracy: 0.5519\n",
      "Epoch 10/20\n",
      "843/843 [==============================] - 2s 2ms/step - loss: 0.9155 - accuracy: 0.5629 - val_loss: 0.9214 - val_accuracy: 0.5555\n",
      "Epoch 11/20\n",
      "843/843 [==============================] - 2s 2ms/step - loss: 0.9137 - accuracy: 0.5669 - val_loss: 0.9199 - val_accuracy: 0.5510\n",
      "Epoch 12/20\n",
      "843/843 [==============================] - 2s 2ms/step - loss: 0.9121 - accuracy: 0.5670 - val_loss: 0.9189 - val_accuracy: 0.5555\n",
      "Epoch 13/20\n",
      "843/843 [==============================] - 2s 2ms/step - loss: 0.9106 - accuracy: 0.5680 - val_loss: 0.9179 - val_accuracy: 0.5552\n",
      "Epoch 14/20\n",
      "843/843 [==============================] - 2s 2ms/step - loss: 0.9093 - accuracy: 0.5702 - val_loss: 0.9170 - val_accuracy: 0.5552\n",
      "Epoch 15/20\n",
      "843/843 [==============================] - 2s 2ms/step - loss: 0.9081 - accuracy: 0.5708 - val_loss: 0.9161 - val_accuracy: 0.5549\n",
      "Epoch 16/20\n",
      "843/843 [==============================] - 2s 2ms/step - loss: 0.9069 - accuracy: 0.5712 - val_loss: 0.9155 - val_accuracy: 0.5596\n",
      "Epoch 17/20\n",
      "843/843 [==============================] - 2s 2ms/step - loss: 0.9058 - accuracy: 0.5717 - val_loss: 0.9147 - val_accuracy: 0.5569\n",
      "Epoch 18/20\n",
      "843/843 [==============================] - 2s 3ms/step - loss: 0.9049 - accuracy: 0.5731 - val_loss: 0.9141 - val_accuracy: 0.5617\n",
      "Epoch 19/20\n",
      "843/843 [==============================] - 2s 2ms/step - loss: 0.9040 - accuracy: 0.5740 - val_loss: 0.9136 - val_accuracy: 0.5623\n",
      "Epoch 20/20\n",
      "843/843 [==============================] - 2s 2ms/step - loss: 0.9031 - accuracy: 0.5747 - val_loss: 0.9130 - val_accuracy: 0.5638\n"
     ]
    }
   ],
   "source": [
    "ann_history = ann_model.fit(train_input,\n",
    "                          dummy_train_y,\n",
    "                          validation_data=(test_input, dummy_valid_y),\n",
    "                          batch_size=32,\n",
    "                          epochs=20\n",
    "                          )"
   ]
  },
  {
   "cell_type": "code",
   "execution_count": 92,
   "id": "d5a38bb2-3b22-4449-868f-1a596c272873",
   "metadata": {},
   "outputs": [
    {
     "name": "stdout",
     "output_type": "stream",
     "text": [
      "843/843 [==============================] - 2s 2ms/step - loss: 1.0219 - accuracy: 0.5143\n",
      "accuracy: 51.43%\n"
     ]
    }
   ],
   "source": [
    "ann_score = ann_model.evaluate(train_input,dummy_train_y)\n",
    "print(\"%s: %.2f%%\" % (ann_model.metrics_names[1], ann_score[1]*100))"
   ]
  },
  {
   "cell_type": "code",
   "execution_count": 97,
   "id": "e4f5f5c6-8aac-45f0-b409-1ca7579ad3fd",
   "metadata": {},
   "outputs": [
    {
     "name": "stdout",
     "output_type": "stream",
     "text": [
      "53/53 [==============================] - 0s 3ms/step\n",
      "              precision    recall  f1-score   support\n",
      "\n",
      "           0       0.59      0.64      0.61      1516\n",
      "           1       0.57      0.36      0.44      1496\n",
      "           2       0.17      0.37      0.23       360\n",
      "\n",
      "    accuracy                           0.49      3372\n",
      "   macro avg       0.44      0.46      0.43      3372\n",
      "weighted avg       0.54      0.49      0.50      3372\n",
      "\n"
     ]
    }
   ],
   "source": [
    "from sklearn.metrics import classification_report\n",
    "\n",
    "y_pred = ann_model.predict(test_input, batch_size=64, verbose=1)\n",
    "y_pred_bool = np.argmax(y_pred, axis=1)\n",
    "\n",
    "print(classification_report(t_test_labels, y_pred_bool))"
   ]
  },
  {
   "cell_type": "code",
   "execution_count": null,
   "id": "23ef4ea0-9496-48af-a67c-6ee79c0174e0",
   "metadata": {},
   "outputs": [],
   "source": []
  },
  {
   "cell_type": "code",
   "execution_count": 41,
   "id": "3c0d6256-c9ae-40c9-9ea8-f7f24c5d7f2a",
   "metadata": {},
   "outputs": [
    {
     "name": "stdout",
     "output_type": "stream",
     "text": [
      "Epoch 1/20\n",
      "1135/1135 [==============================] - 3s 2ms/step - loss: 0.9437 - accuracy: 0.5530 - val_loss: 0.9591 - val_accuracy: 0.5431\n",
      "Epoch 2/20\n",
      "1135/1135 [==============================] - 3s 2ms/step - loss: 0.9419 - accuracy: 0.5546 - val_loss: 0.9582 - val_accuracy: 0.5424\n",
      "Epoch 3/20\n",
      "1135/1135 [==============================] - 2s 2ms/step - loss: 0.9408 - accuracy: 0.5538 - val_loss: 0.9577 - val_accuracy: 0.5446\n",
      "Epoch 4/20\n",
      "1135/1135 [==============================] - 3s 3ms/step - loss: 0.9399 - accuracy: 0.5547 - val_loss: 0.9568 - val_accuracy: 0.5411\n",
      "Epoch 5/20\n",
      "1135/1135 [==============================] - 3s 2ms/step - loss: 0.9389 - accuracy: 0.5554 - val_loss: 0.9561 - val_accuracy: 0.5405\n",
      "Epoch 6/20\n",
      "1135/1135 [==============================] - 3s 2ms/step - loss: 0.9380 - accuracy: 0.5559 - val_loss: 0.9556 - val_accuracy: 0.5446\n",
      "Epoch 7/20\n",
      "1135/1135 [==============================] - 2s 2ms/step - loss: 0.9373 - accuracy: 0.5572 - val_loss: 0.9550 - val_accuracy: 0.5431\n",
      "Epoch 8/20\n",
      "1135/1135 [==============================] - 2s 2ms/step - loss: 0.9365 - accuracy: 0.5567 - val_loss: 0.9544 - val_accuracy: 0.5424\n",
      "Epoch 9/20\n",
      "1135/1135 [==============================] - 3s 2ms/step - loss: 0.9358 - accuracy: 0.5579 - val_loss: 0.9539 - val_accuracy: 0.5413\n",
      "Epoch 10/20\n",
      "1135/1135 [==============================] - 3s 2ms/step - loss: 0.9350 - accuracy: 0.5583 - val_loss: 0.9533 - val_accuracy: 0.5442\n",
      "Epoch 11/20\n",
      "1135/1135 [==============================] - 3s 2ms/step - loss: 0.9344 - accuracy: 0.5589 - val_loss: 0.9529 - val_accuracy: 0.5433\n",
      "Epoch 12/20\n",
      "1135/1135 [==============================] - 2s 2ms/step - loss: 0.9337 - accuracy: 0.5588 - val_loss: 0.9524 - val_accuracy: 0.5457\n",
      "Epoch 13/20\n",
      "1135/1135 [==============================] - 2s 2ms/step - loss: 0.9331 - accuracy: 0.5592 - val_loss: 0.9521 - val_accuracy: 0.5433\n",
      "Epoch 14/20\n",
      "1135/1135 [==============================] - 3s 2ms/step - loss: 0.9325 - accuracy: 0.5602 - val_loss: 0.9516 - val_accuracy: 0.5455\n",
      "Epoch 15/20\n",
      "1135/1135 [==============================] - 3s 2ms/step - loss: 0.9319 - accuracy: 0.5609 - val_loss: 0.9511 - val_accuracy: 0.5464\n",
      "Epoch 16/20\n",
      "1135/1135 [==============================] - 3s 3ms/step - loss: 0.9314 - accuracy: 0.5607 - val_loss: 0.9508 - val_accuracy: 0.5442\n",
      "Epoch 17/20\n",
      "1135/1135 [==============================] - 3s 2ms/step - loss: 0.9309 - accuracy: 0.5619 - val_loss: 0.9504 - val_accuracy: 0.5453\n",
      "Epoch 18/20\n",
      "1135/1135 [==============================] - 3s 3ms/step - loss: 0.9303 - accuracy: 0.5619 - val_loss: 0.9500 - val_accuracy: 0.5455\n",
      "Epoch 19/20\n",
      "1135/1135 [==============================] - 3s 3ms/step - loss: 0.9298 - accuracy: 0.5620 - val_loss: 0.9497 - val_accuracy: 0.5464\n",
      "Epoch 20/20\n",
      "1135/1135 [==============================] - 3s 3ms/step - loss: 0.9293 - accuracy: 0.5625 - val_loss: 0.9495 - val_accuracy: 0.5495\n"
     ]
    }
   ],
   "source": [
    "ann_over_history = ann_model.fit(train_over_input,\n",
    "                          dummy_train_over_y,\n",
    "                          validation_data=(test_over_input, dummy_valid_over_y),\n",
    "                          batch_size=32,\n",
    "                          epochs=20\n",
    "                          )"
   ]
  },
  {
   "cell_type": "code",
   "execution_count": 42,
   "id": "d6368d6f-7fe2-4907-abac-310b2fad66e0",
   "metadata": {},
   "outputs": [
    {
     "name": "stdout",
     "output_type": "stream",
     "text": [
      "Epoch 1/20\n",
      "272/272 [==============================] - 1s 2ms/step - loss: 1.0752 - accuracy: 0.4440 - val_loss: 1.0580 - val_accuracy: 0.4417\n",
      "Epoch 2/20\n",
      "272/272 [==============================] - 1s 2ms/step - loss: 1.0319 - accuracy: 0.4648 - val_loss: 1.0484 - val_accuracy: 0.4343\n",
      "Epoch 3/20\n",
      "272/272 [==============================] - 1s 2ms/step - loss: 1.0282 - accuracy: 0.4726 - val_loss: 1.0474 - val_accuracy: 0.4454\n",
      "Epoch 4/20\n",
      "272/272 [==============================] - 1s 2ms/step - loss: 1.0277 - accuracy: 0.4756 - val_loss: 1.0469 - val_accuracy: 0.4426\n",
      "Epoch 5/20\n",
      "272/272 [==============================] - 1s 3ms/step - loss: 1.0272 - accuracy: 0.4773 - val_loss: 1.0465 - val_accuracy: 0.4444\n",
      "Epoch 6/20\n",
      "272/272 [==============================] - 1s 2ms/step - loss: 1.0269 - accuracy: 0.4792 - val_loss: 1.0460 - val_accuracy: 0.4444\n",
      "Epoch 7/20\n",
      "272/272 [==============================] - 1s 2ms/step - loss: 1.0266 - accuracy: 0.4796 - val_loss: 1.0456 - val_accuracy: 0.4435\n",
      "Epoch 8/20\n",
      "272/272 [==============================] - 1s 2ms/step - loss: 1.0263 - accuracy: 0.4793 - val_loss: 1.0452 - val_accuracy: 0.4472\n",
      "Epoch 9/20\n",
      "272/272 [==============================] - 1s 2ms/step - loss: 1.0261 - accuracy: 0.4778 - val_loss: 1.0448 - val_accuracy: 0.4472\n",
      "Epoch 10/20\n",
      "272/272 [==============================] - 1s 2ms/step - loss: 1.0258 - accuracy: 0.4804 - val_loss: 1.0445 - val_accuracy: 0.4472\n",
      "Epoch 11/20\n",
      "272/272 [==============================] - 1s 3ms/step - loss: 1.0255 - accuracy: 0.4801 - val_loss: 1.0442 - val_accuracy: 0.4500\n",
      "Epoch 12/20\n",
      "272/272 [==============================] - 1s 2ms/step - loss: 1.0253 - accuracy: 0.4798 - val_loss: 1.0439 - val_accuracy: 0.4500\n",
      "Epoch 13/20\n",
      "272/272 [==============================] - 1s 3ms/step - loss: 1.0251 - accuracy: 0.4802 - val_loss: 1.0436 - val_accuracy: 0.4481\n",
      "Epoch 14/20\n",
      "272/272 [==============================] - 1s 2ms/step - loss: 1.0249 - accuracy: 0.4810 - val_loss: 1.0434 - val_accuracy: 0.4481\n",
      "Epoch 15/20\n",
      "272/272 [==============================] - 1s 2ms/step - loss: 1.0247 - accuracy: 0.4805 - val_loss: 1.0432 - val_accuracy: 0.4463\n",
      "Epoch 16/20\n",
      "272/272 [==============================] - 1s 2ms/step - loss: 1.0245 - accuracy: 0.4812 - val_loss: 1.0429 - val_accuracy: 0.4472\n",
      "Epoch 17/20\n",
      "272/272 [==============================] - 1s 2ms/step - loss: 1.0243 - accuracy: 0.4816 - val_loss: 1.0428 - val_accuracy: 0.4463\n",
      "Epoch 18/20\n",
      "272/272 [==============================] - 1s 3ms/step - loss: 1.0241 - accuracy: 0.4810 - val_loss: 1.0425 - val_accuracy: 0.4454\n",
      "Epoch 19/20\n",
      "272/272 [==============================] - 1s 3ms/step - loss: 1.0239 - accuracy: 0.4811 - val_loss: 1.0424 - val_accuracy: 0.4463\n",
      "Epoch 20/20\n",
      "272/272 [==============================] - 1s 2ms/step - loss: 1.0237 - accuracy: 0.4812 - val_loss: 1.0422 - val_accuracy: 0.4454\n"
     ]
    }
   ],
   "source": [
    "ann_near_history = ann_model.fit(train_near_input,\n",
    "                          dummy_train_near_y,\n",
    "                          validation_data=(test_near_input, dummy_valid_near_y),\n",
    "                          batch_size=32,\n",
    "                          epochs=20\n",
    "                          )"
   ]
  },
  {
   "cell_type": "code",
   "execution_count": 43,
   "id": "bb9500ff-85a5-4224-9c9d-9bdaf63d3619",
   "metadata": {},
   "outputs": [],
   "source": [
    "# 4-window plot of loss and accuracy for two models, for comparison\n",
    "\n",
    "def make_plot(axs,\n",
    "              model_history1, \n",
    "              model_history2, \n",
    "              model_history3,\n",
    "              model_1_name='model 1',\n",
    "              model_2_name='model 2',\n",
    "              model_3_name='model 3',\n",
    "              ):\n",
    "    box = dict(facecolor='yellow', pad=5, alpha=0.2)\n",
    "\n",
    "    for i, metric in enumerate(['loss', 'accuracy']):\n",
    "        y_lim_lower1 = np.min(model_history1.history[metric])\n",
    "        y_lim_lower2 = np.min(model_history2.history[metric])\n",
    "        y_lim_lower = min(y_lim_lower1, y_lim_lower2) * 0.9\n",
    "\n",
    "        y_lim_upper1 = np.max(model_history1.history[metric])\n",
    "        y_lim_upper2 = np.max(model_history2.history[metric])\n",
    "        y_lim_upper = max(y_lim_upper1, y_lim_upper2) * 1.1\n",
    "\n",
    "        for j, model_history in enumerate([model_history1, model_history2, model_history3]):\n",
    "            model_name = [model_1_name, model_2_name, model_3_name][j]\n",
    "            ax1 = axs[i, j]\n",
    "            ax1.plot(model_history.history[metric])\n",
    "            ax1.plot(model_history.history['val_%s' % metric])\n",
    "            ax1.set_title('%s - %s' % (metric, model_name))\n",
    "            ax1.set_ylabel(metric, bbox=box)\n",
    "            ax1.set_ylim(y_lim_lower, y_lim_upper)"
   ]
  },
  {
   "cell_type": "code",
   "execution_count": 49,
   "id": "96525781-d405-4e70-973a-82d279d8a699",
   "metadata": {},
   "outputs": [
    {
     "data": {
      "image/png": "[encoded data removed]",
      "text/plain": [
       "<Figure size 1332x756 with 6 Axes>"
      ]
     },
     "metadata": {
      "needs_background": "light"
     },
     "output_type": "display_data"
    }
   ],
   "source": [
    "fig, axs = plt.subplots(2, 3)\n",
    "fig.subplots_adjust(left=0.2, wspace=0.6)\n",
    "make_plot(axs,\n",
    "          ann_history,\n",
    "          ann_over_history,\n",
    "          ann_near_history,\n",
    "          model_1_name='ann',\n",
    "          model_2_name='over',\n",
    "          model_3_name='near')\n",
    "\n",
    "fig.align_ylabels(axs[:, 1])\n",
    "fig.set_size_inches(18.5, 10.5)\n",
    "plt.show()"
   ]
  },
  {
   "cell_type": "code",
   "execution_count": 50,
   "id": "db342d0a-dc41-494f-8b61-0f57bdf2bfc1",
   "metadata": {},
   "outputs": [],
   "source": [
    "def build_dan_model(num_classes, hidden_layer_dims, dropout_rate, embeddings_trainable=False):\n",
    "    dan_input_layer = tf.keras.layers.Input(shape=(MAX_SEQUENCE_LENGTH,), dtype='int64')\n",
    "    dan_embedding_layer = Embedding(embedding_matrix.shape[0],\n",
    "                                    embedding_matrix.shape[1],\n",
    "                                    embeddings_initializer=tf.keras.initializers.Constant(embedding_matrix),\n",
    "                                    input_length=MAX_SEQUENCE_LENGTH,\n",
    "                                    trainable=embeddings_trainable)\n",
    "    dan_embeddings = dan_embedding_layer(dan_input_layer)\n",
    "    dan_avg_embeddings = tf.keras.layers.Lambda(lambda x: K.mean(x, axis=1),\n",
    "                                                name='averaging')(dan_embeddings)\n",
    "    last_hidden_output = dan_avg_embeddings\n",
    "\n",
    "    for i, h_dim in enumerate(hidden_layer_dims):\n",
    "        last_hidden_output = tf.keras.layers.Dense(h_dim, activation='relu',\n",
    "                                                   name='dan_hidden_%d' % i)(last_hidden_output)\n",
    "        last_hidden_output = tf.keras.layers.Dropout(dropout_rate)(last_hidden_output)\n",
    "    \n",
    "    dan_classification = tf.keras.layers.Dense(3,\n",
    "                                               activation='softmax',\n",
    "                                               name='dan_classification')(last_hidden_output)\n",
    "    \n",
    "    dan_model = tf.keras.models.Model(inputs=dan_input_layer, outputs=[dan_classification])\n",
    "    dan_model.compile(loss='categorical_crossentropy',\n",
    "                      optimizer=tf.keras.optimizers.Adam(learning_rate=0.001,\n",
    "                                                         beta_1=0.9,\n",
    "                                                         beta_2=0.999,\n",
    "                                                         epsilon=1e-07,\n",
    "                                                         amsgrad=False,\n",
    "                                                         name='Adam'),\n",
    "                      metrics='accuracy')\n",
    "    return dan_model"
   ]
  },
  {
   "cell_type": "code",
   "execution_count": 51,
   "id": "88b1dbdc-7d68-4ddc-811b-df497228e3d3",
   "metadata": {},
   "outputs": [
    {
     "name": "stderr",
     "output_type": "stream",
     "text": [
      "python(91816) MallocStackLogging: can't turn off malloc stack logging because it was not enabled.\n",
      "python(91817) MallocStackLogging: can't turn off malloc stack logging because it was not enabled.\n"
     ]
    },
    {
     "data": {
      "image/png": "[encoded data removed]",
      "text/plain": [
       "<IPython.core.display.Image object>"
      ]
     },
     "execution_count": 51,
     "metadata": {},
     "output_type": "execute_result"
    }
   ],
   "source": [
    "# Now call our function to create a DAN model, and show the model diagram\n",
    "\n",
    "hidden_layer_sizes = [100, 50]\n",
    "dropout_rate = 0.5\n",
    "num_classes = 3\n",
    "\n",
    "dan_model = build_dan_model(num_classes, hidden_layer_sizes, dropout_rate)\n",
    "keras.utils.plot_model(dan_model, show_shapes=True, dpi=90)"
   ]
  },
  {
   "cell_type": "code",
   "execution_count": 52,
   "id": "a1ce137f-951d-44f5-b6cd-b725a28b3e3d",
   "metadata": {},
   "outputs": [
    {
     "name": "stdout",
     "output_type": "stream",
     "text": [
      "Epoch 1/20\n",
      "843/843 [==============================] - 3s 3ms/step - loss: 0.9513 - accuracy: 0.5116 - val_loss: 0.9160 - val_accuracy: 0.5552\n",
      "Epoch 2/20\n",
      "843/843 [==============================] - 2s 3ms/step - loss: 0.9085 - accuracy: 0.5682 - val_loss: 0.9021 - val_accuracy: 0.5676\n",
      "Epoch 3/20\n",
      "843/843 [==============================] - 2s 3ms/step - loss: 0.8952 - accuracy: 0.5834 - val_loss: 0.8987 - val_accuracy: 0.5626\n",
      "Epoch 4/20\n",
      "843/843 [==============================] - 2s 2ms/step - loss: 0.8872 - accuracy: 0.5839 - val_loss: 0.8903 - val_accuracy: 0.5730\n",
      "Epoch 5/20\n",
      "843/843 [==============================] - 2s 3ms/step - loss: 0.8813 - accuracy: 0.5889 - val_loss: 0.8874 - val_accuracy: 0.5777\n",
      "Epoch 6/20\n",
      "843/843 [==============================] - 2s 3ms/step - loss: 0.8789 - accuracy: 0.5889 - val_loss: 0.8843 - val_accuracy: 0.5741\n",
      "Epoch 7/20\n",
      "843/843 [==============================] - 2s 3ms/step - loss: 0.8755 - accuracy: 0.5907 - val_loss: 0.8855 - val_accuracy: 0.5750\n",
      "Epoch 8/20\n",
      "843/843 [==============================] - 2s 2ms/step - loss: 0.8710 - accuracy: 0.5959 - val_loss: 0.8832 - val_accuracy: 0.5780\n",
      "Epoch 9/20\n",
      "843/843 [==============================] - 2s 3ms/step - loss: 0.8715 - accuracy: 0.5946 - val_loss: 0.8841 - val_accuracy: 0.5724\n",
      "Epoch 10/20\n",
      "843/843 [==============================] - 2s 2ms/step - loss: 0.8717 - accuracy: 0.5930 - val_loss: 0.8803 - val_accuracy: 0.5750\n",
      "Epoch 11/20\n",
      "843/843 [==============================] - 2s 3ms/step - loss: 0.8656 - accuracy: 0.5985 - val_loss: 0.8807 - val_accuracy: 0.5697\n",
      "Epoch 12/20\n",
      "843/843 [==============================] - 2s 3ms/step - loss: 0.8677 - accuracy: 0.5979 - val_loss: 0.8777 - val_accuracy: 0.5813\n",
      "Epoch 13/20\n",
      "843/843 [==============================] - 2s 3ms/step - loss: 0.8667 - accuracy: 0.5973 - val_loss: 0.8787 - val_accuracy: 0.5810\n",
      "Epoch 14/20\n",
      "843/843 [==============================] - 3s 3ms/step - loss: 0.8654 - accuracy: 0.5974 - val_loss: 0.8775 - val_accuracy: 0.5792\n",
      "Epoch 15/20\n",
      "843/843 [==============================] - 2s 3ms/step - loss: 0.8641 - accuracy: 0.6010 - val_loss: 0.8875 - val_accuracy: 0.5691\n",
      "Epoch 16/20\n",
      "843/843 [==============================] - 2s 2ms/step - loss: 0.8620 - accuracy: 0.6001 - val_loss: 0.8809 - val_accuracy: 0.5697\n",
      "Epoch 17/20\n",
      "843/843 [==============================] - 2s 3ms/step - loss: 0.8630 - accuracy: 0.5995 - val_loss: 0.8770 - val_accuracy: 0.5798\n",
      "Epoch 18/20\n",
      "843/843 [==============================] - 2s 2ms/step - loss: 0.8632 - accuracy: 0.5996 - val_loss: 0.8756 - val_accuracy: 0.5804\n",
      "Epoch 19/20\n",
      "843/843 [==============================] - 2s 3ms/step - loss: 0.8619 - accuracy: 0.6009 - val_loss: 0.8775 - val_accuracy: 0.5756\n",
      "Epoch 20/20\n",
      "843/843 [==============================] - 2s 2ms/step - loss: 0.8599 - accuracy: 0.6031 - val_loss: 0.8810 - val_accuracy: 0.5753\n"
     ]
    }
   ],
   "source": [
    "dan_history = dan_model.fit(train_input,\n",
    "                          dummy_train_y,\n",
    "                          validation_data=(test_input, dummy_valid_y),\n",
    "                          batch_size=32,\n",
    "                          epochs=20\n",
    "                            )"
   ]
  },
  {
   "cell_type": "code",
   "execution_count": 99,
   "id": "bc9b26b3-774b-49fc-834b-946896e5a7d6",
   "metadata": {},
   "outputs": [
    {
     "name": "stdout",
     "output_type": "stream",
     "text": [
      "843/843 [==============================] - 2s 2ms/step - loss: 0.8999 - accuracy: 0.5615\n",
      "accuracy: 56.15%\n",
      "53/53 [==============================] - 0s 3ms/step\n",
      "              precision    recall  f1-score   support\n",
      "\n",
      "           0       0.64      0.53      0.58      1516\n",
      "           1       0.56      0.47      0.51      1496\n",
      "           2       0.19      0.45      0.27       360\n",
      "\n",
      "    accuracy                           0.50      3372\n",
      "   macro avg       0.46      0.49      0.45      3372\n",
      "weighted avg       0.56      0.50      0.52      3372\n",
      "\n"
     ]
    }
   ],
   "source": [
    "dan_score = dan_model.evaluate(train_input,dummy_train_y)\n",
    "print(\"%s: %.2f%%\" % (dan_model.metrics_names[1], dan_score[1]*100))\n",
    "\n",
    "y_pred = dan_model.predict(test_input, batch_size=64, verbose=1)\n",
    "y_pred_bool = np.argmax(y_pred, axis=1)\n",
    "\n",
    "print(classification_report(t_test_labels, y_pred_bool))"
   ]
  },
  {
   "cell_type": "code",
   "execution_count": 53,
   "id": "87c9bea3-967c-45e6-8f67-e61978a22012",
   "metadata": {},
   "outputs": [
    {
     "name": "stdout",
     "output_type": "stream",
     "text": [
      "Epoch 1/20\n",
      "1135/1135 [==============================] - 3s 3ms/step - loss: 0.8977 - accuracy: 0.5798 - val_loss: 0.9218 - val_accuracy: 0.5613\n",
      "Epoch 2/20\n",
      "1135/1135 [==============================] - 3s 3ms/step - loss: 0.8958 - accuracy: 0.5799 - val_loss: 0.9233 - val_accuracy: 0.5607\n",
      "Epoch 3/20\n",
      "1135/1135 [==============================] - 3s 3ms/step - loss: 0.8929 - accuracy: 0.5805 - val_loss: 0.9209 - val_accuracy: 0.5609\n",
      "Epoch 4/20\n",
      "1135/1135 [==============================] - 3s 3ms/step - loss: 0.8927 - accuracy: 0.5798 - val_loss: 0.9205 - val_accuracy: 0.5605\n",
      "Epoch 5/20\n",
      "1135/1135 [==============================] - 3s 3ms/step - loss: 0.8921 - accuracy: 0.5805 - val_loss: 0.9226 - val_accuracy: 0.5583\n",
      "Epoch 6/20\n",
      "1135/1135 [==============================] - 3s 3ms/step - loss: 0.8892 - accuracy: 0.5801 - val_loss: 0.9224 - val_accuracy: 0.5635\n",
      "Epoch 7/20\n",
      "1135/1135 [==============================] - 3s 3ms/step - loss: 0.8895 - accuracy: 0.5835 - val_loss: 0.9228 - val_accuracy: 0.5635\n",
      "Epoch 8/20\n",
      "1135/1135 [==============================] - 3s 3ms/step - loss: 0.8868 - accuracy: 0.5822 - val_loss: 0.9229 - val_accuracy: 0.5534\n",
      "Epoch 9/20\n",
      "1135/1135 [==============================] - 3s 3ms/step - loss: 0.8841 - accuracy: 0.5844 - val_loss: 0.9244 - val_accuracy: 0.5666\n",
      "Epoch 10/20\n",
      "1135/1135 [==============================] - 3s 3ms/step - loss: 0.8820 - accuracy: 0.5841 - val_loss: 0.9205 - val_accuracy: 0.5627\n",
      "Epoch 11/20\n",
      "1135/1135 [==============================] - 3s 3ms/step - loss: 0.8840 - accuracy: 0.5844 - val_loss: 0.9233 - val_accuracy: 0.5594\n",
      "Epoch 12/20\n",
      "1135/1135 [==============================] - 3s 3ms/step - loss: 0.8801 - accuracy: 0.5829 - val_loss: 0.9292 - val_accuracy: 0.5519\n",
      "Epoch 13/20\n",
      "1135/1135 [==============================] - 3s 3ms/step - loss: 0.8802 - accuracy: 0.5867 - val_loss: 0.9227 - val_accuracy: 0.5554\n",
      "Epoch 14/20\n",
      "1135/1135 [==============================] - 3s 2ms/step - loss: 0.8789 - accuracy: 0.5860 - val_loss: 0.9272 - val_accuracy: 0.5583\n",
      "Epoch 15/20\n",
      "1135/1135 [==============================] - 3s 3ms/step - loss: 0.8776 - accuracy: 0.5889 - val_loss: 0.9227 - val_accuracy: 0.5587\n",
      "Epoch 16/20\n",
      "1135/1135 [==============================] - 3s 3ms/step - loss: 0.8772 - accuracy: 0.5869 - val_loss: 0.9225 - val_accuracy: 0.5627\n",
      "Epoch 17/20\n",
      "1135/1135 [==============================] - 3s 2ms/step - loss: 0.8752 - accuracy: 0.5891 - val_loss: 0.9229 - val_accuracy: 0.5633\n",
      "Epoch 18/20\n",
      "1135/1135 [==============================] - 3s 3ms/step - loss: 0.8728 - accuracy: 0.5883 - val_loss: 0.9257 - val_accuracy: 0.5583\n",
      "Epoch 19/20\n",
      "1135/1135 [==============================] - 3s 3ms/step - loss: 0.8731 - accuracy: 0.5893 - val_loss: 0.9223 - val_accuracy: 0.5596\n",
      "Epoch 20/20\n",
      "1135/1135 [==============================] - 3s 2ms/step - loss: 0.8700 - accuracy: 0.5907 - val_loss: 0.9221 - val_accuracy: 0.5646\n"
     ]
    }
   ],
   "source": [
    "dan_over_history = dan_model.fit(train_over_input,\n",
    "                          dummy_train_over_y,\n",
    "                          validation_data=(test_over_input, dummy_valid_over_y),\n",
    "                          batch_size=32,\n",
    "                          epochs=20\n",
    "                          )"
   ]
  },
  {
   "cell_type": "code",
   "execution_count": 54,
   "id": "1bfd4899-0cb7-4c82-b7fa-6b6a574689ec",
   "metadata": {},
   "outputs": [
    {
     "name": "stdout",
     "output_type": "stream",
     "text": [
      "Epoch 1/20\n",
      "272/272 [==============================] - 1s 3ms/step - loss: 0.9718 - accuracy: 0.5036 - val_loss: 1.0024 - val_accuracy: 0.4963\n",
      "Epoch 2/20\n",
      "272/272 [==============================] - 1s 3ms/step - loss: 0.9561 - accuracy: 0.5299 - val_loss: 0.9987 - val_accuracy: 0.5065\n",
      "Epoch 3/20\n",
      "272/272 [==============================] - 1s 3ms/step - loss: 0.9594 - accuracy: 0.5328 - val_loss: 0.9911 - val_accuracy: 0.5019\n",
      "Epoch 4/20\n",
      "272/272 [==============================] - 1s 3ms/step - loss: 0.9470 - accuracy: 0.5392 - val_loss: 0.9925 - val_accuracy: 0.5046\n",
      "Epoch 5/20\n",
      "272/272 [==============================] - 1s 3ms/step - loss: 0.9461 - accuracy: 0.5461 - val_loss: 0.9960 - val_accuracy: 0.5019\n",
      "Epoch 6/20\n",
      "272/272 [==============================] - 1s 3ms/step - loss: 0.9487 - accuracy: 0.5422 - val_loss: 0.9934 - val_accuracy: 0.5130\n",
      "Epoch 7/20\n",
      "272/272 [==============================] - 1s 3ms/step - loss: 0.9406 - accuracy: 0.5431 - val_loss: 1.0149 - val_accuracy: 0.4963\n",
      "Epoch 8/20\n",
      "272/272 [==============================] - 1s 3ms/step - loss: 0.9408 - accuracy: 0.5472 - val_loss: 0.9911 - val_accuracy: 0.5074\n",
      "Epoch 9/20\n",
      "272/272 [==============================] - 1s 4ms/step - loss: 0.9418 - accuracy: 0.5456 - val_loss: 0.9927 - val_accuracy: 0.5028\n",
      "Epoch 10/20\n",
      "272/272 [==============================] - 1s 3ms/step - loss: 0.9375 - accuracy: 0.5442 - val_loss: 0.9897 - val_accuracy: 0.5046\n",
      "Epoch 11/20\n",
      "272/272 [==============================] - 1s 3ms/step - loss: 0.9379 - accuracy: 0.5477 - val_loss: 1.0024 - val_accuracy: 0.5065\n",
      "Epoch 12/20\n",
      "272/272 [==============================] - 1s 3ms/step - loss: 0.9304 - accuracy: 0.5510 - val_loss: 0.9952 - val_accuracy: 0.5000\n",
      "Epoch 13/20\n",
      "272/272 [==============================] - 1s 3ms/step - loss: 0.9353 - accuracy: 0.5541 - val_loss: 0.9946 - val_accuracy: 0.5056\n",
      "Epoch 14/20\n",
      "272/272 [==============================] - 1s 3ms/step - loss: 0.9317 - accuracy: 0.5546 - val_loss: 0.9916 - val_accuracy: 0.4944\n",
      "Epoch 15/20\n",
      "272/272 [==============================] - 1s 3ms/step - loss: 0.9270 - accuracy: 0.5561 - val_loss: 0.9968 - val_accuracy: 0.4972\n",
      "Epoch 16/20\n",
      "272/272 [==============================] - 1s 3ms/step - loss: 0.9286 - accuracy: 0.5544 - val_loss: 1.0008 - val_accuracy: 0.5037\n",
      "Epoch 17/20\n",
      "272/272 [==============================] - 1s 3ms/step - loss: 0.9301 - accuracy: 0.5569 - val_loss: 0.9908 - val_accuracy: 0.5009\n",
      "Epoch 18/20\n",
      "272/272 [==============================] - 1s 3ms/step - loss: 0.9287 - accuracy: 0.5536 - val_loss: 0.9925 - val_accuracy: 0.5065\n",
      "Epoch 19/20\n",
      "272/272 [==============================] - 1s 3ms/step - loss: 0.9299 - accuracy: 0.5557 - val_loss: 0.9946 - val_accuracy: 0.4981\n",
      "Epoch 20/20\n",
      "272/272 [==============================] - 1s 3ms/step - loss: 0.9191 - accuracy: 0.5655 - val_loss: 1.0002 - val_accuracy: 0.4898\n"
     ]
    }
   ],
   "source": [
    "dan_near_history = dan_model.fit(train_near_input,\n",
    "                          dummy_train_near_y,\n",
    "                          validation_data=(test_near_input, dummy_valid_near_y),\n",
    "                          batch_size=32,\n",
    "                          epochs=20\n",
    "                          )"
   ]
  },
  {
   "cell_type": "code",
   "execution_count": 55,
   "id": "1864b262-ffa4-4631-b11b-45211832d8b1",
   "metadata": {},
   "outputs": [
    {
     "data": {
      "image/png": "[encoded data removed]",
      "text/plain": [
       "<Figure size 1332x756 with 6 Axes>"
      ]
     },
     "metadata": {
      "needs_background": "light"
     },
     "output_type": "display_data"
    }
   ],
   "source": [
    "fig, axs = plt.subplots(2, 3)\n",
    "fig.subplots_adjust(left=0.2, wspace=0.6)\n",
    "make_plot(axs,\n",
    "          dan_history,\n",
    "          dan_over_history,\n",
    "          dan_near_history,\n",
    "          model_1_name='dan',\n",
    "          model_2_name='over',\n",
    "          model_3_name='near')\n",
    "\n",
    "fig.align_ylabels(axs[:, 1])\n",
    "fig.set_size_inches(18.5, 10.5)\n",
    "plt.show()"
   ]
  },
  {
   "cell_type": "markdown",
   "id": "5977538a-c9e5-4bce-b2ef-29c2ae4f083d",
   "metadata": {},
   "source": [
    "# CNN"
   ]
  },
  {
   "cell_type": "code",
   "execution_count": 56,
   "id": "92ac0616-a198-4eb3-a7d4-13d85c688552",
   "metadata": {},
   "outputs": [],
   "source": [
    "def build_cnn_model(num_classes, num_filters, kernel_sizes, dense_layer_dims, dropout_rate, embeddings_trainable=False):\n",
    "    cnn_input_layer = tf.keras.layers.Input(shape=(MAX_SEQUENCE_LENGTH,), dtype='int64')\n",
    "    cnn_embedding_layer = Embedding(embedding_matrix.shape[0],\n",
    "                                    embedding_matrix.shape[1],\n",
    "                                    embeddings_initializer=tf.keras.initializers.Constant(embedding_matrix),\n",
    "                                    input_length=MAX_SEQUENCE_LENGTH,\n",
    "                                    trainable=embeddings_trainable)\n",
    "    cnn_embeddings = cnn_embedding_layer(cnn_input_layer)\n",
    "\n",
    "    conv_layers_for_all_kernel_sizes = []\n",
    "    for kernel_size, filters in zip(kernel_sizes, num_filters):\n",
    "        conv_layer = keras.layers.Conv1D(filters=filters, kernel_size=kernel_size, activation='relu')(cnn_embeddings)\n",
    "        conv_layer = keras.layers.GlobalMaxPooling1D()(conv_layer)\n",
    "        conv_layers_for_all_kernel_sizes.append(conv_layer)\n",
    "    \n",
    "    conv_output = keras.layers.concatenate(conv_layers_for_all_kernel_sizes, axis=1)\n",
    "    last_hidden_output = keras.layers.Dropout(rate=dropout_rate)(conv_output)\n",
    "\n",
    "    for dense_layer_dim in dense_layer_dims:\n",
    "        last_hidden_output = keras.layers.Dense(dense_layer_dim, activation='relu')(last_hidden_output)\n",
    "    \n",
    "    cnn_prediction = keras.layers.Dense(num_classes, activation='softmax')(last_hidden_output)\n",
    "\n",
    "    cnn_model = keras.Model(inputs=cnn_input_layer, outputs=cnn_prediction)\n",
    "    cnn_model.compile(optimizer='adam',\n",
    "                      loss='categorical_crossentropy',  # From information theory notebooks.\n",
    "                      metrics=['accuracy'])\n",
    "    return cnn_model"
   ]
  },
  {
   "cell_type": "code",
   "execution_count": 57,
   "id": "d4347f8e-ee85-45cb-b80b-b86d86b11fc3",
   "metadata": {},
   "outputs": [],
   "source": [
    "# Now specify model hyperparameters and call the function to create a CNN model\n",
    "\n",
    "num_classes = 3\n",
    "num_filters = [100, 100, 50, 25]\n",
    "kernel_sizes = [3, 4, 5, 10]\n",
    "dense_layer_dims = [100, 50]\n",
    "dropout_rate = 0.5\n",
    "\n",
    "cnn_model = build_cnn_model(num_classes, num_filters, kernel_sizes, dense_layer_dims, dropout_rate)"
   ]
  },
  {
   "cell_type": "code",
   "execution_count": 58,
   "id": "bed01dff-3971-4067-97bc-e97088d8b210",
   "metadata": {},
   "outputs": [
    {
     "name": "stdout",
     "output_type": "stream",
     "text": [
      "Model: \"model_2\"\n",
      "__________________________________________________________________________________________________\n",
      " Layer (type)                Output Shape                 Param #   Connected to                  \n",
      "==================================================================================================\n",
      " input_3 (InputLayer)        [(None, 128)]                0         []                            \n",
      "                                                                                                  \n",
      " embedding_2 (Embedding)     (None, 128, 300)             1319460   ['input_3[0][0]']             \n",
      "                                                          0                                       \n",
      "                                                                                                  \n",
      " conv1d (Conv1D)             (None, 126, 100)             90100     ['embedding_2[0][0]']         \n",
      "                                                                                                  \n",
      " conv1d_1 (Conv1D)           (None, 125, 100)             120100    ['embedding_2[0][0]']         \n",
      "                                                                                                  \n",
      " conv1d_2 (Conv1D)           (None, 124, 50)              75050     ['embedding_2[0][0]']         \n",
      "                                                                                                  \n",
      " conv1d_3 (Conv1D)           (None, 119, 25)              75025     ['embedding_2[0][0]']         \n",
      "                                                                                                  \n",
      " global_max_pooling1d (Glob  (None, 100)                  0         ['conv1d[0][0]']              \n",
      " alMaxPooling1D)                                                                                  \n",
      "                                                                                                  \n",
      " global_max_pooling1d_1 (Gl  (None, 100)                  0         ['conv1d_1[0][0]']            \n",
      " obalMaxPooling1D)                                                                                \n",
      "                                                                                                  \n",
      " global_max_pooling1d_2 (Gl  (None, 50)                   0         ['conv1d_2[0][0]']            \n",
      " obalMaxPooling1D)                                                                                \n",
      "                                                                                                  \n",
      " global_max_pooling1d_3 (Gl  (None, 25)                   0         ['conv1d_3[0][0]']            \n",
      " obalMaxPooling1D)                                                                                \n",
      "                                                                                                  \n",
      " concatenate (Concatenate)   (None, 275)                  0         ['global_max_pooling1d[0][0]',\n",
      "                                                                     'global_max_pooling1d_1[0][0]\n",
      "                                                                    ',                            \n",
      "                                                                     'global_max_pooling1d_2[0][0]\n",
      "                                                                    ',                            \n",
      "                                                                     'global_max_pooling1d_3[0][0]\n",
      "                                                                    ']                            \n",
      "                                                                                                  \n",
      " dropout_2 (Dropout)         (None, 275)                  0         ['concatenate[0][0]']         \n",
      "                                                                                                  \n",
      " dense (Dense)               (None, 100)                  27600     ['dropout_2[0][0]']           \n",
      "                                                                                                  \n",
      " dense_1 (Dense)             (None, 50)                   5050      ['dense[0][0]']               \n",
      "                                                                                                  \n",
      " dense_2 (Dense)             (None, 3)                    153       ['dense_1[0][0]']             \n",
      "                                                                                                  \n",
      "==================================================================================================\n",
      "Total params: 13587678 (51.83 MB)\n",
      "Trainable params: 393078 (1.50 MB)\n",
      "Non-trainable params: 13194600 (50.33 MB)\n",
      "__________________________________________________________________________________________________\n"
     ]
    }
   ],
   "source": [
    "cnn_model.summary()"
   ]
  },
  {
   "cell_type": "code",
   "execution_count": 59,
   "id": "bf07ab1d-4da5-43e8-844f-4a16da7ca074",
   "metadata": {},
   "outputs": [
    {
     "name": "stdout",
     "output_type": "stream",
     "text": [
      "Epoch 1/5\n",
      "843/843 [==============================] - 60s 70ms/step - loss: 0.8996 - accuracy: 0.5722 - val_loss: 0.8864 - val_accuracy: 0.5727\n",
      "Epoch 2/5\n",
      "843/843 [==============================] - 56s 67ms/step - loss: 0.8497 - accuracy: 0.6085 - val_loss: 0.8742 - val_accuracy: 0.5827\n",
      "Epoch 3/5\n",
      "843/843 [==============================] - 59s 70ms/step - loss: 0.8125 - accuracy: 0.6241 - val_loss: 0.8729 - val_accuracy: 0.5824\n",
      "Epoch 4/5\n",
      "843/843 [==============================] - 57s 68ms/step - loss: 0.7643 - accuracy: 0.6498 - val_loss: 0.8868 - val_accuracy: 0.5931\n",
      "Epoch 5/5\n",
      "843/843 [==============================] - 55s 65ms/step - loss: 0.7122 - accuracy: 0.6812 - val_loss: 0.8974 - val_accuracy: 0.5875\n"
     ]
    }
   ],
   "source": [
    "cnn_history = cnn_model.fit(train_input,\n",
    "                          dummy_train_y,\n",
    "                          validation_data=(test_input, dummy_valid_y),\n",
    "                          batch_size=32,\n",
    "                          epochs=5\n",
    "                            )"
   ]
  },
  {
   "cell_type": "code",
   "execution_count": 100,
   "id": "392f4daa-5ae6-4e79-a4e0-0e01fa131feb",
   "metadata": {},
   "outputs": [
    {
     "name": "stdout",
     "output_type": "stream",
     "text": [
      "843/843 [==============================] - 13s 15ms/step - loss: 0.1060 - accuracy: 0.9634\n",
      "accuracy: 96.34%\n",
      "53/53 [==============================] - 2s 27ms/step\n",
      "              precision    recall  f1-score   support\n",
      "\n",
      "           0       0.63      0.53      0.58      1516\n",
      "           1       0.56      0.59      0.57      1496\n",
      "           2       0.22      0.30      0.25       360\n",
      "\n",
      "    accuracy                           0.53      3372\n",
      "   macro avg       0.47      0.47      0.47      3372\n",
      "weighted avg       0.55      0.53      0.54      3372\n",
      "\n"
     ]
    }
   ],
   "source": [
    "cnn_score = cnn_model.evaluate(train_input,dummy_train_y)\n",
    "print(\"%s: %.2f%%\" % (cnn_model.metrics_names[1], cnn_score[1]*100))\n",
    "\n",
    "y_pred = cnn_model.predict(test_input, batch_size=64, verbose=1)\n",
    "y_pred_bool = np.argmax(y_pred, axis=1)\n",
    "\n",
    "print(classification_report(t_test_labels, y_pred_bool))"
   ]
  },
  {
   "cell_type": "code",
   "execution_count": 62,
   "id": "764107bd-7ff8-4d9d-bda4-617f6e9b05f7",
   "metadata": {},
   "outputs": [
    {
     "name": "stdout",
     "output_type": "stream",
     "text": [
      "Epoch 1/5\n",
      "1135/1135 [==============================] - 79s 69ms/step - loss: 0.2822 - accuracy: 0.8898 - val_loss: 1.3135 - val_accuracy: 0.5550\n",
      "Epoch 2/5\n",
      "1135/1135 [==============================] - 73s 64ms/step - loss: 0.2691 - accuracy: 0.8939 - val_loss: 1.4056 - val_accuracy: 0.5460\n",
      "Epoch 3/5\n",
      "1135/1135 [==============================] - 77s 68ms/step - loss: 0.2511 - accuracy: 0.9015 - val_loss: 1.4299 - val_accuracy: 0.5466\n",
      "Epoch 4/5\n",
      "1135/1135 [==============================] - 79s 70ms/step - loss: 0.2452 - accuracy: 0.9055 - val_loss: 1.4133 - val_accuracy: 0.5365\n",
      "Epoch 5/5\n",
      "1135/1135 [==============================] - 81s 71ms/step - loss: 0.2299 - accuracy: 0.9113 - val_loss: 1.5060 - val_accuracy: 0.5413\n"
     ]
    }
   ],
   "source": [
    "cnn_over_history = cnn_model.fit(train_over_input,\n",
    "                          dummy_train_over_y,\n",
    "                          validation_data=(test_over_input, dummy_valid_over_y),\n",
    "                          batch_size=32,\n",
    "                          epochs=5\n",
    "                          )"
   ]
  },
  {
   "cell_type": "code",
   "execution_count": 63,
   "id": "36fa9e49-c3df-4b74-b075-779863419cea",
   "metadata": {},
   "outputs": [
    {
     "name": "stdout",
     "output_type": "stream",
     "text": [
      "Epoch 1/5\n",
      "272/272 [==============================] - 19s 68ms/step - loss: 0.2177 - accuracy: 0.9155 - val_loss: 1.8207 - val_accuracy: 0.4639\n",
      "Epoch 2/5\n",
      "272/272 [==============================] - 20s 74ms/step - loss: 0.1823 - accuracy: 0.9304 - val_loss: 1.8472 - val_accuracy: 0.4648\n",
      "Epoch 3/5\n",
      "272/272 [==============================] - 18s 66ms/step - loss: 0.1617 - accuracy: 0.9386 - val_loss: 1.9336 - val_accuracy: 0.4750\n",
      "Epoch 4/5\n",
      "272/272 [==============================] - 20s 74ms/step - loss: 0.1503 - accuracy: 0.9430 - val_loss: 1.7673 - val_accuracy: 0.4704\n",
      "Epoch 5/5\n",
      "272/272 [==============================] - 19s 72ms/step - loss: 0.1393 - accuracy: 0.9479 - val_loss: 1.9025 - val_accuracy: 0.4778\n"
     ]
    }
   ],
   "source": [
    "cnn_near_history = cnn_model.fit(train_near_input,\n",
    "                          dummy_train_near_y,\n",
    "                          validation_data=(test_near_input, dummy_valid_near_y),\n",
    "                          batch_size=32,\n",
    "                          epochs=5\n",
    "                          )"
   ]
  },
  {
   "cell_type": "code",
   "execution_count": 64,
   "id": "d32313b9-815c-471d-a033-b2c56583368d",
   "metadata": {},
   "outputs": [
    {
     "data": {
      "image/png": "[encoded data removed]",
      "text/plain": [
       "<Figure size 1332x756 with 6 Axes>"
      ]
     },
     "metadata": {
      "needs_background": "light"
     },
     "output_type": "display_data"
    }
   ],
   "source": [
    "fig, axs = plt.subplots(2, 3)\n",
    "fig.subplots_adjust(left=0.2, wspace=0.6)\n",
    "make_plot(axs,\n",
    "          cnn_history,\n",
    "          cnn_over_history,\n",
    "          cnn_near_history,\n",
    "          model_1_name='cnn',\n",
    "          model_2_name='over',\n",
    "          model_3_name='near')\n",
    "\n",
    "fig.align_ylabels(axs[:, 1])\n",
    "fig.set_size_inches(18.5, 10.5)\n",
    "plt.show()"
   ]
  },
  {
   "cell_type": "markdown",
   "id": "e37e11d3-444c-4186-a0da-9a965066ad4b",
   "metadata": {},
   "source": [
    "# RNN"
   ]
  },
  {
   "cell_type": "code",
   "execution_count": 65,
   "id": "a6f030c4-f19f-4908-ab3b-9d0243b7af6b",
   "metadata": {},
   "outputs": [],
   "source": [
    "def build_rnn_model(num_classes, rnn_dim, dense_layer_dims, dropout_rate, embeddings_trainable=True):\n",
    "    rnn_input_layer = tf.keras.layers.Input(shape=(MAX_SEQUENCE_LENGTH,), dtype='int64')\n",
    "    rnn_embedding_layer = Embedding(embedding_matrix.shape[0],\n",
    "                                    embedding_matrix.shape[1],\n",
    "                                    embeddings_initializer=tf.keras.initializers.Constant(embedding_matrix),\n",
    "                                    input_length=MAX_SEQUENCE_LENGTH,\n",
    "                                    trainable=embeddings_trainable)\n",
    "    rnn_embeddings = rnn_embedding_layer(rnn_input_layer)\n",
    "\n",
    "    # only return the last output from the RNN calculation \n",
    "    rnn_output = tf.keras.layers.LSTM(rnn_dim, return_sequences=False, return_state=False, name='LSTM')\\\n",
    "        (rnn_embeddings)\n",
    "    last_hidden_output = rnn_output\n",
    "    \n",
    "    for dense_layer_dim in dense_layer_dims:\n",
    "        last_hidden_output = keras.layers.Dense(dense_layer_dim, activation='relu')(last_hidden_output)\n",
    "        last_hidden_output = keras.layers.Dropout(rate=dropout_rate)(last_hidden_output)\n",
    "    \n",
    "    rnn_prediction = keras.layers.Dense(num_classes, activation='softmax')(last_hidden_output)\n",
    "\n",
    "    rnn_model = keras.Model(inputs=rnn_input_layer, outputs=rnn_prediction)\n",
    "    rnn_model.compile(optimizer='adam',\n",
    "                      loss='categorical_crossentropy',  # From information theory notebooks.\n",
    "                      metrics=['accuracy'])\n",
    "    return rnn_model"
   ]
  },
  {
   "cell_type": "code",
   "execution_count": 66,
   "id": "8283c31f-ad4e-424a-993d-318e7dbed38d",
   "metadata": {},
   "outputs": [
    {
     "name": "stderr",
     "output_type": "stream",
     "text": [
      "python(92722) MallocStackLogging: can't turn off malloc stack logging because it was not enabled.\n",
      "python(92723) MallocStackLogging: can't turn off malloc stack logging because it was not enabled.\n"
     ]
    },
    {
     "data": {
      "image/png": "[encoded data removed]",
      "text/plain": [
       "<IPython.core.display.Image object>"
      ]
     },
     "execution_count": 66,
     "metadata": {},
     "output_type": "execute_result"
    }
   ],
   "source": [
    "rnn_dim = 100\n",
    "dense_layer_dims = [100]\n",
    "dropout_rate = 0.5\n",
    "num_classes = 3\n",
    "rnn_model = build_rnn_model(num_classes,\n",
    "                            rnn_dim,\n",
    "                            dense_layer_dims,\n",
    "                            dropout_rate,\n",
    "                            embeddings_trainable=False)\n",
    "keras.utils.plot_model(rnn_model, show_shapes=True, dpi=90)"
   ]
  },
  {
   "cell_type": "code",
   "execution_count": 67,
   "id": "62820a1e-9120-40f1-ba8a-dd7afb806184",
   "metadata": {},
   "outputs": [
    {
     "name": "stdout",
     "output_type": "stream",
     "text": [
      "Epoch 1/5\n",
      "843/843 [==============================] - 57s 65ms/step - loss: 0.9680 - accuracy: 0.4414 - val_loss: 0.9589 - val_accuracy: 0.4437\n",
      "Epoch 2/5\n",
      "843/843 [==============================] - 53s 63ms/step - loss: 0.9636 - accuracy: 0.4442 - val_loss: 0.9598 - val_accuracy: 0.4437\n",
      "Epoch 3/5\n",
      "843/843 [==============================] - 54s 64ms/step - loss: 0.9626 - accuracy: 0.4467 - val_loss: 0.9590 - val_accuracy: 0.4496\n",
      "Epoch 4/5\n",
      "843/843 [==============================] - 55s 66ms/step - loss: 0.9626 - accuracy: 0.4444 - val_loss: 0.9593 - val_accuracy: 0.4496\n",
      "Epoch 5/5\n",
      "843/843 [==============================] - 60s 71ms/step - loss: 0.9622 - accuracy: 0.4439 - val_loss: 0.9601 - val_accuracy: 0.4437\n"
     ]
    }
   ],
   "source": [
    "rnn_history = rnn_model.fit(train_input,\n",
    "                          dummy_train_y,\n",
    "                          validation_data=(test_input, dummy_valid_y),\n",
    "                          batch_size=32,\n",
    "                          epochs=5\n",
    "                            )"
   ]
  },
  {
   "cell_type": "code",
   "execution_count": 101,
   "id": "07d19a52-785c-433b-985d-91721eed1cf5",
   "metadata": {},
   "outputs": [
    {
     "name": "stdout",
     "output_type": "stream",
     "text": [
      "843/843 [==============================] - 14s 16ms/step - loss: 0.1060 - accuracy: 0.9634\n",
      "accuracy: 96.34%\n",
      "53/53 [==============================] - 4s 48ms/step\n",
      "              precision    recall  f1-score   support\n",
      "\n",
      "           0       0.00      0.00      0.00      1516\n",
      "           1       0.00      0.00      0.00      1496\n",
      "           2       0.11      1.00      0.19       360\n",
      "\n",
      "    accuracy                           0.11      3372\n",
      "   macro avg       0.04      0.33      0.06      3372\n",
      "weighted avg       0.01      0.11      0.02      3372\n",
      "\n"
     ]
    },
    {
     "name": "stderr",
     "output_type": "stream",
     "text": [
      "/Users/peeti_mac/opt/anaconda3/lib/python3.9/site-packages/sklearn/metrics/_classification.py:1318: UndefinedMetricWarning: Precision and F-score are ill-defined and being set to 0.0 in labels with no predicted samples. Use `zero_division` parameter to control this behavior.\n",
      "  _warn_prf(average, modifier, msg_start, len(result))\n",
      "/Users/peeti_mac/opt/anaconda3/lib/python3.9/site-packages/sklearn/metrics/_classification.py:1318: UndefinedMetricWarning: Precision and F-score are ill-defined and being set to 0.0 in labels with no predicted samples. Use `zero_division` parameter to control this behavior.\n",
      "  _warn_prf(average, modifier, msg_start, len(result))\n",
      "/Users/peeti_mac/opt/anaconda3/lib/python3.9/site-packages/sklearn/metrics/_classification.py:1318: UndefinedMetricWarning: Precision and F-score are ill-defined and being set to 0.0 in labels with no predicted samples. Use `zero_division` parameter to control this behavior.\n",
      "  _warn_prf(average, modifier, msg_start, len(result))\n"
     ]
    }
   ],
   "source": [
    "rnn_score = cnn_model.evaluate(train_input,dummy_train_y)\n",
    "print(\"%s: %.2f%%\" % (rnn_model.metrics_names[1], rnn_score[1]*100))\n",
    "\n",
    "y_pred = rnn_model.predict(test_input, batch_size=64, verbose=1)\n",
    "y_pred_bool = np.argmax(y_pred, axis=1)\n",
    "\n",
    "print(classification_report(t_test_labels, y_pred_bool))"
   ]
  },
  {
   "cell_type": "code",
   "execution_count": 68,
   "id": "b280d306-d51b-4459-b50a-abcdd223cb79",
   "metadata": {},
   "outputs": [
    {
     "name": "stdout",
     "output_type": "stream",
     "text": [
      "Epoch 1/5\n",
      "1135/1135 [==============================] - 80s 70ms/step - loss: 1.0017 - accuracy: 0.4323 - val_loss: 1.0039 - val_accuracy: 0.4310\n",
      "Epoch 2/5\n",
      "1135/1135 [==============================] - 73s 65ms/step - loss: 1.0016 - accuracy: 0.4287 - val_loss: 1.0036 - val_accuracy: 0.4310\n",
      "Epoch 3/5\n",
      "1135/1135 [==============================] - 74s 65ms/step - loss: 1.0017 - accuracy: 0.4295 - val_loss: 1.0039 - val_accuracy: 0.4270\n",
      "Epoch 4/5\n",
      "1135/1135 [==============================] - 73s 65ms/step - loss: 1.0013 - accuracy: 0.4309 - val_loss: 1.0036 - val_accuracy: 0.4310\n",
      "Epoch 5/5\n",
      "1135/1135 [==============================] - 74s 65ms/step - loss: 1.0009 - accuracy: 0.4313 - val_loss: 1.0034 - val_accuracy: 0.4270\n"
     ]
    }
   ],
   "source": [
    "rnn_over_history = rnn_model.fit(train_over_input,\n",
    "                          dummy_train_over_y,\n",
    "                          validation_data=(test_over_input, dummy_valid_over_y),\n",
    "                          batch_size=32,\n",
    "                          epochs=5\n",
    "                          )"
   ]
  },
  {
   "cell_type": "code",
   "execution_count": 69,
   "id": "bbd34d47-b893-480d-89b5-cbeff887d568",
   "metadata": {},
   "outputs": [
    {
     "name": "stdout",
     "output_type": "stream",
     "text": [
      "Epoch 1/5\n",
      "272/272 [==============================] - 17s 64ms/step - loss: 1.1158 - accuracy: 0.3332 - val_loss: 1.0991 - val_accuracy: 0.3333\n",
      "Epoch 2/5\n",
      "272/272 [==============================] - 18s 65ms/step - loss: 1.1028 - accuracy: 0.3341 - val_loss: 1.1027 - val_accuracy: 0.3333\n",
      "Epoch 3/5\n",
      "272/272 [==============================] - 19s 72ms/step - loss: 1.1040 - accuracy: 0.3279 - val_loss: 1.0992 - val_accuracy: 0.3333\n",
      "Epoch 4/5\n",
      "272/272 [==============================] - 19s 69ms/step - loss: 1.1008 - accuracy: 0.3341 - val_loss: 1.0996 - val_accuracy: 0.3333\n",
      "Epoch 5/5\n",
      "272/272 [==============================] - 19s 69ms/step - loss: 1.1009 - accuracy: 0.3340 - val_loss: 1.0987 - val_accuracy: 0.3333\n"
     ]
    }
   ],
   "source": [
    "rnn_near_history = rnn_model.fit(train_near_input,\n",
    "                          dummy_train_near_y,\n",
    "                          validation_data=(test_near_input, dummy_valid_near_y),\n",
    "                          batch_size=32,\n",
    "                          epochs=5\n",
    "                          )"
   ]
  },
  {
   "cell_type": "code",
   "execution_count": 70,
   "id": "e0a80d29-db51-4125-8cb2-6751053cef53",
   "metadata": {},
   "outputs": [
    {
     "data": {
      "image/png": "[encoded data removed]",
      "text/plain": [
       "<Figure size 1332x756 with 6 Axes>"
      ]
     },
     "metadata": {
      "needs_background": "light"
     },
     "output_type": "display_data"
    }
   ],
   "source": [
    "fig, axs = plt.subplots(2, 3)\n",
    "fig.subplots_adjust(left=0.2, wspace=0.6)\n",
    "make_plot(axs,\n",
    "          rnn_history,\n",
    "          rnn_over_history,\n",
    "          rnn_near_history,\n",
    "          model_1_name='rnn',\n",
    "          model_2_name='over',\n",
    "          model_3_name='near')\n",
    "\n",
    "fig.align_ylabels(axs[:, 1])\n",
    "fig.set_size_inches(18.5, 10.5)\n",
    "plt.show()"
   ]
  },
  {
   "cell_type": "markdown",
   "id": "782b0233-4cbb-446c-ac0d-b99dc8effd10",
   "metadata": {},
   "source": [
    "# Stacked RNN"
   ]
  },
  {
   "cell_type": "code",
   "execution_count": 71,
   "id": "ba39ae24-51d7-44da-a526-e986fbdcb622",
   "metadata": {},
   "outputs": [],
   "source": [
    "def build_stacked_rnn_model(num_classes, rnn_dim, dense_layer_dims, dropout_rate, embeddings_trainable=False):\n",
    "    rnn_input_layer = tf.keras.layers.Input(shape=(MAX_SEQUENCE_LENGTH,), dtype='int64')\n",
    "    rnn_embedding_layer = Embedding(embedding_matrix.shape[0],\n",
    "                                    embedding_matrix.shape[1],\n",
    "                                    embeddings_initializer=tf.keras.initializers.Constant(embedding_matrix),\n",
    "                                    input_length=MAX_SEQUENCE_LENGTH,\n",
    "                                    trainable=embeddings_trainable)\n",
    "    rnn_embeddings = rnn_embedding_layer(rnn_input_layer)\n",
    "\n",
    "    # Now do the stacked one\n",
    "    #first one is called sequence output and change return_seq = True\n",
    "    rnn_seq_output = tf.keras.layers.LSTM(rnn_dim, return_sequences=True, return_state=False, name='LSTM1')\\\n",
    "        (rnn_embeddings)\n",
    "    \n",
    "    rnn_output = tf.keras.layers.LSTM(rnn_dim, return_sequences=False, return_state=False, name='LSTM2')\\\n",
    "        (rnn_seq_output) # calc the seq here\n",
    "    last_hidden_output = rnn_output\n",
    "    \n",
    "    for dense_layer_dim in dense_layer_dims:\n",
    "        last_hidden_output = keras.layers.Dense(dense_layer_dim, activation='relu')(last_hidden_output)\n",
    "        last_hidden_output = keras.layers.Dropout(rate=dropout_rate)(last_hidden_output)\n",
    "    \n",
    "    rnn_prediction = keras.layers.Dense(num_classes, activation='softmax')(last_hidden_output)\n",
    "\n",
    "    rnn_model = keras.Model(inputs=rnn_input_layer, outputs=rnn_prediction)\n",
    "    rnn_model.compile(optimizer='adam',\n",
    "                      loss='categorical_crossentropy',  # From information theory notebooks.\n",
    "                      metrics=['accuracy'])\n",
    "    return rnn_model"
   ]
  },
  {
   "cell_type": "code",
   "execution_count": 72,
   "id": "411f6ed8-27e0-4ac9-acaa-f39c8af0a025",
   "metadata": {},
   "outputs": [],
   "source": [
    "rnn_dim = 100\n",
    "dense_layer_dims = [100]\n",
    "dropout_rate = 0.5\n",
    "num_classes = 3\n",
    "\n",
    "stack_rnn_model = build_stacked_rnn_model(num_classes, \n",
    "                                          rnn_dim,\n",
    "                                            dense_layer_dims,\n",
    "                                            dropout_rate,\n",
    "                                            embeddings_trainable=False)"
   ]
  },
  {
   "cell_type": "code",
   "execution_count": 73,
   "id": "f3a8826e-643a-4f3c-967d-5caea5260bc7",
   "metadata": {},
   "outputs": [
    {
     "name": "stdout",
     "output_type": "stream",
     "text": [
      "Epoch 1/5\n",
      "843/843 [==============================] - 100s 115ms/step - loss: 0.9686 - accuracy: 0.4441 - val_loss: 0.9620 - val_accuracy: 0.4437\n",
      "Epoch 2/5\n",
      "843/843 [==============================] - 94s 111ms/step - loss: 0.9635 - accuracy: 0.4435 - val_loss: 0.9592 - val_accuracy: 0.4437\n",
      "Epoch 3/5\n",
      "843/843 [==============================] - 94s 112ms/step - loss: 0.9626 - accuracy: 0.4476 - val_loss: 0.9597 - val_accuracy: 0.4437\n",
      "Epoch 4/5\n",
      "843/843 [==============================] - 94s 111ms/step - loss: 0.9623 - accuracy: 0.4432 - val_loss: 0.9590 - val_accuracy: 0.4496\n",
      "Epoch 5/5\n",
      "843/843 [==============================] - 93s 111ms/step - loss: 0.9618 - accuracy: 0.4458 - val_loss: 0.9591 - val_accuracy: 0.4437\n"
     ]
    }
   ],
   "source": [
    "stack_rnn_history = stack_rnn_model.fit(train_input,\n",
    "                          dummy_train_y,\n",
    "                          validation_data=(test_input, dummy_valid_y),\n",
    "                          batch_size=32,\n",
    "                          epochs=5\n",
    "                            )"
   ]
  },
  {
   "cell_type": "code",
   "execution_count": 102,
   "id": "9e4d8fe8-63c4-432e-be58-592be6e0c263",
   "metadata": {},
   "outputs": [
    {
     "name": "stdout",
     "output_type": "stream",
     "text": [
      "843/843 [==============================] - 36s 42ms/step - loss: 1.1107 - accuracy: 0.1073\n",
      "accuracy: 10.73%\n",
      "53/53 [==============================] - 5s 74ms/step\n",
      "              precision    recall  f1-score   support\n",
      "\n",
      "           0       0.00      0.00      0.00      1516\n",
      "           1       0.00      0.00      0.00      1496\n",
      "           2       0.11      1.00      0.19       360\n",
      "\n",
      "    accuracy                           0.11      3372\n",
      "   macro avg       0.04      0.33      0.06      3372\n",
      "weighted avg       0.01      0.11      0.02      3372\n",
      "\n"
     ]
    },
    {
     "name": "stderr",
     "output_type": "stream",
     "text": [
      "/Users/peeti_mac/opt/anaconda3/lib/python3.9/site-packages/sklearn/metrics/_classification.py:1318: UndefinedMetricWarning: Precision and F-score are ill-defined and being set to 0.0 in labels with no predicted samples. Use `zero_division` parameter to control this behavior.\n",
      "  _warn_prf(average, modifier, msg_start, len(result))\n",
      "/Users/peeti_mac/opt/anaconda3/lib/python3.9/site-packages/sklearn/metrics/_classification.py:1318: UndefinedMetricWarning: Precision and F-score are ill-defined and being set to 0.0 in labels with no predicted samples. Use `zero_division` parameter to control this behavior.\n",
      "  _warn_prf(average, modifier, msg_start, len(result))\n",
      "/Users/peeti_mac/opt/anaconda3/lib/python3.9/site-packages/sklearn/metrics/_classification.py:1318: UndefinedMetricWarning: Precision and F-score are ill-defined and being set to 0.0 in labels with no predicted samples. Use `zero_division` parameter to control this behavior.\n",
      "  _warn_prf(average, modifier, msg_start, len(result))\n"
     ]
    }
   ],
   "source": [
    "stack_rnn_score = stack_rnn_model.evaluate(train_input,dummy_train_y)\n",
    "print(\"%s: %.2f%%\" % (stack_rnn_model.metrics_names[1], stack_rnn_score[1]*100))\n",
    "\n",
    "y_pred = stack_rnn_model.predict(test_input, batch_size=64, verbose=1)\n",
    "y_pred_bool = np.argmax(y_pred, axis=1)\n",
    "\n",
    "print(classification_report(t_test_labels, y_pred_bool))"
   ]
  },
  {
   "cell_type": "code",
   "execution_count": 74,
   "id": "58d9deb8-e08e-44a5-aacb-f4432446070c",
   "metadata": {},
   "outputs": [
    {
     "name": "stdout",
     "output_type": "stream",
     "text": [
      "Epoch 1/5\n",
      "1135/1135 [==============================] - 138s 120ms/step - loss: 1.0020 - accuracy: 0.4276 - val_loss: 1.0036 - val_accuracy: 0.4310\n",
      "Epoch 2/5\n",
      "1135/1135 [==============================] - 138s 122ms/step - loss: 1.0015 - accuracy: 0.4292 - val_loss: 1.0033 - val_accuracy: 0.4310\n",
      "Epoch 3/5\n",
      "1135/1135 [==============================] - 148s 130ms/step - loss: 1.0015 - accuracy: 0.4262 - val_loss: 1.0037 - val_accuracy: 0.4270\n",
      "Epoch 4/5\n",
      "1135/1135 [==============================] - 168s 148ms/step - loss: 1.0014 - accuracy: 0.4320 - val_loss: 1.0036 - val_accuracy: 0.4310\n",
      "Epoch 5/5\n",
      "1135/1135 [==============================] - 151s 133ms/step - loss: 1.0011 - accuracy: 0.4321 - val_loss: 1.0035 - val_accuracy: 0.4270\n"
     ]
    }
   ],
   "source": [
    "stack_over_history = stack_rnn_model.fit(train_over_input,\n",
    "                          dummy_train_over_y,\n",
    "                          validation_data=(test_over_input, dummy_valid_over_y),\n",
    "                          batch_size=32,\n",
    "                          epochs=5\n",
    "                          )"
   ]
  },
  {
   "cell_type": "code",
   "execution_count": 75,
   "id": "f088907b-1b21-48e1-a6ad-7e1182c5ff8d",
   "metadata": {},
   "outputs": [
    {
     "name": "stdout",
     "output_type": "stream",
     "text": [
      "Epoch 1/5\n",
      "272/272 [==============================] - 36s 132ms/step - loss: 1.1116 - accuracy: 0.3305 - val_loss: 1.0987 - val_accuracy: 0.3333\n",
      "Epoch 2/5\n",
      "272/272 [==============================] - 34s 126ms/step - loss: 1.1024 - accuracy: 0.3387 - val_loss: 1.0994 - val_accuracy: 0.3333\n",
      "Epoch 3/5\n",
      "272/272 [==============================] - 33s 122ms/step - loss: 1.1014 - accuracy: 0.3394 - val_loss: 1.0992 - val_accuracy: 0.3333\n",
      "Epoch 4/5\n",
      "272/272 [==============================] - 38s 138ms/step - loss: 1.1019 - accuracy: 0.3372 - val_loss: 1.0991 - val_accuracy: 0.3333\n",
      "Epoch 5/5\n",
      "272/272 [==============================] - 41s 152ms/step - loss: 1.1010 - accuracy: 0.3352 - val_loss: 1.0991 - val_accuracy: 0.3333\n"
     ]
    }
   ],
   "source": [
    "stack_near_history = stack_rnn_model.fit(train_near_input,\n",
    "                          dummy_train_near_y,\n",
    "                          validation_data=(test_near_input, dummy_valid_near_y),\n",
    "                          batch_size=32,\n",
    "                          epochs=5\n",
    "                          )"
   ]
  },
  {
   "cell_type": "code",
   "execution_count": 76,
   "id": "ceea17ca-6d78-4e4d-8678-3452642eb8e4",
   "metadata": {},
   "outputs": [
    {
     "data": {
      "image/png": "[encoded data removed]",
      "text/plain": [
       "<Figure size 1332x756 with 6 Axes>"
      ]
     },
     "metadata": {
      "needs_background": "light"
     },
     "output_type": "display_data"
    }
   ],
   "source": [
    "fig, axs = plt.subplots(2, 3)\n",
    "fig.subplots_adjust(left=0.2, wspace=0.6)\n",
    "make_plot(axs,\n",
    "          stack_rnn_history,\n",
    "          stack_over_history,\n",
    "          stack_near_history,\n",
    "          model_1_name='stacked',\n",
    "          model_2_name='over',\n",
    "          model_3_name='near')\n",
    "\n",
    "fig.align_ylabels(axs[:, 1])\n",
    "fig.set_size_inches(18.5, 10.5)\n",
    "plt.show()"
   ]
  },
  {
   "cell_type": "markdown",
   "id": "433e3e7e-0caa-45fb-b78c-22e05ac62a96",
   "metadata": {},
   "source": [
    "# BiDirectional RNN"
   ]
  },
  {
   "cell_type": "code",
   "execution_count": 77,
   "id": "804f2373-d36c-41e3-93dd-838d6e46de54",
   "metadata": {},
   "outputs": [],
   "source": [
    "def build_bidirectional_rnn_model(num_classes, rnn_dim, dense_layer_dims, dropout_rate, embeddings_trainable=False):\n",
    "    rnn_input_layer = tf.keras.layers.Input(shape=(MAX_SEQUENCE_LENGTH,), dtype='int64')\n",
    "    rnn_embedding_layer = Embedding(embedding_matrix.shape[0],\n",
    "                                    embedding_matrix.shape[1],\n",
    "                                    embeddings_initializer=tf.keras.initializers.Constant(embedding_matrix),\n",
    "                                    input_length=MAX_SEQUENCE_LENGTH,\n",
    "                                    trainable=embeddings_trainable)\n",
    "    rnn_embeddings = rnn_embedding_layer(rnn_input_layer)\n",
    "\n",
    "    # Now do the Bidirectional one\n",
    "    #first one is called sequence output and change return_seq = True\n",
    "    rnn_output = tf.keras.layers.Bidirectional(tf.keras.layers.LSTM(rnn_dim, return_sequences=False, return_state=False, name='LSTM1'))\\\n",
    "        (rnn_embeddings)\n",
    "    \n",
    "    last_hidden_output = rnn_output\n",
    "    \n",
    "    for dense_layer_dim in dense_layer_dims:\n",
    "        last_hidden_output = keras.layers.Dense(dense_layer_dim, activation='relu')(last_hidden_output)\n",
    "        last_hidden_output = keras.layers.Dropout(rate=dropout_rate)(last_hidden_output)\n",
    "    \n",
    "    rnn_prediction = keras.layers.Dense(num_classes, activation='softmax')(last_hidden_output)\n",
    "\n",
    "    rnn_model = keras.Model(inputs=rnn_input_layer, outputs=rnn_prediction)\n",
    "    rnn_model.compile(optimizer='adam',\n",
    "                      loss='categorical_crossentropy',  \n",
    "                      metrics=['accuracy'])\n",
    "    return rnn_model"
   ]
  },
  {
   "cell_type": "code",
   "execution_count": 78,
   "id": "cbd57e8e-e5c4-4161-9063-8baa559a9a26",
   "metadata": {},
   "outputs": [],
   "source": [
    "rnn_dim = 100\n",
    "dense_layer_dims = [100]\n",
    "dropout_rate = 0.5\n",
    "num_classes = 3\n",
    "\n",
    "bi_rnn_model = build_bidirectional_rnn_model(num_classes,\n",
    "                                             rnn_dim,\n",
    "                                            dense_layer_dims,\n",
    "                                            dropout_rate,\n",
    "                                            embeddings_trainable=False)"
   ]
  },
  {
   "cell_type": "code",
   "execution_count": 79,
   "id": "762334a5-37a3-4d9b-af9a-9c4b0cb91738",
   "metadata": {},
   "outputs": [
    {
     "name": "stdout",
     "output_type": "stream",
     "text": [
      "Epoch 1/5\n",
      "843/843 [==============================] - 92s 106ms/step - loss: 0.8965 - accuracy: 0.5744 - val_loss: 0.8879 - val_accuracy: 0.5700\n",
      "Epoch 2/5\n",
      "843/843 [==============================] - 91s 108ms/step - loss: 0.8662 - accuracy: 0.5994 - val_loss: 0.8800 - val_accuracy: 0.5777\n",
      "Epoch 3/5\n",
      "843/843 [==============================] - 91s 108ms/step - loss: 0.8531 - accuracy: 0.6048 - val_loss: 0.8732 - val_accuracy: 0.5807\n",
      "Epoch 4/5\n",
      "843/843 [==============================] - 91s 108ms/step - loss: 0.8462 - accuracy: 0.6086 - val_loss: 0.8706 - val_accuracy: 0.5833\n",
      "Epoch 5/5\n",
      "843/843 [==============================] - 91s 108ms/step - loss: 0.8356 - accuracy: 0.6142 - val_loss: 0.8818 - val_accuracy: 0.5845\n"
     ]
    }
   ],
   "source": [
    "bi_rnn_history = bi_rnn_model.fit(train_input,\n",
    "                          dummy_train_y,\n",
    "                          validation_data=(test_input, dummy_valid_y),\n",
    "                          batch_size=32,\n",
    "                          epochs=5\n",
    "                            )"
   ]
  },
  {
   "cell_type": "code",
   "execution_count": 103,
   "id": "b0031689-aa9c-4d28-9fc2-cf100f7e064d",
   "metadata": {},
   "outputs": [
    {
     "name": "stdout",
     "output_type": "stream",
     "text": [
      "843/843 [==============================] - 41s 49ms/step - loss: 0.4014 - accuracy: 0.8530\n",
      "accuracy: 85.30%\n",
      "53/53 [==============================] - 4s 67ms/step\n",
      "              precision    recall  f1-score   support\n",
      "\n",
      "           0       0.56      0.54      0.55      1516\n",
      "           1       0.52      0.52      0.52      1496\n",
      "           2       0.20      0.23      0.21       360\n",
      "\n",
      "    accuracy                           0.50      3372\n",
      "   macro avg       0.43      0.43      0.43      3372\n",
      "weighted avg       0.50      0.50      0.50      3372\n",
      "\n"
     ]
    }
   ],
   "source": [
    "bi_rnn_score = bi_rnn_model.evaluate(train_input,dummy_train_y)\n",
    "print(\"%s: %.2f%%\" % (bi_rnn_model.metrics_names[1], bi_rnn_score[1]*100))\n",
    "\n",
    "y_pred = bi_rnn_model.predict(test_input, batch_size=64, verbose=1)\n",
    "y_pred_bool = np.argmax(y_pred, axis=1)\n",
    "\n",
    "print(classification_report(t_test_labels, y_pred_bool))"
   ]
  },
  {
   "cell_type": "code",
   "execution_count": 81,
   "id": "a002ebc4-4210-438a-870c-2b5f24d5ccf7",
   "metadata": {},
   "outputs": [
    {
     "name": "stdout",
     "output_type": "stream",
     "text": [
      "Epoch 1/5\n",
      "1135/1135 [==============================] - 140s 123ms/step - loss: 0.4936 - accuracy: 0.7857 - val_loss: 1.4905 - val_accuracy: 0.5303\n",
      "Epoch 2/5\n",
      "1135/1135 [==============================] - 136s 120ms/step - loss: 0.4459 - accuracy: 0.8122 - val_loss: 1.5444 - val_accuracy: 0.5167\n",
      "Epoch 3/5\n",
      "1135/1135 [==============================] - 136s 120ms/step - loss: 0.4080 - accuracy: 0.8262 - val_loss: 1.6106 - val_accuracy: 0.5108\n",
      "Epoch 4/5\n",
      "1135/1135 [==============================] - 135s 119ms/step - loss: 0.3666 - accuracy: 0.8436 - val_loss: 1.7623 - val_accuracy: 0.5101\n",
      "Epoch 5/5\n",
      "1135/1135 [==============================] - 138s 121ms/step - loss: 0.3341 - accuracy: 0.8595 - val_loss: 2.0345 - val_accuracy: 0.5101\n"
     ]
    }
   ],
   "source": [
    "bi_over_history = bi_rnn_model.fit(train_over_input,\n",
    "                          dummy_train_over_y,\n",
    "                          validation_data=(test_over_input, dummy_valid_over_y),\n",
    "                          batch_size=32,\n",
    "                          epochs=5\n",
    "                          )"
   ]
  },
  {
   "cell_type": "code",
   "execution_count": 82,
   "id": "bd39597c-9eb7-4c2b-9333-50345b1c01fd",
   "metadata": {},
   "outputs": [
    {
     "name": "stdout",
     "output_type": "stream",
     "text": [
      "Epoch 1/5\n",
      "272/272 [==============================] - 32s 119ms/step - loss: 0.2862 - accuracy: 0.8853 - val_loss: 2.6590 - val_accuracy: 0.4259\n",
      "Epoch 2/5\n",
      "272/272 [==============================] - 32s 119ms/step - loss: 0.2294 - accuracy: 0.9107 - val_loss: 2.8907 - val_accuracy: 0.4426\n",
      "Epoch 3/5\n",
      "272/272 [==============================] - 32s 118ms/step - loss: 0.1895 - accuracy: 0.9255 - val_loss: 3.1071 - val_accuracy: 0.4407\n",
      "Epoch 4/5\n",
      "272/272 [==============================] - 32s 119ms/step - loss: 0.1471 - accuracy: 0.9411 - val_loss: 3.4256 - val_accuracy: 0.4426\n",
      "Epoch 5/5\n",
      "272/272 [==============================] - 33s 120ms/step - loss: 0.1364 - accuracy: 0.9486 - val_loss: 3.7995 - val_accuracy: 0.4324\n"
     ]
    }
   ],
   "source": [
    "bi_near_history = bi_rnn_model.fit(train_near_input,\n",
    "                          dummy_train_near_y,\n",
    "                          validation_data=(test_near_input, dummy_valid_near_y),\n",
    "                          batch_size=32,\n",
    "                          epochs=5\n",
    "                          )"
   ]
  },
  {
   "cell_type": "code",
   "execution_count": 83,
   "id": "b3c65148-63f9-4a47-962c-bd57f8be6e47",
   "metadata": {},
   "outputs": [
    {
     "data": {
      "image/png": "[encoded data removed]",
      "text/plain": [
       "<Figure size 1332x756 with 6 Axes>"
      ]
     },
     "metadata": {
      "needs_background": "light"
     },
     "output_type": "display_data"
    }
   ],
   "source": [
    "fig, axs = plt.subplots(2, 3)\n",
    "fig.subplots_adjust(left=0.2, wspace=0.6)\n",
    "make_plot(axs,\n",
    "          bi_rnn_history,\n",
    "          bi_over_history,\n",
    "          bi_near_history,\n",
    "          model_1_name='BiDirectional',\n",
    "          model_2_name='over',\n",
    "          model_3_name='near')\n",
    "\n",
    "fig.align_ylabels(axs[:, 1])\n",
    "fig.set_size_inches(18.5, 10.5)\n",
    "plt.show()"
   ]
  },
  {
   "cell_type": "code",
   "execution_count": null,
   "id": "f5240a44-24b1-4ccb-87aa-ef5bf3b4e4a2",
   "metadata": {},
   "outputs": [],
   "source": []
  }
 ],
 "metadata": {
  "kernelspec": {
   "display_name": "Python 3 (ipykernel)",
   "language": "python",
   "name": "python3"
  },
  "language_info": {
   "codemirror_mode": {
    "name": "ipython",
    "version": 3
   },
   "file_extension": ".py",
   "mimetype": "text/x-python",
   "name": "python",
   "nbconvert_exporter": "python",
   "pygments_lexer": "ipython3",
   "version": "3.9.7"
  }
 },
 "nbformat": 4,
 "nbformat_minor": 5
}
