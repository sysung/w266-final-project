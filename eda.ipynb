{
 "cells": [
  {
   "cell_type": "code",
   "execution_count": 1,
   "metadata": {},
   "outputs": [],
   "source": [
    "from helper import download_dataset\n",
    "import pandas as pd"
   ]
  },
  {
   "cell_type": "code",
   "execution_count": 2,
   "metadata": {},
   "outputs": [],
   "source": [
    "train_pd_df, valid_pd_df, test_pd_df = download_dataset()"
   ]
  },
  {
   "cell_type": "code",
   "execution_count": 3,
   "metadata": {},
   "outputs": [],
   "source": [
    "def explode_dictionary(pd_df: pd.DataFrame, field: str) -> pd.DataFrame:\n",
    "    '''\n",
    "    Explodes a dictionary within a column as multiple columns\n",
    "\n",
    "    Parameters:\n",
    "    pd_df (pd.Dataframe): The pandas dataframe to extract column dictionary\n",
    "    field (str): The column dictionary to explode\n",
    "\n",
    "    Returns:\n",
    "    pd.DataFrame: The new pandas dataframe with exploded column\n",
    "    '''\n",
    "    return pd.concat([pd_df.drop(field, axis=1), pd_df[field].apply(pd.Series)], axis=1)\n",
    "\n",
    "def flatten_pd_df(pd_df):\n",
    "    pd_df = explode_dictionary(pd_df, 'metadata')\n",
    "    pd_df = explode_dictionary(pd_df, 'label')\n",
    "    pd_df = pd_df.drop(columns=['id'])\n",
    "    return pd_df"
   ]
  },
  {
   "cell_type": "code",
   "execution_count": 5,
   "metadata": {},
   "outputs": [],
   "source": [
    "flatten_train_pd_df = flatten_pd_df(train_pd_df)\n",
    "flatten_valid_pd_df = flatten_pd_df(valid_pd_df)\n",
    "flatten_test_pd_df = flatten_pd_df(test_pd_df)"
   ]
  },
  {
   "cell_type": "code",
   "execution_count": null,
   "metadata": {},
   "outputs": [],
   "source": []
  }
 ],
 "metadata": {
  "kernelspec": {
   "display_name": "Python 3",
   "language": "python",
   "name": "python3"
  },
  "language_info": {
   "codemirror_mode": {
    "name": "ipython",
    "version": 3
   },
   "file_extension": ".py",
   "mimetype": "text/x-python",
   "name": "python",
   "nbconvert_exporter": "python",
   "pygments_lexer": "ipython3",
   "version": "3.11.6"
  }
 },
 "nbformat": 4,
 "nbformat_minor": 2
}
