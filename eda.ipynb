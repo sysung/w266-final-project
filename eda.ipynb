{
 "cells": [
  {
   "cell_type": "markdown",
   "metadata": {},
   "source": [
    "- `review_date` and `claim_date` is not always yyyy-mm-dd\n",
    "    - Contains yyyy-mm-ddThh:mm:ss and None"
   ]
  },
  {
   "cell_type": "code",
   "execution_count": 1,
   "metadata": {},
   "outputs": [],
   "source": [
    "from helper import download_prequential_dataset, download_dataset, download_article, explode_dictionary, clean_pd_df\n",
    "\n",
    "import matplotlib.pyplot as plt\n",
    "import numpy as np\n",
    "import pandas as pd\n",
    "\n",
    "DATASET_FP = \"./WatClaimCheck_dataset\" # CHANGE TO MATCH LOCAL"
   ]
  },
  {
   "cell_type": "code",
   "execution_count": 2,
   "metadata": {},
   "outputs": [
    {
     "name": "stdout",
     "output_type": "stream",
     "text": [
      "Extracting fields from metadata\n",
      "Extracting fields from label\n",
      "Start date is 2010-01-01. End date is 2021-07-01\n",
      "Created 24 partitions\n"
     ]
    }
   ],
   "source": [
    "prequential_pd_df = download_prequential_dataset(DATASET_FP)"
   ]
  },
  {
   "cell_type": "code",
   "execution_count": 3,
   "metadata": {},
   "outputs": [
    {
     "name": "stdout",
     "output_type": "stream",
     "text": [
      "382\n",
      "656\n",
      "704\n",
      "699\n",
      "807\n",
      "795\n",
      "618\n",
      "592\n",
      "701\n",
      "740\n",
      "675\n",
      "841\n",
      "1453\n",
      "1869\n",
      "1399\n",
      "1367\n",
      "1730\n",
      "1973\n",
      "2424\n",
      "2617\n",
      "3483\n",
      "4088\n",
      "2199\n",
      "0\n"
     ]
    }
   ],
   "source": [
    "for i in prequential_pd_df:\n",
    "    print(len(i))"
   ]
  },
  {
   "cell_type": "code",
   "execution_count": null,
   "metadata": {},
   "outputs": [],
   "source": []
  }
 ],
 "metadata": {
  "kernelspec": {
   "display_name": "Python 3",
   "language": "python",
   "name": "python3"
  },
  "language_info": {
   "codemirror_mode": {
    "name": "ipython",
    "version": 3
   },
   "file_extension": ".py",
   "mimetype": "text/x-python",
   "name": "python",
   "nbconvert_exporter": "python",
   "pygments_lexer": "ipython3",
   "version": "3.11.6"
  }
 },
 "nbformat": 4,
 "nbformat_minor": 2
}
