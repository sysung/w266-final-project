{
 "cells": [
  {
   "cell_type": "markdown",
   "metadata": {},
   "source": [
    "- `review_date` and `claim_date` is not always yyyy-mm-dd\n",
    "    - Contains yyyy-mm-ddThh:mm:ss and None"
   ]
  },
  {
   "cell_type": "code",
   "execution_count": 2,
   "metadata": {},
   "outputs": [],
   "source": [
    "from helper import download_dataset, download_article\n",
    "\n",
    "import matplotlib.pyplot as plt\n",
    "import numpy as np\n",
    "import pandas as pd"
   ]
  },
  {
   "cell_type": "code",
   "execution_count": 3,
   "metadata": {},
   "outputs": [],
   "source": [
    "DATASET_FP = \"./WatClaimCheck_dataset\" # CHANGE TO MATCH LOCAL\n",
    "train_pd_df, valid_pd_df, test_pd_df = download_dataset(DATASET_FP)"
   ]
  },
  {
   "cell_type": "code",
   "execution_count": 4,
   "metadata": {},
   "outputs": [],
   "source": [
    "def explode_dictionary(pd_df: pd.DataFrame, field: str) -> pd.DataFrame:\n",
    "    '''Explodes a dictionary within a column as multiple columns and then drops the parent field'''\n",
    "    return pd.concat([pd_df.drop(field, axis=1), pd_df[field].apply(pd.Series)], axis=1)\n",
    "\n",
    "def clean_pd_df(pd_df: pd.DataFrame) -> pd.DataFrame:\n",
    "    '''Extracts field from dataframe and removes id'''\n",
    "    pd_df = explode_dictionary(pd_df, 'metadata')\n",
    "    pd_df = explode_dictionary(pd_df, 'label')\n",
    "\n",
    "    pd_df = pd_df.drop(columns=['id'])\n",
    "    \n",
    "    return pd_df"
   ]
  },
  {
   "cell_type": "code",
   "execution_count": 5,
   "metadata": {},
   "outputs": [
    {
     "data": {
      "text/plain": [
       "claimant            object\n",
       "claim               object\n",
       "claim_date          object\n",
       "review_date         object\n",
       "premise_articles    object\n",
       "reviewer_name       object\n",
       "reviewer_site       object\n",
       "review_url          object\n",
       "rating               int64\n",
       "original_rating     object\n",
       "review_article      object\n",
       "dtype: object"
      ]
     },
     "execution_count": 5,
     "metadata": {},
     "output_type": "execute_result"
    }
   ],
   "source": [
    "flatten_train_pd_df = clean_pd_df(train_pd_df)\n",
    "flatten_valid_pd_df = clean_pd_df(valid_pd_df)\n",
    "flatten_test_pd_df = clean_pd_df(test_pd_df)\n",
    "\n",
    "flatten_train_pd_df.dtypes"
   ]
  },
  {
   "cell_type": "markdown",
   "metadata": {},
   "source": [
    "## Join dataframe with articles"
   ]
  },
  {
   "cell_type": "code",
   "execution_count": 7,
   "metadata": {},
   "outputs": [
    {
     "ename": "FileNotFoundError",
     "evalue": "[Errno 2] No such file or directory: './WatClaimCheck_dataset/articles/1_1.json'",
     "output_type": "error",
     "traceback": [
      "\u001b[0;31m---------------------------------------------------------------------------\u001b[0m",
      "\u001b[0;31mFileNotFoundError\u001b[0m                         Traceback (most recent call last)",
      "\u001b[1;32m/home/sysung98/w266-final-project/eda.ipynb Cell 7\u001b[0m line \u001b[0;36m7\n\u001b[1;32m      <a href='vscode-notebook-cell://tunnel%2Bw266-final-project/home/sysung98/w266-final-project/eda.ipynb#X12sdnNjb2RlLXJlbW90ZQ%3D%3D?line=2'>3</a>\u001b[0m     json_list_content \u001b[39m=\u001b[39m [download_article(DATASET_FP, i) \u001b[39mfor\u001b[39;00m i \u001b[39min\u001b[39;00m json_list]\n\u001b[1;32m      <a href='vscode-notebook-cell://tunnel%2Bw266-final-project/home/sysung98/w266-final-project/eda.ipynb#X12sdnNjb2RlLXJlbW90ZQ%3D%3D?line=4'>5</a>\u001b[0m     \u001b[39mreturn\u001b[39;00m json_list\n\u001b[0;32m----> <a href='vscode-notebook-cell://tunnel%2Bw266-final-project/home/sysung98/w266-final-project/eda.ipynb#X12sdnNjb2RlLXJlbW90ZQ%3D%3D?line=6'>7</a>\u001b[0m flatten_train_pd_df[\u001b[39m'\u001b[39m\u001b[39mpremise_articles_content\u001b[39m\u001b[39m'\u001b[39m] \u001b[39m=\u001b[39m flatten_train_pd_df[\u001b[39m'\u001b[39;49m\u001b[39mpremise_articles\u001b[39;49m\u001b[39m'\u001b[39;49m]\u001b[39m.\u001b[39;49mapply(get_articles)\n\u001b[1;32m      <a href='vscode-notebook-cell://tunnel%2Bw266-final-project/home/sysung98/w266-final-project/eda.ipynb#X12sdnNjb2RlLXJlbW90ZQ%3D%3D?line=7'>8</a>\u001b[0m flatten_train_pd_df\n",
      "File \u001b[0;32m~/w266-final-project/envs/lib/python3.11/site-packages/pandas/core/series.py:4760\u001b[0m, in \u001b[0;36mSeries.apply\u001b[0;34m(self, func, convert_dtype, args, by_row, **kwargs)\u001b[0m\n\u001b[1;32m   4625\u001b[0m \u001b[39mdef\u001b[39;00m \u001b[39mapply\u001b[39m(\n\u001b[1;32m   4626\u001b[0m     \u001b[39mself\u001b[39m,\n\u001b[1;32m   4627\u001b[0m     func: AggFuncType,\n\u001b[0;32m   (...)\u001b[0m\n\u001b[1;32m   4632\u001b[0m     \u001b[39m*\u001b[39m\u001b[39m*\u001b[39mkwargs,\n\u001b[1;32m   4633\u001b[0m ) \u001b[39m-\u001b[39m\u001b[39m>\u001b[39m DataFrame \u001b[39m|\u001b[39m Series:\n\u001b[1;32m   4634\u001b[0m \u001b[39m    \u001b[39m\u001b[39m\"\"\"\u001b[39;00m\n\u001b[1;32m   4635\u001b[0m \u001b[39m    Invoke function on values of Series.\u001b[39;00m\n\u001b[1;32m   4636\u001b[0m \n\u001b[0;32m   (...)\u001b[0m\n\u001b[1;32m   4751\u001b[0m \u001b[39m    dtype: float64\u001b[39;00m\n\u001b[1;32m   4752\u001b[0m \u001b[39m    \"\"\"\u001b[39;00m\n\u001b[1;32m   4753\u001b[0m     \u001b[39mreturn\u001b[39;00m SeriesApply(\n\u001b[1;32m   4754\u001b[0m         \u001b[39mself\u001b[39;49m,\n\u001b[1;32m   4755\u001b[0m         func,\n\u001b[1;32m   4756\u001b[0m         convert_dtype\u001b[39m=\u001b[39;49mconvert_dtype,\n\u001b[1;32m   4757\u001b[0m         by_row\u001b[39m=\u001b[39;49mby_row,\n\u001b[1;32m   4758\u001b[0m         args\u001b[39m=\u001b[39;49margs,\n\u001b[1;32m   4759\u001b[0m         kwargs\u001b[39m=\u001b[39;49mkwargs,\n\u001b[0;32m-> 4760\u001b[0m     )\u001b[39m.\u001b[39;49mapply()\n",
      "File \u001b[0;32m~/w266-final-project/envs/lib/python3.11/site-packages/pandas/core/apply.py:1207\u001b[0m, in \u001b[0;36mSeriesApply.apply\u001b[0;34m(self)\u001b[0m\n\u001b[1;32m   1204\u001b[0m     \u001b[39mreturn\u001b[39;00m \u001b[39mself\u001b[39m\u001b[39m.\u001b[39mapply_compat()\n\u001b[1;32m   1206\u001b[0m \u001b[39m# self.func is Callable\u001b[39;00m\n\u001b[0;32m-> 1207\u001b[0m \u001b[39mreturn\u001b[39;00m \u001b[39mself\u001b[39;49m\u001b[39m.\u001b[39;49mapply_standard()\n",
      "File \u001b[0;32m~/w266-final-project/envs/lib/python3.11/site-packages/pandas/core/apply.py:1287\u001b[0m, in \u001b[0;36mSeriesApply.apply_standard\u001b[0;34m(self)\u001b[0m\n\u001b[1;32m   1281\u001b[0m \u001b[39m# row-wise access\u001b[39;00m\n\u001b[1;32m   1282\u001b[0m \u001b[39m# apply doesn't have a `na_action` keyword and for backward compat reasons\u001b[39;00m\n\u001b[1;32m   1283\u001b[0m \u001b[39m# we need to give `na_action=\"ignore\"` for categorical data.\u001b[39;00m\n\u001b[1;32m   1284\u001b[0m \u001b[39m# TODO: remove the `na_action=\"ignore\"` when that default has been changed in\u001b[39;00m\n\u001b[1;32m   1285\u001b[0m \u001b[39m#  Categorical (GH51645).\u001b[39;00m\n\u001b[1;32m   1286\u001b[0m action \u001b[39m=\u001b[39m \u001b[39m\"\u001b[39m\u001b[39mignore\u001b[39m\u001b[39m\"\u001b[39m \u001b[39mif\u001b[39;00m \u001b[39misinstance\u001b[39m(obj\u001b[39m.\u001b[39mdtype, CategoricalDtype) \u001b[39melse\u001b[39;00m \u001b[39mNone\u001b[39;00m\n\u001b[0;32m-> 1287\u001b[0m mapped \u001b[39m=\u001b[39m obj\u001b[39m.\u001b[39;49m_map_values(\n\u001b[1;32m   1288\u001b[0m     mapper\u001b[39m=\u001b[39;49mcurried, na_action\u001b[39m=\u001b[39;49maction, convert\u001b[39m=\u001b[39;49m\u001b[39mself\u001b[39;49m\u001b[39m.\u001b[39;49mconvert_dtype\n\u001b[1;32m   1289\u001b[0m )\n\u001b[1;32m   1291\u001b[0m \u001b[39mif\u001b[39;00m \u001b[39mlen\u001b[39m(mapped) \u001b[39mand\u001b[39;00m \u001b[39misinstance\u001b[39m(mapped[\u001b[39m0\u001b[39m], ABCSeries):\n\u001b[1;32m   1292\u001b[0m     \u001b[39m# GH#43986 Need to do list(mapped) in order to get treated as nested\u001b[39;00m\n\u001b[1;32m   1293\u001b[0m     \u001b[39m#  See also GH#25959 regarding EA support\u001b[39;00m\n\u001b[1;32m   1294\u001b[0m     \u001b[39mreturn\u001b[39;00m obj\u001b[39m.\u001b[39m_constructor_expanddim(\u001b[39mlist\u001b[39m(mapped), index\u001b[39m=\u001b[39mobj\u001b[39m.\u001b[39mindex)\n",
      "File \u001b[0;32m~/w266-final-project/envs/lib/python3.11/site-packages/pandas/core/base.py:921\u001b[0m, in \u001b[0;36mIndexOpsMixin._map_values\u001b[0;34m(self, mapper, na_action, convert)\u001b[0m\n\u001b[1;32m    918\u001b[0m \u001b[39mif\u001b[39;00m \u001b[39misinstance\u001b[39m(arr, ExtensionArray):\n\u001b[1;32m    919\u001b[0m     \u001b[39mreturn\u001b[39;00m arr\u001b[39m.\u001b[39mmap(mapper, na_action\u001b[39m=\u001b[39mna_action)\n\u001b[0;32m--> 921\u001b[0m \u001b[39mreturn\u001b[39;00m algorithms\u001b[39m.\u001b[39;49mmap_array(arr, mapper, na_action\u001b[39m=\u001b[39;49mna_action, convert\u001b[39m=\u001b[39;49mconvert)\n",
      "File \u001b[0;32m~/w266-final-project/envs/lib/python3.11/site-packages/pandas/core/algorithms.py:1814\u001b[0m, in \u001b[0;36mmap_array\u001b[0;34m(arr, mapper, na_action, convert)\u001b[0m\n\u001b[1;32m   1812\u001b[0m values \u001b[39m=\u001b[39m arr\u001b[39m.\u001b[39mastype(\u001b[39mobject\u001b[39m, copy\u001b[39m=\u001b[39m\u001b[39mFalse\u001b[39;00m)\n\u001b[1;32m   1813\u001b[0m \u001b[39mif\u001b[39;00m na_action \u001b[39mis\u001b[39;00m \u001b[39mNone\u001b[39;00m:\n\u001b[0;32m-> 1814\u001b[0m     \u001b[39mreturn\u001b[39;00m lib\u001b[39m.\u001b[39;49mmap_infer(values, mapper, convert\u001b[39m=\u001b[39;49mconvert)\n\u001b[1;32m   1815\u001b[0m \u001b[39melse\u001b[39;00m:\n\u001b[1;32m   1816\u001b[0m     \u001b[39mreturn\u001b[39;00m lib\u001b[39m.\u001b[39mmap_infer_mask(\n\u001b[1;32m   1817\u001b[0m         values, mapper, mask\u001b[39m=\u001b[39misna(values)\u001b[39m.\u001b[39mview(np\u001b[39m.\u001b[39muint8), convert\u001b[39m=\u001b[39mconvert\n\u001b[1;32m   1818\u001b[0m     )\n",
      "File \u001b[0;32mlib.pyx:2917\u001b[0m, in \u001b[0;36mpandas._libs.lib.map_infer\u001b[0;34m()\u001b[0m\n",
      "\u001b[1;32m/home/sysung98/w266-final-project/eda.ipynb Cell 7\u001b[0m line \u001b[0;36m3\n\u001b[1;32m      <a href='vscode-notebook-cell://tunnel%2Bw266-final-project/home/sysung98/w266-final-project/eda.ipynb#X12sdnNjb2RlLXJlbW90ZQ%3D%3D?line=0'>1</a>\u001b[0m \u001b[39mdef\u001b[39;00m \u001b[39mget_articles\u001b[39m(premise_articles_dict):\n\u001b[1;32m      <a href='vscode-notebook-cell://tunnel%2Bw266-final-project/home/sysung98/w266-final-project/eda.ipynb#X12sdnNjb2RlLXJlbW90ZQ%3D%3D?line=1'>2</a>\u001b[0m     json_list \u001b[39m=\u001b[39m \u001b[39mlist\u001b[39m(premise_articles_dict\u001b[39m.\u001b[39mvalues())\n\u001b[0;32m----> <a href='vscode-notebook-cell://tunnel%2Bw266-final-project/home/sysung98/w266-final-project/eda.ipynb#X12sdnNjb2RlLXJlbW90ZQ%3D%3D?line=2'>3</a>\u001b[0m     json_list_content \u001b[39m=\u001b[39m [download_article(DATASET_FP, i) \u001b[39mfor\u001b[39;49;00m i \u001b[39min\u001b[39;49;00m json_list]\n\u001b[1;32m      <a href='vscode-notebook-cell://tunnel%2Bw266-final-project/home/sysung98/w266-final-project/eda.ipynb#X12sdnNjb2RlLXJlbW90ZQ%3D%3D?line=4'>5</a>\u001b[0m     \u001b[39mreturn\u001b[39;00m json_list\n",
      "\u001b[1;32m/home/sysung98/w266-final-project/eda.ipynb Cell 7\u001b[0m line \u001b[0;36m3\n\u001b[1;32m      <a href='vscode-notebook-cell://tunnel%2Bw266-final-project/home/sysung98/w266-final-project/eda.ipynb#X12sdnNjb2RlLXJlbW90ZQ%3D%3D?line=0'>1</a>\u001b[0m \u001b[39mdef\u001b[39;00m \u001b[39mget_articles\u001b[39m(premise_articles_dict):\n\u001b[1;32m      <a href='vscode-notebook-cell://tunnel%2Bw266-final-project/home/sysung98/w266-final-project/eda.ipynb#X12sdnNjb2RlLXJlbW90ZQ%3D%3D?line=1'>2</a>\u001b[0m     json_list \u001b[39m=\u001b[39m \u001b[39mlist\u001b[39m(premise_articles_dict\u001b[39m.\u001b[39mvalues())\n\u001b[0;32m----> <a href='vscode-notebook-cell://tunnel%2Bw266-final-project/home/sysung98/w266-final-project/eda.ipynb#X12sdnNjb2RlLXJlbW90ZQ%3D%3D?line=2'>3</a>\u001b[0m     json_list_content \u001b[39m=\u001b[39m [download_article(DATASET_FP, i) \u001b[39mfor\u001b[39;00m i \u001b[39min\u001b[39;00m json_list]\n\u001b[1;32m      <a href='vscode-notebook-cell://tunnel%2Bw266-final-project/home/sysung98/w266-final-project/eda.ipynb#X12sdnNjb2RlLXJlbW90ZQ%3D%3D?line=4'>5</a>\u001b[0m     \u001b[39mreturn\u001b[39;00m json_list\n",
      "File \u001b[0;32m~/w266-final-project/helper.py:79\u001b[0m, in \u001b[0;36mdownload_article\u001b[0;34m(dataset_fp, article_file)\u001b[0m\n\u001b[1;32m     67\u001b[0m \u001b[39m\u001b[39m\u001b[39m'''\u001b[39;00m\n\u001b[1;32m     68\u001b[0m \u001b[39mDownloads an article from the WatClaimCheck Dataset\u001b[39;00m\n\u001b[1;32m     69\u001b[0m \n\u001b[0;32m   (...)\u001b[0m\n\u001b[1;32m     75\u001b[0m \u001b[39mdict: Article JSON\u001b[39;00m\n\u001b[1;32m     76\u001b[0m \u001b[39m'''\u001b[39;00m\n\u001b[1;32m     78\u001b[0m \u001b[39m# Read articles as json\u001b[39;00m\n\u001b[0;32m---> 79\u001b[0m full_article_fp \u001b[39m=\u001b[39m \u001b[39mopen\u001b[39;49m(os\u001b[39m.\u001b[39;49mpath\u001b[39m.\u001b[39;49mjoin(dataset_fp, \u001b[39m'\u001b[39;49m\u001b[39marticles\u001b[39;49m\u001b[39m'\u001b[39;49m, article_file))\n\u001b[1;32m     80\u001b[0m json_data \u001b[39m=\u001b[39m json\u001b[39m.\u001b[39mload(full_article_fp)\n\u001b[1;32m     81\u001b[0m full_article_fp\u001b[39m.\u001b[39mclose()\n",
      "\u001b[0;31mFileNotFoundError\u001b[0m: [Errno 2] No such file or directory: './WatClaimCheck_dataset/articles/1_1.json'"
     ]
    }
   ],
   "source": [
    "def get_articles(premise_articles_dict):\n",
    "    json_list = list(premise_articles_dict.values())\n",
    "    json_list_content = [download_article(DATASET_FP, i) for i in json_list]\n",
    "    return json_list\n",
    "\n",
    "flatten_train_pd_df['premise_articles_content'] = flatten_train_pd_df['premise_articles'].apply(get_articles)\n",
    "flatten_train_pd_df"
   ]
  },
  {
   "cell_type": "code",
   "execution_count": null,
   "metadata": {},
   "outputs": [],
   "source": []
  }
 ],
 "metadata": {
  "kernelspec": {
   "display_name": "Python 3",
   "language": "python",
   "name": "python3"
  },
  "language_info": {
   "codemirror_mode": {
    "name": "ipython",
    "version": 3
   },
   "file_extension": ".py",
   "mimetype": "text/x-python",
   "name": "python",
   "nbconvert_exporter": "python",
   "pygments_lexer": "ipython3",
   "version": "3.11.6"
  }
 },
 "nbformat": 4,
 "nbformat_minor": 2
}
