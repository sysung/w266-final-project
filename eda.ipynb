{
 "cells": [
  {
   "cell_type": "code",
   "execution_count": 2,
   "metadata": {},
   "outputs": [],
   "source": [
    "from helper import download_dataset\n",
    "import pandas as pd"
   ]
  },
  {
   "cell_type": "code",
   "execution_count": 3,
   "metadata": {},
   "outputs": [
    {
     "name": "stdout",
     "output_type": "stream",
     "text": [
      "Downloaded storage object train.json from bucket watclaimcheck_dataset.\n",
      "Downloaded storage object valid.json from bucket watclaimcheck_dataset.\n",
      "Downloaded storage object test.json from bucket watclaimcheck_dataset.\n"
     ]
    }
   ],
   "source": [
    "train_pd, valid_pd, test_pd = download_dataset()"
   ]
  },
  {
   "cell_type": "code",
   "execution_count": 4,
   "metadata": {},
   "outputs": [
    {
     "data": {
      "text/html": [
       "<div>\n",
       "<style scoped>\n",
       "    .dataframe tbody tr th:only-of-type {\n",
       "        vertical-align: middle;\n",
       "    }\n",
       "\n",
       "    .dataframe tbody tr th {\n",
       "        vertical-align: top;\n",
       "    }\n",
       "\n",
       "    .dataframe thead th {\n",
       "        text-align: right;\n",
       "    }\n",
       "</style>\n",
       "<table border=\"1\" class=\"dataframe\">\n",
       "  <thead>\n",
       "    <tr style=\"text-align: right;\">\n",
       "      <th></th>\n",
       "      <th>metadata</th>\n",
       "      <th>label</th>\n",
       "    </tr>\n",
       "  </thead>\n",
       "  <tbody>\n",
       "    <tr>\n",
       "      <th>0</th>\n",
       "      <td>{'claimant': 'Faisal Al Qasimi, Carolina Monte...</td>\n",
       "      <td>{'reviewer_name': 'Alt News', 'reviewer_site':...</td>\n",
       "    </tr>\n",
       "    <tr>\n",
       "      <th>1</th>\n",
       "      <td>{'claimant': 'Joe Biden', 'claim': '“38,000 pr...</td>\n",
       "      <td>{'reviewer_name': 'FactCheck.org', 'reviewer_s...</td>\n",
       "    </tr>\n",
       "    <tr>\n",
       "      <th>2</th>\n",
       "      <td>{'claimant': 'Tony Evers', 'claim': 'Says Wisc...</td>\n",
       "      <td>{'reviewer_name': 'PolitiFact', 'reviewer_site...</td>\n",
       "    </tr>\n",
       "    <tr>\n",
       "      <th>3</th>\n",
       "      <td>{'claimant': None, 'claim': 'A 4-year-old boy ...</td>\n",
       "      <td>{'reviewer_name': 'Snopes', 'reviewer_site': '...</td>\n",
       "    </tr>\n",
       "    <tr>\n",
       "      <th>4</th>\n",
       "      <td>{'claimant': 'Multiple sources', 'claim': 'Whi...</td>\n",
       "      <td>{'reviewer_name': 'AFP Fact Check', 'reviewer_...</td>\n",
       "    </tr>\n",
       "    <tr>\n",
       "      <th>...</th>\n",
       "      <td>...</td>\n",
       "      <td>...</td>\n",
       "    </tr>\n",
       "    <tr>\n",
       "      <th>26971</th>\n",
       "      <td>{'claimant': 'Michael Chippendale', 'claim': '...</td>\n",
       "      <td>{'reviewer_name': 'PolitiFact', 'reviewer_site...</td>\n",
       "    </tr>\n",
       "    <tr>\n",
       "      <th>26972</th>\n",
       "      <td>{'claimant': None, 'claim': 'Former NBA star s...</td>\n",
       "      <td>{'reviewer_name': 'Snopes', 'reviewer_site': '...</td>\n",
       "    </tr>\n",
       "    <tr>\n",
       "      <th>26973</th>\n",
       "      <td>{'claimant': 'Adam Kinzinger', 'claim': '\"Sinc...</td>\n",
       "      <td>{'reviewer_name': 'PolitiFact', 'reviewer_site...</td>\n",
       "    </tr>\n",
       "    <tr>\n",
       "      <th>26974</th>\n",
       "      <td>{'claimant': 'Joe Lieberman', 'claim': 'Presid...</td>\n",
       "      <td>{'reviewer_name': 'PolitiFact', 'reviewer_site...</td>\n",
       "    </tr>\n",
       "    <tr>\n",
       "      <th>26975</th>\n",
       "      <td>{'claimant': 'Social media users', 'claim': 'P...</td>\n",
       "      <td>{'reviewer_name': 'Alt News', 'reviewer_site':...</td>\n",
       "    </tr>\n",
       "  </tbody>\n",
       "</table>\n",
       "<p>26976 rows × 2 columns</p>\n",
       "</div>"
      ],
      "text/plain": [
       "                                                metadata  \\\n",
       "0      {'claimant': 'Faisal Al Qasimi, Carolina Monte...   \n",
       "1      {'claimant': 'Joe Biden', 'claim': '“38,000 pr...   \n",
       "2      {'claimant': 'Tony Evers', 'claim': 'Says Wisc...   \n",
       "3      {'claimant': None, 'claim': 'A 4-year-old boy ...   \n",
       "4      {'claimant': 'Multiple sources', 'claim': 'Whi...   \n",
       "...                                                  ...   \n",
       "26971  {'claimant': 'Michael Chippendale', 'claim': '...   \n",
       "26972  {'claimant': None, 'claim': 'Former NBA star s...   \n",
       "26973  {'claimant': 'Adam Kinzinger', 'claim': '\"Sinc...   \n",
       "26974  {'claimant': 'Joe Lieberman', 'claim': 'Presid...   \n",
       "26975  {'claimant': 'Social media users', 'claim': 'P...   \n",
       "\n",
       "                                                   label  \n",
       "0      {'reviewer_name': 'Alt News', 'reviewer_site':...  \n",
       "1      {'reviewer_name': 'FactCheck.org', 'reviewer_s...  \n",
       "2      {'reviewer_name': 'PolitiFact', 'reviewer_site...  \n",
       "3      {'reviewer_name': 'Snopes', 'reviewer_site': '...  \n",
       "4      {'reviewer_name': 'AFP Fact Check', 'reviewer_...  \n",
       "...                                                  ...  \n",
       "26971  {'reviewer_name': 'PolitiFact', 'reviewer_site...  \n",
       "26972  {'reviewer_name': 'Snopes', 'reviewer_site': '...  \n",
       "26973  {'reviewer_name': 'PolitiFact', 'reviewer_site...  \n",
       "26974  {'reviewer_name': 'PolitiFact', 'reviewer_site...  \n",
       "26975  {'reviewer_name': 'Alt News', 'reviewer_site':...  \n",
       "\n",
       "[26976 rows x 2 columns]"
      ]
     },
     "execution_count": 4,
     "metadata": {},
     "output_type": "execute_result"
    }
   ],
   "source": [
    "train_pd"
   ]
  }
 ],
 "metadata": {
  "kernelspec": {
   "display_name": "Python 3",
   "language": "python",
   "name": "python3"
  },
  "language_info": {
   "codemirror_mode": {
    "name": "ipython",
    "version": 3
   },
   "file_extension": ".py",
   "mimetype": "text/x-python",
   "name": "python",
   "nbconvert_exporter": "python",
   "pygments_lexer": "ipython3",
   "version": "3.11.6"
  }
 },
 "nbformat": 4,
 "nbformat_minor": 2
}
