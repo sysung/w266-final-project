{
 "cells": [
  {
   "cell_type": "markdown",
   "metadata": {},
   "source": [
    "- `review_date` and `claim_date` is not always yyyy-mm-dd\n",
    "    - Contains yyyy-mm-ddThh:mm:ss and None"
   ]
  },
  {
   "cell_type": "code",
   "execution_count": 1,
   "metadata": {},
   "outputs": [],
   "source": [
    "from helper import download_prequential_dataset, download_dataset, download_article, explode_dictionary, clean_pd_df\n",
    "\n",
    "import matplotlib.pyplot as plt\n",
    "import numpy as np\n",
    "import pandas as pd"
   ]
  },
  {
   "cell_type": "code",
   "execution_count": 2,
   "metadata": {},
   "outputs": [],
   "source": [
    "DATASET_FP = \"./WatClaimCheck_dataset\" # CHANGE TO MATCH LOCAL\n",
    "train_pd_df, valid_pd_df, test_pd_df = download_dataset(DATASET_FP)"
   ]
  },
  {
   "cell_type": "code",
   "execution_count": 3,
   "metadata": {},
   "outputs": [
    {
     "name": "stdout",
     "output_type": "stream",
     "text": [
      "Extracting fields from metadata\n",
      "Extracting fields from label\n",
      "Extracting fields from metadata\n",
      "Extracting fields from label\n",
      "Extracting fields from metadata\n",
      "Extracting fields from label\n"
     ]
    }
   ],
   "source": [
    "flatten_train_pd_df = clean_pd_df(train_pd_df)\n",
    "flatten_valid_pd_df = clean_pd_df(valid_pd_df)\n",
    "flatten_test_pd_df = clean_pd_df(test_pd_df)"
   ]
  },
  {
   "cell_type": "code",
   "execution_count": 4,
   "metadata": {},
   "outputs": [
    {
     "name": "stdout",
     "output_type": "stream",
     "text": [
      "Extracting fields from metadata\n",
      "Extracting fields from label\n",
      "Start date is 1996-12-13. End date is 2021-03-28\n",
      "Created 49 partitions\n"
     ]
    }
   ],
   "source": [
    "prequential_pd_df = download_prequential_dataset(DATASET_FP)[0]"
   ]
  }
 ],
 "metadata": {
  "kernelspec": {
   "display_name": "Python 3",
   "language": "python",
   "name": "python3"
  },
  "language_info": {
   "codemirror_mode": {
    "name": "ipython",
    "version": 3
   },
   "file_extension": ".py",
   "mimetype": "text/x-python",
   "name": "python",
   "nbconvert_exporter": "python",
   "pygments_lexer": "ipython3",
   "version": "3.11.6"
  }
 },
 "nbformat": 4,
 "nbformat_minor": 2
}
