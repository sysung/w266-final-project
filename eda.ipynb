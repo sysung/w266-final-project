{
 "cells": [
  {
   "cell_type": "code",
   "execution_count": 1,
   "metadata": {},
   "outputs": [],
   "source": [
    "# Filepath of dataset\n",
    "dataset_fp = 'WatClaimCheck_dataset'"
   ]
  },
  {
   "cell_type": "code",
   "execution_count": 2,
   "metadata": {},
   "outputs": [],
   "source": [
    "from helper import read_watclaimcheck_dataset\n",
    "import pandas as pd"
   ]
  },
  {
   "cell_type": "code",
   "execution_count": 3,
   "metadata": {},
   "outputs": [],
   "source": [
    "train_pd, valid_pd, test_pd = read_watclaimcheck_dataset(dataset_fp)"
   ]
  },
  {
   "cell_type": "code",
   "execution_count": 4,
   "metadata": {},
   "outputs": [
    {
     "data": {
      "text/html": [
       "<div>\n",
       "<style scoped>\n",
       "    .dataframe tbody tr th:only-of-type {\n",
       "        vertical-align: middle;\n",
       "    }\n",
       "\n",
       "    .dataframe tbody tr th {\n",
       "        vertical-align: top;\n",
       "    }\n",
       "\n",
       "    .dataframe thead th {\n",
       "        text-align: right;\n",
       "    }\n",
       "</style>\n",
       "<table border=\"1\" class=\"dataframe\">\n",
       "  <thead>\n",
       "    <tr style=\"text-align: right;\">\n",
       "      <th></th>\n",
       "      <th>metadata</th>\n",
       "      <th>label</th>\n",
       "    </tr>\n",
       "  </thead>\n",
       "  <tbody>\n",
       "    <tr>\n",
       "      <th>0</th>\n",
       "      <td>claimant</td>\n",
       "      <td>{'reviewer_name': 'Alt News', 'reviewer_site':...</td>\n",
       "    </tr>\n",
       "    <tr>\n",
       "      <th>0</th>\n",
       "      <td>claim</td>\n",
       "      <td>{'reviewer_name': 'Alt News', 'reviewer_site':...</td>\n",
       "    </tr>\n",
       "    <tr>\n",
       "      <th>0</th>\n",
       "      <td>claim_date</td>\n",
       "      <td>{'reviewer_name': 'Alt News', 'reviewer_site':...</td>\n",
       "    </tr>\n",
       "    <tr>\n",
       "      <th>0</th>\n",
       "      <td>review_date</td>\n",
       "      <td>{'reviewer_name': 'Alt News', 'reviewer_site':...</td>\n",
       "    </tr>\n",
       "    <tr>\n",
       "      <th>0</th>\n",
       "      <td>id</td>\n",
       "      <td>{'reviewer_name': 'Alt News', 'reviewer_site':...</td>\n",
       "    </tr>\n",
       "    <tr>\n",
       "      <th>...</th>\n",
       "      <td>...</td>\n",
       "      <td>...</td>\n",
       "    </tr>\n",
       "    <tr>\n",
       "      <th>26975</th>\n",
       "      <td>claim</td>\n",
       "      <td>{'reviewer_name': 'Alt News', 'reviewer_site':...</td>\n",
       "    </tr>\n",
       "    <tr>\n",
       "      <th>26975</th>\n",
       "      <td>claim_date</td>\n",
       "      <td>{'reviewer_name': 'Alt News', 'reviewer_site':...</td>\n",
       "    </tr>\n",
       "    <tr>\n",
       "      <th>26975</th>\n",
       "      <td>review_date</td>\n",
       "      <td>{'reviewer_name': 'Alt News', 'reviewer_site':...</td>\n",
       "    </tr>\n",
       "    <tr>\n",
       "      <th>26975</th>\n",
       "      <td>id</td>\n",
       "      <td>{'reviewer_name': 'Alt News', 'reviewer_site':...</td>\n",
       "    </tr>\n",
       "    <tr>\n",
       "      <th>26975</th>\n",
       "      <td>premise_articles</td>\n",
       "      <td>{'reviewer_name': 'Alt News', 'reviewer_site':...</td>\n",
       "    </tr>\n",
       "  </tbody>\n",
       "</table>\n",
       "<p>161856 rows × 2 columns</p>\n",
       "</div>"
      ],
      "text/plain": [
       "               metadata                                              label\n",
       "0              claimant  {'reviewer_name': 'Alt News', 'reviewer_site':...\n",
       "0                 claim  {'reviewer_name': 'Alt News', 'reviewer_site':...\n",
       "0            claim_date  {'reviewer_name': 'Alt News', 'reviewer_site':...\n",
       "0           review_date  {'reviewer_name': 'Alt News', 'reviewer_site':...\n",
       "0                    id  {'reviewer_name': 'Alt News', 'reviewer_site':...\n",
       "...                 ...                                                ...\n",
       "26975             claim  {'reviewer_name': 'Alt News', 'reviewer_site':...\n",
       "26975        claim_date  {'reviewer_name': 'Alt News', 'reviewer_site':...\n",
       "26975       review_date  {'reviewer_name': 'Alt News', 'reviewer_site':...\n",
       "26975                id  {'reviewer_name': 'Alt News', 'reviewer_site':...\n",
       "26975  premise_articles  {'reviewer_name': 'Alt News', 'reviewer_site':...\n",
       "\n",
       "[161856 rows x 2 columns]"
      ]
     },
     "execution_count": 4,
     "metadata": {},
     "output_type": "execute_result"
    }
   ],
   "source": [
    "train_pd"
   ]
  }
 ],
 "metadata": {
  "kernelspec": {
   "display_name": "Python 3",
   "language": "python",
   "name": "python3"
  },
  "language_info": {
   "codemirror_mode": {
    "name": "ipython",
    "version": 3
   },
   "file_extension": ".py",
   "mimetype": "text/x-python",
   "name": "python",
   "nbconvert_exporter": "python",
   "pygments_lexer": "ipython3",
   "version": "3.11.6"
  }
 },
 "nbformat": 4,
 "nbformat_minor": 2
}
