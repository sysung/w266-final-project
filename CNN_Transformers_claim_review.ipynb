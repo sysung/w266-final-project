{
  "cells": [
    {
      "cell_type": "code",
      "execution_count": 1,
      "metadata": {
        "id": "4gT3IGu2QmSq"
      },
      "outputs": [],
      "source": [
        "#@title Installs\n",
        "\n",
        "# !pip install pydot --quiet\n",
        "# !pip install gensim --quiet\n",
        "# !pip install tensorflow-datasets --quiet\n",
        "# !pip install -U tensorflow-text --quiet\n",
        "!pip install transformers --quiet"
      ]
    },
    {
      "cell_type": "code",
      "execution_count": 1,
      "metadata": {
        "colab": {
          "base_uri": "https://localhost:8080/"
        },
        "id": "zlaJOvtYRQeo",
        "outputId": "ef19b31d-6485-4e06-8f61-63368a185572"
      },
      "outputs": [
        {
          "output_type": "stream",
          "name": "stdout",
          "text": [
            "Mounted at /content/drive/\n"
          ]
        }
      ],
      "source": [
        "from google.colab import drive\n",
        "drive.mount('/content/drive/')"
      ]
    },
    {
      "cell_type": "code",
      "execution_count": null,
      "metadata": {
        "id": "EryG4CgFQogA"
      },
      "outputs": [],
      "source": [
        "# !source /content/drive/MyDrive/vir_env/bin/activate;"
      ]
    },
    {
      "cell_type": "code",
      "execution_count": 19,
      "metadata": {
        "id": "z3ZpwoRxQ5xR"
      },
      "outputs": [],
      "source": [
        "import numpy as np\n",
        "import tensorflow as tf\n",
        "from tensorflow import keras\n",
        "\n",
        "from tensorflow.keras.layers import Embedding, Input, Dense, Lambda\n",
        "from tensorflow.keras.models import Model\n",
        "import tensorflow.keras.backend as K\n",
        "# import tensorflow_datasets as tfds\n",
        "# # import tensorflow_text as tf_text\n",
        "\n",
        "from keras.callbacks import EarlyStopping\n",
        "my_callbacks = [EarlyStopping(patience=2, monitor=\"accuracy\")]\n",
        "\n",
        "from sklearn.metrics import classification_report\n",
        "\n",
        "import sklearn as sk\n",
        "import os\n",
        "import nltk\n",
        "from nltk.data import find\n",
        "\n",
        "import matplotlib.pyplot as plt\n",
        "\n",
        "import re\n",
        "import pandas as pd\n",
        "\n",
        "import pickle"
      ]
    },
    {
      "cell_type": "code",
      "execution_count": 4,
      "metadata": {
        "colab": {
          "base_uri": "https://localhost:8080/"
        },
        "id": "8UPQvv7DO7iD",
        "outputId": "3af3b481-2ef6-42c8-d6b6-38768e716c87"
      },
      "outputs": [
        {
          "output_type": "stream",
          "name": "stdout",
          "text": [
            "/content/drive/MyDrive/Berkeley/w266\n"
          ]
        }
      ],
      "source": [
        "cd '/content/drive/MyDrive/Berkeley/w266/'"
      ]
    },
    {
      "cell_type": "code",
      "execution_count": 5,
      "metadata": {
        "colab": {
          "base_uri": "https://localhost:8080/"
        },
        "id": "zJjEquw-RTgu",
        "outputId": "5e511a34-3c24-4904-a51d-7aeb6fe9c0ef"
      },
      "outputs": [
        {
          "output_type": "stream",
          "name": "stdout",
          "text": [
            "Mon Nov 20 15:04:03 2023       \n",
            "+-----------------------------------------------------------------------------+\n",
            "| NVIDIA-SMI 525.105.17   Driver Version: 525.105.17   CUDA Version: 12.0     |\n",
            "|-------------------------------+----------------------+----------------------+\n",
            "| GPU  Name        Persistence-M| Bus-Id        Disp.A | Volatile Uncorr. ECC |\n",
            "| Fan  Temp  Perf  Pwr:Usage/Cap|         Memory-Usage | GPU-Util  Compute M. |\n",
            "|                               |                      |               MIG M. |\n",
            "|===============================+======================+======================|\n",
            "|   0  NVIDIA A100-SXM...  Off  | 00000000:00:04.0 Off |                    0 |\n",
            "| N/A   32C    P0    45W / 400W |      0MiB / 40960MiB |      0%      Default |\n",
            "|                               |                      |             Disabled |\n",
            "+-------------------------------+----------------------+----------------------+\n",
            "                                                                               \n",
            "+-----------------------------------------------------------------------------+\n",
            "| Processes:                                                                  |\n",
            "|  GPU   GI   CI        PID   Type   Process name                  GPU Memory |\n",
            "|        ID   ID                                                   Usage      |\n",
            "|=============================================================================|\n",
            "|  No running processes found                                                 |\n",
            "+-----------------------------------------------------------------------------+\n"
          ]
        }
      ],
      "source": [
        "# print(\"Num GPUs Available: \", len(tf.config.list_physical_devices('GPU')))\n",
        "\n",
        "gpu_info = !nvidia-smi\n",
        "gpu_info = '\\n'.join(gpu_info)\n",
        "if gpu_info.find('failed') >= 0:\n",
        "  print('Not connected to a GPU')\n",
        "else:\n",
        "  print(gpu_info)"
      ]
    },
    {
      "cell_type": "code",
      "execution_count": 6,
      "metadata": {
        "colab": {
          "base_uri": "https://localhost:8080/"
        },
        "id": "PU_gh9F5itPu",
        "outputId": "b8be21c3-0726-4d6b-c9ed-cdf24a0dbd0f"
      },
      "outputs": [
        {
          "output_type": "stream",
          "name": "stdout",
          "text": [
            "Mon Nov 20 15:04:03 2023       \n",
            "+-----------------------------------------------------------------------------+\n",
            "| NVIDIA-SMI 525.105.17   Driver Version: 525.105.17   CUDA Version: 12.0     |\n",
            "|-------------------------------+----------------------+----------------------+\n",
            "| GPU  Name        Persistence-M| Bus-Id        Disp.A | Volatile Uncorr. ECC |\n",
            "| Fan  Temp  Perf  Pwr:Usage/Cap|         Memory-Usage | GPU-Util  Compute M. |\n",
            "|                               |                      |               MIG M. |\n",
            "|===============================+======================+======================|\n",
            "|   0  NVIDIA A100-SXM...  Off  | 00000000:00:04.0 Off |                    0 |\n",
            "| N/A   32C    P0    45W / 400W |      0MiB / 40960MiB |      0%      Default |\n",
            "|                               |                      |             Disabled |\n",
            "+-------------------------------+----------------------+----------------------+\n",
            "                                                                               \n",
            "+-----------------------------------------------------------------------------+\n",
            "| Processes:                                                                  |\n",
            "|  GPU   GI   CI        PID   Type   Process name                  GPU Memory |\n",
            "|        ID   ID                                                   Usage      |\n",
            "|=============================================================================|\n",
            "|  No running processes found                                                 |\n",
            "+-----------------------------------------------------------------------------+\n"
          ]
        }
      ],
      "source": [
        "gpu_info = !nvidia-smi\n",
        "gpu_info = '\\n'.join(gpu_info)\n",
        "if gpu_info.find('failed') >= 0:\n",
        "  print('Not connected to a GPU')\n",
        "else:\n",
        "  print(gpu_info)"
      ]
    },
    {
      "cell_type": "code",
      "execution_count": 7,
      "metadata": {
        "id": "7J1dTp1kRVkB"
      },
      "outputs": [],
      "source": [
        "file_path = 'data/'\n",
        "train_df = pd.read_csv(file_path+'train_df_review.csv')\n",
        "test_df = pd.read_csv(file_path+'test_df_review.csv')\n",
        "val_df = pd.read_csv(file_path+'val_df_review.csv')"
      ]
    },
    {
      "cell_type": "code",
      "source": [
        "train_df.head()"
      ],
      "metadata": {
        "colab": {
          "base_uri": "https://localhost:8080/",
          "height": 206
        },
        "id": "ySyyJGOEPz4B",
        "outputId": "9204f996-6b6e-4c99-cafb-fcf3cd464562"
      },
      "execution_count": 8,
      "outputs": [
        {
          "output_type": "execute_result",
          "data": {
            "text/plain": [
              "                                               claim  id  rating  \\\n",
              "0  OpIndia claimed Greta Thunberg's real name is ...   1       0   \n",
              "1  “38,000 prisoners were released from federal p...   2       1   \n",
              "2  Says Wisconsin ‘could compel’ Foxconn to insta...   3       1   \n",
              "3  A 4-year-old boy was accused of hacking the FB...   4       0   \n",
              "4  Whistleblower accusing Philippine VP of fraud ...   5       1   \n",
              "\n",
              "  original_rating                                             review  \\\n",
              "0           false  ['Link  profile   Link  canonical   Skip to co...   \n",
              "1      misleading  ['Link  profile   Link  canonical   Link  shor...   \n",
              "2     barely-true  ['The Poynter Institute   Menu   Donate       ...   \n",
              "3           false  ['Link  canonical   Link  shortlink   Snopes c...   \n",
              "4      misleading  ['Link  profile   Link  canonical   Link  shor...   \n",
              "\n",
              "                                        review_claim  new_rating  \\\n",
              "0  OpIndia claimed Greta Thunberg's real name is ...       false   \n",
              "1  “38,000 prisoners were released from federal p...  misleading   \n",
              "2  Says Wisconsin ‘could compel’ Foxconn to insta...  misleading   \n",
              "3  A 4-year-old boy was accused of hacking the FB...       false   \n",
              "4  Whistleblower accusing Philippine VP of fraud ...  misleading   \n",
              "\n",
              "                                            question  \n",
              "0  Is the claim \"OpIndia claimed Greta Thunberg's...  \n",
              "1  Is the claim \"“38,000 prisoners were released ...  \n",
              "2  Is the claim \"Says Wisconsin ‘could compel’ Fo...  \n",
              "3  Is the claim \"A 4-year-old boy was accused of ...  \n",
              "4  Is the claim \"Whistleblower accusing Philippin...  "
            ],
            "text/html": [
              "\n",
              "  <div id=\"df-947db27c-49d5-4ed0-b1c7-adbd56516111\" class=\"colab-df-container\">\n",
              "    <div>\n",
              "<style scoped>\n",
              "    .dataframe tbody tr th:only-of-type {\n",
              "        vertical-align: middle;\n",
              "    }\n",
              "\n",
              "    .dataframe tbody tr th {\n",
              "        vertical-align: top;\n",
              "    }\n",
              "\n",
              "    .dataframe thead th {\n",
              "        text-align: right;\n",
              "    }\n",
              "</style>\n",
              "<table border=\"1\" class=\"dataframe\">\n",
              "  <thead>\n",
              "    <tr style=\"text-align: right;\">\n",
              "      <th></th>\n",
              "      <th>claim</th>\n",
              "      <th>id</th>\n",
              "      <th>rating</th>\n",
              "      <th>original_rating</th>\n",
              "      <th>review</th>\n",
              "      <th>review_claim</th>\n",
              "      <th>new_rating</th>\n",
              "      <th>question</th>\n",
              "    </tr>\n",
              "  </thead>\n",
              "  <tbody>\n",
              "    <tr>\n",
              "      <th>0</th>\n",
              "      <td>OpIndia claimed Greta Thunberg's real name is ...</td>\n",
              "      <td>1</td>\n",
              "      <td>0</td>\n",
              "      <td>false</td>\n",
              "      <td>['Link  profile   Link  canonical   Skip to co...</td>\n",
              "      <td>OpIndia claimed Greta Thunberg's real name is ...</td>\n",
              "      <td>false</td>\n",
              "      <td>Is the claim \"OpIndia claimed Greta Thunberg's...</td>\n",
              "    </tr>\n",
              "    <tr>\n",
              "      <th>1</th>\n",
              "      <td>“38,000 prisoners were released from federal p...</td>\n",
              "      <td>2</td>\n",
              "      <td>1</td>\n",
              "      <td>misleading</td>\n",
              "      <td>['Link  profile   Link  canonical   Link  shor...</td>\n",
              "      <td>“38,000 prisoners were released from federal p...</td>\n",
              "      <td>misleading</td>\n",
              "      <td>Is the claim \"“38,000 prisoners were released ...</td>\n",
              "    </tr>\n",
              "    <tr>\n",
              "      <th>2</th>\n",
              "      <td>Says Wisconsin ‘could compel’ Foxconn to insta...</td>\n",
              "      <td>3</td>\n",
              "      <td>1</td>\n",
              "      <td>barely-true</td>\n",
              "      <td>['The Poynter Institute   Menu   Donate       ...</td>\n",
              "      <td>Says Wisconsin ‘could compel’ Foxconn to insta...</td>\n",
              "      <td>misleading</td>\n",
              "      <td>Is the claim \"Says Wisconsin ‘could compel’ Fo...</td>\n",
              "    </tr>\n",
              "    <tr>\n",
              "      <th>3</th>\n",
              "      <td>A 4-year-old boy was accused of hacking the FB...</td>\n",
              "      <td>4</td>\n",
              "      <td>0</td>\n",
              "      <td>false</td>\n",
              "      <td>['Link  canonical   Link  shortlink   Snopes c...</td>\n",
              "      <td>A 4-year-old boy was accused of hacking the FB...</td>\n",
              "      <td>false</td>\n",
              "      <td>Is the claim \"A 4-year-old boy was accused of ...</td>\n",
              "    </tr>\n",
              "    <tr>\n",
              "      <th>4</th>\n",
              "      <td>Whistleblower accusing Philippine VP of fraud ...</td>\n",
              "      <td>5</td>\n",
              "      <td>1</td>\n",
              "      <td>misleading</td>\n",
              "      <td>['Link  profile   Link  canonical   Link  shor...</td>\n",
              "      <td>Whistleblower accusing Philippine VP of fraud ...</td>\n",
              "      <td>misleading</td>\n",
              "      <td>Is the claim \"Whistleblower accusing Philippin...</td>\n",
              "    </tr>\n",
              "  </tbody>\n",
              "</table>\n",
              "</div>\n",
              "    <div class=\"colab-df-buttons\">\n",
              "\n",
              "  <div class=\"colab-df-container\">\n",
              "    <button class=\"colab-df-convert\" onclick=\"convertToInteractive('df-947db27c-49d5-4ed0-b1c7-adbd56516111')\"\n",
              "            title=\"Convert this dataframe to an interactive table.\"\n",
              "            style=\"display:none;\">\n",
              "\n",
              "  <svg xmlns=\"http://www.w3.org/2000/svg\" height=\"24px\" viewBox=\"0 -960 960 960\">\n",
              "    <path d=\"M120-120v-720h720v720H120Zm60-500h600v-160H180v160Zm220 220h160v-160H400v160Zm0 220h160v-160H400v160ZM180-400h160v-160H180v160Zm440 0h160v-160H620v160ZM180-180h160v-160H180v160Zm440 0h160v-160H620v160Z\"/>\n",
              "  </svg>\n",
              "    </button>\n",
              "\n",
              "  <style>\n",
              "    .colab-df-container {\n",
              "      display:flex;\n",
              "      gap: 12px;\n",
              "    }\n",
              "\n",
              "    .colab-df-convert {\n",
              "      background-color: #E8F0FE;\n",
              "      border: none;\n",
              "      border-radius: 50%;\n",
              "      cursor: pointer;\n",
              "      display: none;\n",
              "      fill: #1967D2;\n",
              "      height: 32px;\n",
              "      padding: 0 0 0 0;\n",
              "      width: 32px;\n",
              "    }\n",
              "\n",
              "    .colab-df-convert:hover {\n",
              "      background-color: #E2EBFA;\n",
              "      box-shadow: 0px 1px 2px rgba(60, 64, 67, 0.3), 0px 1px 3px 1px rgba(60, 64, 67, 0.15);\n",
              "      fill: #174EA6;\n",
              "    }\n",
              "\n",
              "    .colab-df-buttons div {\n",
              "      margin-bottom: 4px;\n",
              "    }\n",
              "\n",
              "    [theme=dark] .colab-df-convert {\n",
              "      background-color: #3B4455;\n",
              "      fill: #D2E3FC;\n",
              "    }\n",
              "\n",
              "    [theme=dark] .colab-df-convert:hover {\n",
              "      background-color: #434B5C;\n",
              "      box-shadow: 0px 1px 3px 1px rgba(0, 0, 0, 0.15);\n",
              "      filter: drop-shadow(0px 1px 2px rgba(0, 0, 0, 0.3));\n",
              "      fill: #FFFFFF;\n",
              "    }\n",
              "  </style>\n",
              "\n",
              "    <script>\n",
              "      const buttonEl =\n",
              "        document.querySelector('#df-947db27c-49d5-4ed0-b1c7-adbd56516111 button.colab-df-convert');\n",
              "      buttonEl.style.display =\n",
              "        google.colab.kernel.accessAllowed ? 'block' : 'none';\n",
              "\n",
              "      async function convertToInteractive(key) {\n",
              "        const element = document.querySelector('#df-947db27c-49d5-4ed0-b1c7-adbd56516111');\n",
              "        const dataTable =\n",
              "          await google.colab.kernel.invokeFunction('convertToInteractive',\n",
              "                                                    [key], {});\n",
              "        if (!dataTable) return;\n",
              "\n",
              "        const docLinkHtml = 'Like what you see? Visit the ' +\n",
              "          '<a target=\"_blank\" href=https://colab.research.google.com/notebooks/data_table.ipynb>data table notebook</a>'\n",
              "          + ' to learn more about interactive tables.';\n",
              "        element.innerHTML = '';\n",
              "        dataTable['output_type'] = 'display_data';\n",
              "        await google.colab.output.renderOutput(dataTable, element);\n",
              "        const docLink = document.createElement('div');\n",
              "        docLink.innerHTML = docLinkHtml;\n",
              "        element.appendChild(docLink);\n",
              "      }\n",
              "    </script>\n",
              "  </div>\n",
              "\n",
              "\n",
              "<div id=\"df-a604d0e2-5216-418b-9592-8e4cc3a0d403\">\n",
              "  <button class=\"colab-df-quickchart\" onclick=\"quickchart('df-a604d0e2-5216-418b-9592-8e4cc3a0d403')\"\n",
              "            title=\"Suggest charts\"\n",
              "            style=\"display:none;\">\n",
              "\n",
              "<svg xmlns=\"http://www.w3.org/2000/svg\" height=\"24px\"viewBox=\"0 0 24 24\"\n",
              "     width=\"24px\">\n",
              "    <g>\n",
              "        <path d=\"M19 3H5c-1.1 0-2 .9-2 2v14c0 1.1.9 2 2 2h14c1.1 0 2-.9 2-2V5c0-1.1-.9-2-2-2zM9 17H7v-7h2v7zm4 0h-2V7h2v10zm4 0h-2v-4h2v4z\"/>\n",
              "    </g>\n",
              "</svg>\n",
              "  </button>\n",
              "\n",
              "<style>\n",
              "  .colab-df-quickchart {\n",
              "      --bg-color: #E8F0FE;\n",
              "      --fill-color: #1967D2;\n",
              "      --hover-bg-color: #E2EBFA;\n",
              "      --hover-fill-color: #174EA6;\n",
              "      --disabled-fill-color: #AAA;\n",
              "      --disabled-bg-color: #DDD;\n",
              "  }\n",
              "\n",
              "  [theme=dark] .colab-df-quickchart {\n",
              "      --bg-color: #3B4455;\n",
              "      --fill-color: #D2E3FC;\n",
              "      --hover-bg-color: #434B5C;\n",
              "      --hover-fill-color: #FFFFFF;\n",
              "      --disabled-bg-color: #3B4455;\n",
              "      --disabled-fill-color: #666;\n",
              "  }\n",
              "\n",
              "  .colab-df-quickchart {\n",
              "    background-color: var(--bg-color);\n",
              "    border: none;\n",
              "    border-radius: 50%;\n",
              "    cursor: pointer;\n",
              "    display: none;\n",
              "    fill: var(--fill-color);\n",
              "    height: 32px;\n",
              "    padding: 0;\n",
              "    width: 32px;\n",
              "  }\n",
              "\n",
              "  .colab-df-quickchart:hover {\n",
              "    background-color: var(--hover-bg-color);\n",
              "    box-shadow: 0 1px 2px rgba(60, 64, 67, 0.3), 0 1px 3px 1px rgba(60, 64, 67, 0.15);\n",
              "    fill: var(--button-hover-fill-color);\n",
              "  }\n",
              "\n",
              "  .colab-df-quickchart-complete:disabled,\n",
              "  .colab-df-quickchart-complete:disabled:hover {\n",
              "    background-color: var(--disabled-bg-color);\n",
              "    fill: var(--disabled-fill-color);\n",
              "    box-shadow: none;\n",
              "  }\n",
              "\n",
              "  .colab-df-spinner {\n",
              "    border: 2px solid var(--fill-color);\n",
              "    border-color: transparent;\n",
              "    border-bottom-color: var(--fill-color);\n",
              "    animation:\n",
              "      spin 1s steps(1) infinite;\n",
              "  }\n",
              "\n",
              "  @keyframes spin {\n",
              "    0% {\n",
              "      border-color: transparent;\n",
              "      border-bottom-color: var(--fill-color);\n",
              "      border-left-color: var(--fill-color);\n",
              "    }\n",
              "    20% {\n",
              "      border-color: transparent;\n",
              "      border-left-color: var(--fill-color);\n",
              "      border-top-color: var(--fill-color);\n",
              "    }\n",
              "    30% {\n",
              "      border-color: transparent;\n",
              "      border-left-color: var(--fill-color);\n",
              "      border-top-color: var(--fill-color);\n",
              "      border-right-color: var(--fill-color);\n",
              "    }\n",
              "    40% {\n",
              "      border-color: transparent;\n",
              "      border-right-color: var(--fill-color);\n",
              "      border-top-color: var(--fill-color);\n",
              "    }\n",
              "    60% {\n",
              "      border-color: transparent;\n",
              "      border-right-color: var(--fill-color);\n",
              "    }\n",
              "    80% {\n",
              "      border-color: transparent;\n",
              "      border-right-color: var(--fill-color);\n",
              "      border-bottom-color: var(--fill-color);\n",
              "    }\n",
              "    90% {\n",
              "      border-color: transparent;\n",
              "      border-bottom-color: var(--fill-color);\n",
              "    }\n",
              "  }\n",
              "</style>\n",
              "\n",
              "  <script>\n",
              "    async function quickchart(key) {\n",
              "      const quickchartButtonEl =\n",
              "        document.querySelector('#' + key + ' button');\n",
              "      quickchartButtonEl.disabled = true;  // To prevent multiple clicks.\n",
              "      quickchartButtonEl.classList.add('colab-df-spinner');\n",
              "      try {\n",
              "        const charts = await google.colab.kernel.invokeFunction(\n",
              "            'suggestCharts', [key], {});\n",
              "      } catch (error) {\n",
              "        console.error('Error during call to suggestCharts:', error);\n",
              "      }\n",
              "      quickchartButtonEl.classList.remove('colab-df-spinner');\n",
              "      quickchartButtonEl.classList.add('colab-df-quickchart-complete');\n",
              "    }\n",
              "    (() => {\n",
              "      let quickchartButtonEl =\n",
              "        document.querySelector('#df-a604d0e2-5216-418b-9592-8e4cc3a0d403 button');\n",
              "      quickchartButtonEl.style.display =\n",
              "        google.colab.kernel.accessAllowed ? 'block' : 'none';\n",
              "    })();\n",
              "  </script>\n",
              "</div>\n",
              "    </div>\n",
              "  </div>\n"
            ]
          },
          "metadata": {},
          "execution_count": 8
        }
      ]
    },
    {
      "cell_type": "code",
      "execution_count": 4,
      "metadata": {
        "id": "cFJWVN6GRXmr"
      },
      "outputs": [],
      "source": [
        "# 6-window plot of loss and accuracy for three models, for comparison\n",
        "\n",
        "def make_plot(axs,\n",
        "              model_history1,\n",
        "              model_history2,\n",
        "              model_history3,\n",
        "              model_1_name='model 1',\n",
        "              model_2_name='model 2',\n",
        "              model_3_name='model 3',\n",
        "              ):\n",
        "    box = dict(facecolor='yellow', pad=5, alpha=0.2)\n",
        "\n",
        "    for i, metric in enumerate(['loss', 'accuracy']):\n",
        "        y_lim_lower1 = np.min(model_history1.history[metric])\n",
        "        y_lim_lower2 = np.min(model_history2.history[metric])\n",
        "        y_lim_lower = min(y_lim_lower1, y_lim_lower2) * 0.9\n",
        "\n",
        "        y_lim_upper1 = np.max(model_history1.history[metric])\n",
        "        y_lim_upper2 = np.max(model_history2.history[metric])\n",
        "        y_lim_upper = max(y_lim_upper1, y_lim_upper2) * 1.1\n",
        "\n",
        "        for j, model_history in enumerate([model_history1, model_history2, model_history3]):\n",
        "            model_name = [model_1_name, model_2_name, model_3_name][j]\n",
        "            ax1 = axs[i, j]\n",
        "            ax1.plot(model_history.history[metric])\n",
        "            ax1.plot(model_history.history['val_%s' % metric])\n",
        "            ax1.set_title('%s - %s' % (metric, model_name))\n",
        "            ax1.set_ylabel(metric, bbox=box)\n",
        "            ax1.set_ylim(y_lim_lower, y_lim_upper)\n",
        "\n",
        "\n",
        "# 4-window plot of loss and accuracy for two models, for comparison\n",
        "\n",
        "def make_2plots(axs,\n",
        "              model_history1,\n",
        "              model_history2,\n",
        "              model_1_name='model 1',\n",
        "              model_2_name='model 2'\n",
        "              ):\n",
        "    box = dict(facecolor='yellow', pad=5, alpha=0.2)\n",
        "\n",
        "    for i, metric in enumerate(['loss', 'accuracy']):\n",
        "        y_lim_lower1 = np.min(model_history1.history[metric])\n",
        "        y_lim_lower2 = np.min(model_history2.history[metric])\n",
        "        y_lim_lower = min(y_lim_lower1, y_lim_lower2) * 0.9\n",
        "\n",
        "        y_lim_upper1 = np.max(model_history1.history[metric])\n",
        "        y_lim_upper2 = np.max(model_history2.history[metric])\n",
        "        y_lim_upper = max(y_lim_upper1, y_lim_upper2) * 1.1\n",
        "\n",
        "        for j, model_history in enumerate([model_history1, model_history2]):\n",
        "            model_name = [model_1_name, model_2_name][j]\n",
        "            ax1 = axs[i, j]\n",
        "            ax1.plot(model_history.history[metric])\n",
        "            ax1.plot(model_history.history['val_%s' % metric])\n",
        "            ax1.set_title('%s - %s' % (metric, model_name))\n",
        "            ax1.set_ylabel(metric, bbox=box)\n",
        "            ax1.set_ylim(y_lim_lower, y_lim_upper)\n",
        "\n",
        "\n"
      ]
    },
    {
      "cell_type": "code",
      "execution_count": null,
      "metadata": {
        "id": "cKp5xcZm3NoB"
      },
      "outputs": [],
      "source": []
    },
    {
      "cell_type": "code",
      "execution_count": 10,
      "metadata": {
        "id": "6E-oqg92RZnM"
      },
      "outputs": [],
      "source": [
        "from transformers import BertTokenizer, TFBertModel\n",
        "\n",
        "from transformers import logging\n",
        "logging.set_verbosity_error()"
      ]
    },
    {
      "cell_type": "markdown",
      "metadata": {
        "id": "uyDNcoqoT9aa"
      },
      "source": [
        "**Claim + Review**\n",
        "\n",
        "change max Legnth to 700"
      ]
    },
    {
      "cell_type": "code",
      "execution_count": 11,
      "metadata": {
        "colab": {
          "base_uri": "https://localhost:8080/",
          "height": 177,
          "referenced_widgets": [
            "5075a5d26f4a42eeae088882b36914b4",
            "ef672682c0ba4dcf92065981d97fe88d",
            "9b083770c40a41cf80f828b3aa18859d",
            "200cf317777b40839bc2d0976583eecf",
            "8ca90c1d8458465daceac414abd0bf00",
            "41be457297a3420c87759bcef3c9b594",
            "2e4c825c204c4c9d9d963dc687364d37",
            "6deaff75389e4a3b95528088f0ab18ec",
            "44fbee51d266466cbb12ac78926f1950",
            "99e687e4a5564042aa2c5ba22ddd5b2d",
            "8e367a0628d9463d8b914fe00a3936e9",
            "e55ef2f23a9b43a389326b13aae60dbb",
            "44243f1274624548bcb421ca4818bd09",
            "1d749ec7c8ed4e2aa08b23f8b9eab044",
            "feee73985fa44507b04991c425f9791b",
            "09c434afccb749f5af65a65e62f512e7",
            "32d646e1db7b42adaee904ffbd93ce1a",
            "6b2d01fde8774a5fa759fb601f37695f",
            "15e6d6b0fabe48fdaee93ef4e662aecd",
            "d1c5761ca50a4afaabdd0f022d33fcd8",
            "427a3184afed4f8e90609977e4fec1f9",
            "d14279bf90eb41b6b679758529ec856c",
            "7dcf71dc70c4450b9ebbdb184824337e",
            "ea2ae75d978d4a148ffbb8fe15061ee9",
            "0d9fc839ce24482ba69a50c3732b4d88",
            "db64097f5e684766bd0a0656515b6106",
            "0158b1498b6a44f88cd1cca00fc54e1f",
            "ee61ec479f344c90a88b6088406a2661",
            "848a0df158b646b497833cb4e8b1ca5f",
            "9fb381753a274310b9acb91859f8941a",
            "e6da0eb9079941e289af611bb9cac35e",
            "55332e234c7f47729e8dbcdec3094251",
            "cc4a13e719cf4dc1a4d706036ac5dd6e",
            "4aa56be99ebd46abb5be855c7376c9ca",
            "c214d7a4539f4594a36dc5e984ea534f",
            "042ac5f99a81425b8c65c423c7fdffac",
            "482f66fac104406f8a0364ba161c85b3",
            "4a2063bbb8ef465ca730b938329579f6",
            "af8aa6f0b7664ffea12f944d874e23fd",
            "c7721653dd5c4b758fcc708326512d73",
            "64adb07b3e5e4e5aaf4edc3a6964674e",
            "1a03f83d1eab4c1cbacb0640f2cffd00",
            "922907aef23f431ebb5adaa431bd92be",
            "50940466c9c14ee4a6fa51df7be1a61f",
            "1d53f79abd8b4153889e9b8dcf94141c",
            "c3c70a07298d4056bfc3fd44729d2af5",
            "73d1493640bc43dfaf0fa9a77f9b5fe8",
            "b1f359bfc0384e959737ec09cfe64e48",
            "e10fb706df40434886f4d91c90b15b81",
            "89dc3a92cf0e42fe87bbb2db7e90ea18",
            "13e74fbc8b7641d3a42db10f12b4029f",
            "7729c01143ae4986b63fc03947b018e6",
            "70b4fde6dca94f60871a51bb45c86653",
            "0a5c54940fae49b5a0fe4858fb51811b",
            "153e90a6bcfa4cd1a64730087bbc9d53"
          ]
        },
        "id": "tGWRRuldRcJE",
        "outputId": "5004ac59-bb0b-4d10-b4c1-130b8ea17074"
      },
      "outputs": [
        {
          "output_type": "display_data",
          "data": {
            "text/plain": [
              "tokenizer_config.json:   0%|          | 0.00/29.0 [00:00<?, ?B/s]"
            ],
            "application/vnd.jupyter.widget-view+json": {
              "version_major": 2,
              "version_minor": 0,
              "model_id": "5075a5d26f4a42eeae088882b36914b4"
            }
          },
          "metadata": {}
        },
        {
          "output_type": "display_data",
          "data": {
            "text/plain": [
              "vocab.txt:   0%|          | 0.00/213k [00:00<?, ?B/s]"
            ],
            "application/vnd.jupyter.widget-view+json": {
              "version_major": 2,
              "version_minor": 0,
              "model_id": "e55ef2f23a9b43a389326b13aae60dbb"
            }
          },
          "metadata": {}
        },
        {
          "output_type": "display_data",
          "data": {
            "text/plain": [
              "tokenizer.json:   0%|          | 0.00/436k [00:00<?, ?B/s]"
            ],
            "application/vnd.jupyter.widget-view+json": {
              "version_major": 2,
              "version_minor": 0,
              "model_id": "7dcf71dc70c4450b9ebbdb184824337e"
            }
          },
          "metadata": {}
        },
        {
          "output_type": "display_data",
          "data": {
            "text/plain": [
              "config.json:   0%|          | 0.00/570 [00:00<?, ?B/s]"
            ],
            "application/vnd.jupyter.widget-view+json": {
              "version_major": 2,
              "version_minor": 0,
              "model_id": "4aa56be99ebd46abb5be855c7376c9ca"
            }
          },
          "metadata": {}
        },
        {
          "output_type": "display_data",
          "data": {
            "text/plain": [
              "model.safetensors:   0%|          | 0.00/436M [00:00<?, ?B/s]"
            ],
            "application/vnd.jupyter.widget-view+json": {
              "version_major": 2,
              "version_minor": 0,
              "model_id": "1d53f79abd8b4153889e9b8dcf94141c"
            }
          },
          "metadata": {}
        }
      ],
      "source": [
        "checkpoint = 'bert-base-cased'\n",
        "bert_tokenizer = BertTokenizer.from_pretrained(checkpoint)\n",
        "bert_model = TFBertModel.from_pretrained(checkpoint)\n",
        "\n",
        "field = 'claim'\n",
        "\n",
        "\n",
        "dummy_train_y = np.array(pd.get_dummies(train_df['new_rating']))\n",
        "dummy_valid_y = np.array(pd.get_dummies(val_df['new_rating']))\n",
        "dummy_test_y = np.array(pd.get_dummies(test_df['new_rating']))\n",
        "\n",
        "\n",
        "train_examples = train_df[field].values.tolist()\n",
        "train_examples = tf.convert_to_tensor(train_examples)\n",
        "train_labels = np.array(train_df['rating'].values.tolist())\n",
        "\n",
        "\n",
        "test_examples = test_df[field].values.tolist()\n",
        "test_examples = tf.convert_to_tensor(test_examples)\n",
        "test_labels = np.array(test_df['rating'].values.tolist())\n",
        "\n",
        "\n",
        "\n",
        "val_examples = val_df[field].values.tolist()\n",
        "val_examples = tf.convert_to_tensor(val_examples)\n",
        "val_labels = np.array(val_df['rating'].values.tolist())\n",
        "\n",
        "MAX_SEQUENCE_LENGTH = 300                 # set max_length of the input sequence\n",
        "\n",
        "all_train_examples = [x.decode('utf-8') for x in train_examples.numpy()]\n",
        "all_test_examples = [x.decode('utf-8') for x in val_examples.numpy()]\n",
        "\n",
        "x_train = bert_tokenizer(all_train_examples,\n",
        "              max_length=MAX_SEQUENCE_LENGTH,\n",
        "              truncation=True,\n",
        "              padding='max_length',\n",
        "              return_tensors='tf')\n",
        "y_train = train_labels\n",
        "\n",
        "x_test = bert_tokenizer(all_test_examples,\n",
        "              max_length=MAX_SEQUENCE_LENGTH,\n",
        "              truncation=True,\n",
        "              padding='max_length',\n",
        "              return_tensors='tf')\n",
        "y_test = val_labels"
      ]
    },
    {
      "cell_type": "markdown",
      "metadata": {
        "id": "28p9xSsx3a7k"
      },
      "source": [
        "**1 CNN layer**\n",
        "\n",
        "*Review*"
      ]
    },
    {
      "cell_type": "code",
      "execution_count": 12,
      "metadata": {
        "id": "L3IaAV-2Reoe"
      },
      "outputs": [],
      "source": [
        "\n",
        "\n",
        "def create_bert_cnn_classification_model(bert_model,\n",
        "                                         num_train_layers=12,\n",
        "                                         hidden_size=200,\n",
        "                                         dropout=0.3,\n",
        "                                         cnn_filters=128,\n",
        "                                         cnn_kernel_size=3,\n",
        "                                         learning_rate=0.00005):\n",
        "    if num_train_layers == 0:\n",
        "        bert_model.trainable = False\n",
        "    elif num_train_layers == 12:\n",
        "        bert_model.trainable = True\n",
        "    else:\n",
        "        retrain_layers = ['_' + str(11 - retrain_layer_number) for retrain_layer_number in range(num_train_layers)]\n",
        "        for w in bert_model.weights:\n",
        "            if not any([x in w.name for x in retrain_layers]):\n",
        "                w._trainable = False\n",
        "\n",
        "    input_ids = tf.keras.layers.Input(shape=(MAX_SEQUENCE_LENGTH,), dtype=tf.int64, name='input_ids_layer')\n",
        "    token_type_ids = tf.keras.layers.Input(shape=(MAX_SEQUENCE_LENGTH,), dtype=tf.int64, name='token_type_ids_layer')\n",
        "    attention_mask = tf.keras.layers.Input(shape=(MAX_SEQUENCE_LENGTH,), dtype=tf.int64, name='attention_mask_layer')\n",
        "\n",
        "    bert_inputs = {'input_ids': input_ids,\n",
        "                   'token_type_ids': token_type_ids,\n",
        "                   'attention_mask': attention_mask}\n",
        "\n",
        "    bert_out = bert_model(bert_inputs)\n",
        "\n",
        "    pooler_token = bert_out[1]\n",
        "\n",
        "    # Adding a Convolutional Neural Network (CNN) layer\n",
        "    cnn_layer = tf.keras.layers.Conv1D(filters=cnn_filters, kernel_size=cnn_kernel_size, activation='relu')(bert_out[0])\n",
        "\n",
        "    # Global Max Pooling to reduce dimensionality\n",
        "    cnn_max_pooling = tf.keras.layers.GlobalMaxPooling1D()(cnn_layer)\n",
        "\n",
        "    # Concatenate BERT pooler output with CNN max pooling\n",
        "    concatenated_features = tf.keras.layers.Concatenate()([pooler_token, cnn_max_pooling])\n",
        "\n",
        "    hidden = tf.keras.layers.Dense(hidden_size, activation='relu', name='hidden_layer')(concatenated_features)\n",
        "    hidden = tf.keras.layers.Dropout(dropout)(hidden)\n",
        "\n",
        "    classification = tf.keras.layers.Dense(3, activation='softmax', name='classification_layer')(hidden)\n",
        "\n",
        "    classification_model = tf.keras.Model(inputs=[input_ids, token_type_ids, attention_mask], outputs=[classification])\n",
        "\n",
        "    classification_model.compile(optimizer=tf.keras.optimizers.Adam(learning_rate=learning_rate),\n",
        "                                 loss=tf.keras.losses.categorical_crossentropy,\n",
        "                                 metrics=['accuracy'])\n",
        "\n",
        "    return classification_model\n"
      ]
    },
    {
      "cell_type": "code",
      "execution_count": 18,
      "metadata": {
        "colab": {
          "base_uri": "https://localhost:8080/"
        },
        "id": "wDLstz3C3oTx",
        "outputId": "689c537b-1524-4cb0-89f0-70b00ab20bee"
      },
      "outputs": [
        {
          "output_type": "stream",
          "name": "stdout",
          "text": [
            "Model: \"model_2\"\n",
            "__________________________________________________________________________________________________\n",
            " Layer (type)                Output Shape                 Param #   Connected to                  \n",
            "==================================================================================================\n",
            " attention_mask_layer (Inpu  [(None, 300)]                0         []                            \n",
            " tLayer)                                                                                          \n",
            "                                                                                                  \n",
            " input_ids_layer (InputLaye  [(None, 300)]                0         []                            \n",
            " r)                                                                                               \n",
            "                                                                                                  \n",
            " token_type_ids_layer (Inpu  [(None, 300)]                0         []                            \n",
            " tLayer)                                                                                          \n",
            "                                                                                                  \n",
            " tf_bert_model_3 (TFBertMod  TFBaseModelOutputWithPooli   1083102   ['attention_mask_layer[0][0]',\n",
            " el)                         ngAndCrossAttentions(last_   72         'input_ids_layer[0][0]',     \n",
            "                             hidden_state=(None, 300, 7              'token_type_ids_layer[0][0]']\n",
            "                             68),                                                                 \n",
            "                              pooler_output=(None, 768)                                           \n",
            "                             , past_key_values=None, hi                                           \n",
            "                             dden_states=None, attentio                                           \n",
            "                             ns=None, cross_attentions=                                           \n",
            "                             None)                                                                \n",
            "                                                                                                  \n",
            " conv1d_2 (Conv1D)           (None, 298, 128)             295040    ['tf_bert_model_3[0][0]']     \n",
            "                                                                                                  \n",
            " global_max_pooling1d_2 (Gl  (None, 128)                  0         ['conv1d_2[0][0]']            \n",
            " obalMaxPooling1D)                                                                                \n",
            "                                                                                                  \n",
            " concatenate_2 (Concatenate  (None, 896)                  0         ['tf_bert_model_3[0][1]',     \n",
            " )                                                                   'global_max_pooling1d_2[0][0]\n",
            "                                                                    ']                            \n",
            "                                                                                                  \n",
            " hidden_layer (Dense)        (None, 200)                  179400    ['concatenate_2[0][0]']       \n",
            "                                                                                                  \n",
            " dropout_150 (Dropout)       (None, 200)                  0         ['hidden_layer[0][0]']        \n",
            "                                                                                                  \n",
            " classification_layer (Dens  (None, 3)                    603       ['dropout_150[0][0]']         \n",
            " e)                                                                                               \n",
            "                                                                                                  \n",
            "==================================================================================================\n",
            "Total params: 108785315 (414.98 MB)\n",
            "Trainable params: 108785315 (414.98 MB)\n",
            "Non-trainable params: 0 (0.00 Byte)\n",
            "__________________________________________________________________________________________________\n"
          ]
        }
      ],
      "source": [
        "bert_model = TFBertModel.from_pretrained(checkpoint)\n",
        "bert_classification_model_claim = create_bert_cnn_classification_model(bert_model, num_train_layers=12)\n",
        "bert_classification_model_claim.summary()"
      ]
    },
    {
      "cell_type": "code",
      "execution_count": 20,
      "metadata": {
        "colab": {
          "base_uri": "https://localhost:8080/"
        },
        "id": "zW-QAKNjSDPm",
        "outputId": "3f5a2109-2946-4e54-f4a6-efed8ff5d270"
      },
      "outputs": [
        {
          "output_type": "stream",
          "name": "stdout",
          "text": [
            "Epoch 1/4\n",
            "1686/1686 [==============================] - 449s 247ms/step - loss: 0.8653 - accuracy: 0.6002 - val_loss: 0.8503 - val_accuracy: 0.5973\n",
            "Epoch 2/4\n",
            "1686/1686 [==============================] - 412s 244ms/step - loss: 0.7944 - accuracy: 0.6418 - val_loss: 0.8436 - val_accuracy: 0.6168\n",
            "Epoch 3/4\n",
            "1686/1686 [==============================] - 412s 244ms/step - loss: 0.6839 - accuracy: 0.6989 - val_loss: 0.9300 - val_accuracy: 0.6005\n",
            "Epoch 4/4\n",
            "1686/1686 [==============================] - 412s 244ms/step - loss: 0.5030 - accuracy: 0.7986 - val_loss: 1.0574 - val_accuracy: 0.5712\n"
          ]
        }
      ],
      "source": [
        "bert_classification_model_claim_history = bert_classification_model_claim.fit(\n",
        "    [x_train.input_ids, x_train.token_type_ids, x_train.attention_mask],\n",
        "    dummy_train_y,\n",
        "    validation_data=([x_test.input_ids, x_test.token_type_ids, x_test.attention_mask], dummy_valid_y),\n",
        "    batch_size=16,\n",
        "    epochs=4, callbacks=my_callbacks)"
      ]
    },
    {
      "cell_type": "code",
      "execution_count": 21,
      "metadata": {
        "colab": {
          "base_uri": "https://localhost:8080/"
        },
        "id": "3-RwBX7oSM1T",
        "outputId": "0e7be7a8-2d23-425d-890b-752a678169c5"
      },
      "outputs": [
        {
          "output_type": "stream",
          "name": "stdout",
          "text": [
            "843/843 [==============================] - 134s 159ms/step - loss: 0.2463 - accuracy: 0.9311\n",
            "accuracy: 93.11%\n"
          ]
        }
      ],
      "source": [
        "bert_claim_score = bert_classification_model_claim.evaluate([x_train.input_ids, x_train.token_type_ids, x_train.attention_mask],dummy_train_y)\n",
        "print(\"%s: %.2f%%\" % (bert_classification_model_claim.metrics_names[1], bert_claim_score[1]*100))"
      ]
    },
    {
      "cell_type": "code",
      "execution_count": 22,
      "metadata": {
        "colab": {
          "base_uri": "https://localhost:8080/"
        },
        "id": "QohivPcKSW4f",
        "outputId": "50a2d755-d873-4b9e-c9a1-357095b42b11"
      },
      "outputs": [
        {
          "output_type": "stream",
          "name": "stdout",
          "text": [
            "53/53 [==============================] - 19s 289ms/step\n",
            "              precision    recall  f1-score   support\n",
            "\n",
            "           0       0.68      0.59      0.63      1461\n",
            "           1       0.60      0.63      0.62      1545\n",
            "           2       0.31      0.40      0.34       367\n",
            "\n",
            "    accuracy                           0.59      3373\n",
            "   macro avg       0.53      0.54      0.53      3373\n",
            "weighted avg       0.60      0.59      0.59      3373\n",
            "\n"
          ]
        }
      ],
      "source": [
        "# from sklearn.metrics import classification_report\n",
        "\n",
        "all_test_t_examples = [x.decode('utf-8') for x in test_examples.numpy()]\n",
        "\n",
        "x_test = bert_tokenizer(all_test_t_examples,\n",
        "              max_length=MAX_SEQUENCE_LENGTH,\n",
        "              truncation=True,\n",
        "              padding='max_length',\n",
        "              return_tensors='tf')\n",
        "\n",
        "y_pred = bert_classification_model_claim.predict([x_test.input_ids, x_test.token_type_ids, x_test.attention_mask], batch_size=64, verbose=1)\n",
        "y_pred_bool = np.argmax(y_pred, axis=1)\n",
        "\n",
        "print(classification_report(test_labels, y_pred_bool))"
      ]
    },
    {
      "cell_type": "code",
      "execution_count": 32,
      "metadata": {
        "colab": {
          "base_uri": "https://localhost:8080/",
          "height": 927
        },
        "id": "vQhp9PaASatG",
        "outputId": "1797e4d3-fb58-4a64-89e9-44beb65fed7b"
      },
      "outputs": [
        {
          "output_type": "display_data",
          "data": {
            "text/plain": [
              "<Figure size 640x480 with 1 Axes>"
            ],
            "image/png": "[encoded data removed]"
          },
          "metadata": {}
        },
        {
          "output_type": "display_data",
          "data": {
            "text/plain": [
              "<Figure size 640x480 with 1 Axes>"
            ],
            "image/png": "[encoded data removed]"
          },
          "metadata": {}
        }
      ],
      "source": [
        "\n",
        "\n",
        "# summarize history for accuracy\n",
        "plt.plot(bert_classification_model_claim_history.history['accuracy'])\n",
        "plt.plot(bert_classification_model_claim_history.history['val_accuracy'])\n",
        "plt.title('model accuracy for claim')\n",
        "plt.ylabel('accuracy')\n",
        "plt.xlabel('epoch')\n",
        "plt.legend(['train', 'val'], loc='upper left')\n",
        "plt.show()\n",
        "# summarize history for loss\n",
        "plt.plot(bert_classification_model_claim_history.history['loss'])\n",
        "plt.plot(bert_classification_model_claim_history.history['val_loss'])\n",
        "plt.title('model loss for claim')\n",
        "plt.ylabel('loss')\n",
        "plt.xlabel('epoch')\n",
        "plt.legend(['train', 'val'], loc='upper left')\n",
        "plt.show()\n"
      ]
    },
    {
      "cell_type": "code",
      "execution_count": 33,
      "metadata": {
        "colab": {
          "base_uri": "https://localhost:8080/"
        },
        "id": "9FkkpWGaiSDV",
        "outputId": "a581986c-961d-47d4-8296-5754e76cba38"
      },
      "outputs": [
        {
          "output_type": "stream",
          "name": "stdout",
          "text": [
            "{'loss': [0.8653023838996887, 0.7943713068962097, 0.6838514804840088, 0.5030102133750916], 'accuracy': [0.6001631021499634, 0.6417927145957947, 0.6988804936408997, 0.7986358404159546], 'val_loss': [0.8503395318984985, 0.8436448574066162, 0.9300262928009033, 1.0573869943618774], 'val_accuracy': [0.5972716212272644, 0.6168445944786072, 0.6005337834358215, 0.5711743831634521]}\n"
          ]
        },
        {
          "output_type": "stream",
          "name": "stderr",
          "text": [
            "/usr/local/lib/python3.10/dist-packages/keras/src/engine/training.py:3079: UserWarning: You are saving your model as an HDF5 file via `model.save()`. This file format is considered legacy. We recommend using instead the native Keras format, e.g. `model.save('my_model.keras')`.\n",
            "  saving_api.save_model(\n"
          ]
        }
      ],
      "source": [
        "claim_history = bert_classification_model_claim_history.history\n",
        "print(claim_history)\n",
        "with open(\"/content/drive/MyDrive/Berkeley/w266/final_project/model/model_bert_cnn_claim_final.pkl\", \"wb\") as f:\n",
        "    pickle.dump(claim_history, f)\n",
        "\n",
        "bert_classification_model_claim.save('/content/drive/MyDrive/Berkeley/w266/final_project/model/model_bert_cnn_claim.h5')\n",
        "bert_classification_model_claim.save(\"/content/drive/MyDrive/Berkeley/w266/final_project/model/my_model_claim\")"
      ]
    },
    {
      "cell_type": "markdown",
      "metadata": {
        "id": "OZrYYobP46C1"
      },
      "source": [
        "**Only Review**\n",
        "\n",
        "Change max length to 500"
      ]
    },
    {
      "cell_type": "code",
      "execution_count": 34,
      "metadata": {
        "id": "5YQ-zwx94wgj"
      },
      "outputs": [],
      "source": [
        "checkpoint = 'bert-base-cased'\n",
        "bert_tokenizer = BertTokenizer.from_pretrained(checkpoint)\n",
        "bert_model = TFBertModel.from_pretrained(checkpoint)\n",
        "\n",
        "field = 'review'\n",
        "\n",
        "\n",
        "dummy_train_y = np.array(pd.get_dummies(train_df['new_rating']))\n",
        "dummy_valid_y = np.array(pd.get_dummies(val_df['new_rating']))\n",
        "dummy_test_y = np.array(pd.get_dummies(test_df['new_rating']))\n",
        "\n",
        "\n",
        "train_examples = train_df[field].values.tolist()\n",
        "train_examples = tf.convert_to_tensor(train_examples)\n",
        "train_labels = np.array(train_df['rating'].values.tolist())\n",
        "\n",
        "\n",
        "test_examples = test_df[field].values.tolist()\n",
        "test_examples = tf.convert_to_tensor(test_examples)\n",
        "test_labels = np.array(test_df['rating'].values.tolist())\n",
        "\n",
        "\n",
        "\n",
        "val_examples = val_df[field].values.tolist()\n",
        "val_examples = tf.convert_to_tensor(val_examples)\n",
        "val_labels = np.array(val_df['rating'].values.tolist())\n",
        "\n",
        "MAX_SEQUENCE_LENGTH = 500                 # set max_length of the input sequence\n",
        "\n",
        "all_train_examples = [x.decode('utf-8') for x in train_examples.numpy()]\n",
        "all_test_examples = [x.decode('utf-8') for x in val_examples.numpy()]\n",
        "\n",
        "x_train = bert_tokenizer(all_train_examples,\n",
        "              max_length=MAX_SEQUENCE_LENGTH,\n",
        "              truncation=True,\n",
        "              padding='max_length',\n",
        "              return_tensors='tf')\n",
        "y_train = train_labels\n",
        "\n",
        "x_test = bert_tokenizer(all_test_examples,\n",
        "              max_length=MAX_SEQUENCE_LENGTH,\n",
        "              truncation=True,\n",
        "              padding='max_length',\n",
        "              return_tensors='tf')\n",
        "y_test = val_labels"
      ]
    },
    {
      "cell_type": "code",
      "execution_count": 36,
      "metadata": {
        "colab": {
          "base_uri": "https://localhost:8080/"
        },
        "id": "qCRiKY8c45or",
        "outputId": "68f34751-43b3-4f40-be13-28f3ac4675e9"
      },
      "outputs": [
        {
          "output_type": "stream",
          "name": "stdout",
          "text": [
            "Model: \"model_4\"\n",
            "__________________________________________________________________________________________________\n",
            " Layer (type)                Output Shape                 Param #   Connected to                  \n",
            "==================================================================================================\n",
            " attention_mask_layer (Inpu  [(None, 500)]                0         []                            \n",
            " tLayer)                                                                                          \n",
            "                                                                                                  \n",
            " input_ids_layer (InputLaye  [(None, 500)]                0         []                            \n",
            " r)                                                                                               \n",
            "                                                                                                  \n",
            " token_type_ids_layer (Inpu  [(None, 500)]                0         []                            \n",
            " tLayer)                                                                                          \n",
            "                                                                                                  \n",
            " tf_bert_model_6 (TFBertMod  TFBaseModelOutputWithPooli   1083102   ['attention_mask_layer[0][0]',\n",
            " el)                         ngAndCrossAttentions(last_   72         'input_ids_layer[0][0]',     \n",
            "                             hidden_state=(None, 500, 7              'token_type_ids_layer[0][0]']\n",
            "                             68),                                                                 \n",
            "                              pooler_output=(None, 768)                                           \n",
            "                             , past_key_values=None, hi                                           \n",
            "                             dden_states=None, attentio                                           \n",
            "                             ns=None, cross_attentions=                                           \n",
            "                             None)                                                                \n",
            "                                                                                                  \n",
            " conv1d_4 (Conv1D)           (None, 498, 128)             295040    ['tf_bert_model_6[0][0]']     \n",
            "                                                                                                  \n",
            " global_max_pooling1d_4 (Gl  (None, 128)                  0         ['conv1d_4[0][0]']            \n",
            " obalMaxPooling1D)                                                                                \n",
            "                                                                                                  \n",
            " concatenate_4 (Concatenate  (None, 896)                  0         ['tf_bert_model_6[0][1]',     \n",
            " )                                                                   'global_max_pooling1d_4[0][0]\n",
            "                                                                    ']                            \n",
            "                                                                                                  \n",
            " hidden_layer (Dense)        (None, 200)                  179400    ['concatenate_4[0][0]']       \n",
            "                                                                                                  \n",
            " dropout_263 (Dropout)       (None, 200)                  0         ['hidden_layer[0][0]']        \n",
            "                                                                                                  \n",
            " classification_layer (Dens  (None, 3)                    603       ['dropout_263[0][0]']         \n",
            " e)                                                                                               \n",
            "                                                                                                  \n",
            "==================================================================================================\n",
            "Total params: 108785315 (414.98 MB)\n",
            "Trainable params: 108785315 (414.98 MB)\n",
            "Non-trainable params: 0 (0.00 Byte)\n",
            "__________________________________________________________________________________________________\n"
          ]
        }
      ],
      "source": [
        "bert_model = TFBertModel.from_pretrained(checkpoint)\n",
        "bert_classification_model_review = create_bert_cnn_classification_model(bert_model, num_train_layers=12, dropout=0.5)\n",
        "bert_classification_model_review.summary()"
      ]
    },
    {
      "cell_type": "code",
      "execution_count": 37,
      "metadata": {
        "colab": {
          "base_uri": "https://localhost:8080/"
        },
        "id": "AqXe0nLY4wk7",
        "outputId": "0e650b46-dfed-4a22-98f7-adee299bf550"
      },
      "outputs": [
        {
          "output_type": "stream",
          "name": "stdout",
          "text": [
            "Epoch 1/4\n",
            "1686/1686 [==============================] - 729s 413ms/step - loss: 0.3038 - accuracy: 0.8805 - val_loss: 0.1528 - val_accuracy: 0.9416\n",
            "Epoch 2/4\n",
            "1686/1686 [==============================] - 693s 411ms/step - loss: 0.1415 - accuracy: 0.9478 - val_loss: 0.1449 - val_accuracy: 0.9517\n",
            "Epoch 3/4\n",
            "1686/1686 [==============================] - 693s 411ms/step - loss: 0.1327 - accuracy: 0.9511 - val_loss: 0.1462 - val_accuracy: 0.9478\n",
            "Epoch 4/4\n",
            "1686/1686 [==============================] - 693s 411ms/step - loss: 0.1035 - accuracy: 0.9621 - val_loss: 0.1399 - val_accuracy: 0.9520\n"
          ]
        }
      ],
      "source": [
        "bert_classification_model_review_history = bert_classification_model_review.fit(\n",
        "    [x_train.input_ids, x_train.token_type_ids, x_train.attention_mask],\n",
        "    dummy_train_y,\n",
        "    validation_data=([x_test.input_ids, x_test.token_type_ids, x_test.attention_mask], dummy_valid_y),\n",
        "    batch_size=16,\n",
        "    epochs=4, callbacks=my_callbacks)"
      ]
    },
    {
      "cell_type": "code",
      "execution_count": 38,
      "metadata": {
        "id": "QfG3Xmz_4wnZ",
        "colab": {
          "base_uri": "https://localhost:8080/"
        },
        "outputId": "ee327a72-6df7-40d8-e579-5d0e904d4a44"
      },
      "outputs": [
        {
          "output_type": "stream",
          "name": "stdout",
          "text": [
            "843/843 [==============================] - 222s 263ms/step - loss: 0.0718 - accuracy: 0.9731\n",
            "accuracy: 97.31%\n",
            "\n",
            "\n",
            "53/53 [==============================] - 29s 499ms/step\n",
            "              precision    recall  f1-score   support\n",
            "\n",
            "           0       0.95      0.95      0.95      1461\n",
            "           1       0.93      0.96      0.95      1545\n",
            "           2       1.00      0.92      0.96       367\n",
            "\n",
            "    accuracy                           0.95      3373\n",
            "   macro avg       0.96      0.94      0.95      3373\n",
            "weighted avg       0.95      0.95      0.95      3373\n",
            "\n"
          ]
        }
      ],
      "source": [
        "bert_review_score = bert_classification_model_review.evaluate([x_train.input_ids, x_train.token_type_ids, x_train.attention_mask],dummy_train_y)\n",
        "print(\"%s: %.2f%%\" % (bert_classification_model_review.metrics_names[1], bert_review_score[1]*100))\n",
        "print('\\n')\n",
        "\n",
        "all_test_t_examples = [x.decode('utf-8') for x in test_examples.numpy()]\n",
        "\n",
        "x_test = bert_tokenizer(all_test_t_examples,\n",
        "              max_length=MAX_SEQUENCE_LENGTH,\n",
        "              truncation=True,\n",
        "              padding='max_length',\n",
        "              return_tensors='tf')\n",
        "\n",
        "y_pred = bert_classification_model_review.predict([x_test.input_ids, x_test.token_type_ids, x_test.attention_mask], batch_size=64, verbose=1)\n",
        "y_pred_bool = np.argmax(y_pred, axis=1)\n",
        "\n",
        "# run it with test data\n",
        "\n",
        "\n",
        "print(classification_report(test_labels, y_pred_bool))\n"
      ]
    },
    {
      "cell_type": "code",
      "execution_count": 39,
      "metadata": {
        "id": "3WMbOSkm6ptJ",
        "colab": {
          "base_uri": "https://localhost:8080/"
        },
        "outputId": "6e9a3442-29b4-497d-a4b8-f26dfa3bb2d0"
      },
      "outputs": [
        {
          "output_type": "stream",
          "name": "stdout",
          "text": [
            "{'loss': [0.30384546518325806, 0.14149291813373566, 0.13274478912353516, 0.10353776812553406], 'accuracy': [0.8805234432220459, 0.9478054642677307, 0.9510676264762878, 0.9621144533157349], 'val_loss': [0.15276214480400085, 0.14492107927799225, 0.1462087482213974, 0.1399412453174591], 'val_accuracy': [0.941577672958374, 0.9516607522964478, 0.9478054642677307, 0.9519572854042053]}\n"
          ]
        },
        {
          "output_type": "stream",
          "name": "stderr",
          "text": [
            "/usr/local/lib/python3.10/dist-packages/keras/src/engine/training.py:3079: UserWarning: You are saving your model as an HDF5 file via `model.save()`. This file format is considered legacy. We recommend using instead the native Keras format, e.g. `model.save('my_model.keras')`.\n",
            "  saving_api.save_model(\n"
          ]
        }
      ],
      "source": [
        "review_history = bert_classification_model_review_history.history\n",
        "print(review_history)\n",
        "with open(\"/content/drive/MyDrive/Berkeley/w266/final_project/model/model_bert_cnn_review_final.pkl\", \"wb\") as f:\n",
        "    pickle.dump(review_history, f)\n",
        "\n",
        "bert_classification_model_review.save('/content/drive/MyDrive/Berkeley/w266/final_project/model/model_bert_cnn_review.h5')\n",
        "bert_classification_model_review.save(\"/content/drive/MyDrive/Berkeley/w266/final_project/model/my_model_review\")"
      ]
    },
    {
      "cell_type": "code",
      "source": [
        "\n",
        "# summarize history for accuracy\n",
        "plt.plot(bert_classification_model_review_history.history['accuracy'])\n",
        "plt.plot(bert_classification_model_review_history.history['val_accuracy'])\n",
        "plt.title('model accuracy for review')\n",
        "plt.ylabel('accuracy')\n",
        "plt.xlabel('epoch')\n",
        "plt.legend(['train', 'val'], loc='upper left')\n",
        "plt.show()\n",
        "# summarize history for loss\n",
        "plt.plot(bert_classification_model_review_history.history['loss'])\n",
        "plt.plot(bert_classification_model_review_history.history['val_loss'])\n",
        "plt.title('model loss for review')\n",
        "plt.ylabel('loss')\n",
        "plt.xlabel('epoch')\n",
        "plt.legend(['train', 'val'], loc='upper left')\n",
        "plt.show()"
      ],
      "metadata": {
        "colab": {
          "base_uri": "https://localhost:8080/",
          "height": 927
        },
        "id": "m0Sav7rEbkiU",
        "outputId": "814fbb05-bfa7-458e-b97d-e7b1a8c7ecfc"
      },
      "execution_count": 40,
      "outputs": [
        {
          "output_type": "display_data",
          "data": {
            "text/plain": [
              "<Figure size 640x480 with 1 Axes>"
            ],
            "image/png": "[encoded data removed]"
          },
          "metadata": {}
        },
        {
          "output_type": "display_data",
          "data": {
            "text/plain": [
              "<Figure size 640x480 with 1 Axes>"
            ],
            "image/png": "[encoded data removed]"
          },
          "metadata": {}
        }
      ]
    },
    {
      "cell_type": "markdown",
      "metadata": {
        "id": "Ak24fxFe6X5X"
      },
      "source": [
        "** Running only for Claim**"
      ]
    },
    {
      "cell_type": "code",
      "execution_count": 43,
      "metadata": {
        "id": "u2lLVmZF4wqp"
      },
      "outputs": [],
      "source": [
        "checkpoint = 'bert-base-cased'\n",
        "bert_tokenizer = BertTokenizer.from_pretrained(checkpoint)\n",
        "bert_model = TFBertModel.from_pretrained(checkpoint)\n",
        "\n",
        "field = 'review_claim'\n",
        "\n",
        "\n",
        "dummy_train_y = np.array(pd.get_dummies(train_df['new_rating']))\n",
        "dummy_valid_y = np.array(pd.get_dummies(val_df['new_rating']))\n",
        "dummy_test_y = np.array(pd.get_dummies(test_df['new_rating']))\n",
        "\n",
        "\n",
        "train_examples = train_df[field].values.tolist()\n",
        "train_examples = tf.convert_to_tensor(train_examples)\n",
        "train_labels = np.array(train_df['rating'].values.tolist())\n",
        "\n",
        "\n",
        "test_examples = test_df[field].values.tolist()\n",
        "test_examples = tf.convert_to_tensor(test_examples)\n",
        "test_labels = np.array(test_df['rating'].values.tolist())\n",
        "\n",
        "\n",
        "\n",
        "val_examples = val_df[field].values.tolist()\n",
        "val_examples = tf.convert_to_tensor(val_examples)\n",
        "val_labels = np.array(val_df['rating'].values.tolist())\n",
        "\n",
        "MAX_SEQUENCE_LENGTH = 800                 # set max_length of the input sequence\n",
        "\n",
        "all_train_examples = [x.decode('utf-8') for x in train_examples.numpy()]\n",
        "all_test_examples = [x.decode('utf-8') for x in val_examples.numpy()]\n",
        "\n",
        "x_train = bert_tokenizer(all_train_examples,\n",
        "              max_length=MAX_SEQUENCE_LENGTH,\n",
        "              truncation=True,\n",
        "              padding='max_length',\n",
        "              return_tensors='tf')\n",
        "y_train = train_labels\n",
        "\n",
        "x_test = bert_tokenizer(all_test_examples,\n",
        "              max_length=MAX_SEQUENCE_LENGTH,\n",
        "              truncation=True,\n",
        "              padding='max_length',\n",
        "              return_tensors='tf')\n",
        "y_test = val_labels"
      ]
    },
    {
      "cell_type": "code",
      "execution_count": 44,
      "metadata": {
        "id": "zMrtc6yi4wst",
        "colab": {
          "base_uri": "https://localhost:8080/"
        },
        "outputId": "6ee2a4c9-1a12-48a3-b69c-3c817840ee2f"
      },
      "outputs": [
        {
          "output_type": "stream",
          "name": "stdout",
          "text": [
            "Model: \"model_5\"\n",
            "__________________________________________________________________________________________________\n",
            " Layer (type)                Output Shape                 Param #   Connected to                  \n",
            "==================================================================================================\n",
            " attention_mask_layer (Inpu  [(None, 800)]                0         []                            \n",
            " tLayer)                                                                                          \n",
            "                                                                                                  \n",
            " input_ids_layer (InputLaye  [(None, 800)]                0         []                            \n",
            " r)                                                                                               \n",
            "                                                                                                  \n",
            " token_type_ids_layer (Inpu  [(None, 800)]                0         []                            \n",
            " tLayer)                                                                                          \n",
            "                                                                                                  \n",
            " tf_bert_model_10 (TFBertMo  TFBaseModelOutputWithPooli   1083102   ['attention_mask_layer[0][0]',\n",
            " del)                        ngAndCrossAttentions(last_   72         'input_ids_layer[0][0]',     \n",
            "                             hidden_state=(None, 800, 7              'token_type_ids_layer[0][0]']\n",
            "                             68),                                                                 \n",
            "                              pooler_output=(None, 768)                                           \n",
            "                             , past_key_values=None, hi                                           \n",
            "                             dden_states=None, attentio                                           \n",
            "                             ns=None, cross_attentions=                                           \n",
            "                             None)                                                                \n",
            "                                                                                                  \n",
            " conv1d_5 (Conv1D)           (None, 798, 128)             295040    ['tf_bert_model_10[0][0]']    \n",
            "                                                                                                  \n",
            " global_max_pooling1d_5 (Gl  (None, 128)                  0         ['conv1d_5[0][0]']            \n",
            " obalMaxPooling1D)                                                                                \n",
            "                                                                                                  \n",
            " concatenate_5 (Concatenate  (None, 896)                  0         ['tf_bert_model_10[0][1]',    \n",
            " )                                                                   'global_max_pooling1d_5[0][0]\n",
            "                                                                    ']                            \n",
            "                                                                                                  \n",
            " hidden_layer (Dense)        (None, 200)                  179400    ['concatenate_5[0][0]']       \n",
            "                                                                                                  \n",
            " dropout_412 (Dropout)       (None, 200)                  0         ['hidden_layer[0][0]']        \n",
            "                                                                                                  \n",
            " classification_layer (Dens  (None, 3)                    603       ['dropout_412[0][0]']         \n",
            " e)                                                                                               \n",
            "                                                                                                  \n",
            "==================================================================================================\n",
            "Total params: 108785315 (414.98 MB)\n",
            "Trainable params: 108785315 (414.98 MB)\n",
            "Non-trainable params: 0 (0.00 Byte)\n",
            "__________________________________________________________________________________________________\n"
          ]
        }
      ],
      "source": [
        "bert_model = TFBertModel.from_pretrained(checkpoint)\n",
        "bert_classification_model_claim_review = create_bert_cnn_classification_model(bert_model, num_train_layers=12, dropout=0.5)\n",
        "bert_classification_model_claim_review.summary()"
      ]
    },
    {
      "cell_type": "code",
      "execution_count": 46,
      "metadata": {
        "id": "L8mHTXxs4wuy",
        "colab": {
          "base_uri": "https://localhost:8080/"
        },
        "outputId": "60ce369e-009a-4b12-ef3a-685d492d8716"
      },
      "outputs": [
        {
          "output_type": "stream",
          "name": "stdout",
          "text": [
            "Epoch 1/4\n",
            "1686/1686 [==============================] - 1215s 721ms/step - loss: 0.2772 - accuracy: 0.8927 - val_loss: 0.1703 - val_accuracy: 0.9410\n",
            "Epoch 2/4\n",
            "1686/1686 [==============================] - 1211s 719ms/step - loss: 0.1326 - accuracy: 0.9502 - val_loss: 0.1262 - val_accuracy: 0.9517\n",
            "Epoch 3/4\n",
            "1686/1686 [==============================] - 1211s 718ms/step - loss: 0.1190 - accuracy: 0.9558 - val_loss: 0.1298 - val_accuracy: 0.9490\n",
            "Epoch 4/4\n",
            "1686/1686 [==============================] - 1211s 718ms/step - loss: 0.1006 - accuracy: 0.9652 - val_loss: 0.1426 - val_accuracy: 0.9463\n"
          ]
        }
      ],
      "source": [
        "bert_classification_model_claim_review_history = bert_classification_model_claim_review.fit(\n",
        "    [x_train.input_ids, x_train.token_type_ids, x_train.attention_mask],\n",
        "    dummy_train_y,\n",
        "    validation_data=([x_test.input_ids, x_test.token_type_ids, x_test.attention_mask], dummy_valid_y),\n",
        "    batch_size=16,\n",
        "    epochs=4, callbacks=my_callbacks)"
      ]
    },
    {
      "cell_type": "code",
      "execution_count": 47,
      "metadata": {
        "id": "DVlJuMIU7NIB",
        "colab": {
          "base_uri": "https://localhost:8080/"
        },
        "outputId": "36be7cde-ab7b-4a86-e095-d3a00a1b1f20"
      },
      "outputs": [
        {
          "output_type": "stream",
          "name": "stdout",
          "text": [
            "843/843 [==============================] - 383s 454ms/step - loss: 0.0784 - accuracy: 0.9723\n",
            "accuracy: 97.23%\n",
            "\n",
            "\n",
            "53/53 [==============================] - 49s 872ms/step\n",
            "              precision    recall  f1-score   support\n",
            "\n",
            "           0       0.97      0.92      0.94      1461\n",
            "           1       0.91      0.97      0.94      1545\n",
            "           2       1.00      0.92      0.96       367\n",
            "\n",
            "    accuracy                           0.94      3373\n",
            "   macro avg       0.96      0.94      0.95      3373\n",
            "weighted avg       0.95      0.94      0.94      3373\n",
            "\n"
          ]
        }
      ],
      "source": [
        "bert_claim_review_score = bert_classification_model_claim_review.evaluate([x_train.input_ids, x_train.token_type_ids, x_train.attention_mask],dummy_train_y)\n",
        "print(\"%s: %.2f%%\" % (bert_classification_model_claim_review.metrics_names[1], bert_claim_review_score[1]*100))\n",
        "print('\\n')\n",
        "\n",
        "all_test_t_examples = [x.decode('utf-8') for x in test_examples.numpy()]\n",
        "\n",
        "x_test = bert_tokenizer(all_test_t_examples,\n",
        "              max_length=MAX_SEQUENCE_LENGTH,\n",
        "              truncation=True,\n",
        "              padding='max_length',\n",
        "              return_tensors='tf')\n",
        "\n",
        "y_pred = bert_classification_model_claim_review.predict([x_test.input_ids, x_test.token_type_ids, x_test.attention_mask], batch_size=64, verbose=1)\n",
        "y_pred_bool = np.argmax(y_pred, axis=1)\n",
        "\n",
        "# run it with test data\n",
        "\n",
        "\n",
        "print(classification_report(test_labels, y_pred_bool))\n"
      ]
    },
    {
      "cell_type": "code",
      "execution_count": 48,
      "metadata": {
        "id": "kX5drsL34wwy",
        "colab": {
          "base_uri": "https://localhost:8080/"
        },
        "outputId": "76df2eb4-e80a-496a-9bc5-00ce0c4904f8"
      },
      "outputs": [
        {
          "output_type": "stream",
          "name": "stdout",
          "text": [
            "{'loss': [0.2771727442741394, 0.132583349943161, 0.11902041733264923, 0.10055048018693924], 'accuracy': [0.8927194476127625, 0.9501779079437256, 0.9558496475219727, 0.9651913046836853], 'val_loss': [0.17027147114276886, 0.1262093335390091, 0.12980031967163086, 0.14259298145771027], 'val_accuracy': [0.9409846067428589, 0.9516607522964478, 0.9489917159080505, 0.9463226795196533]}\n"
          ]
        },
        {
          "output_type": "stream",
          "name": "stderr",
          "text": [
            "/usr/local/lib/python3.10/dist-packages/keras/src/engine/training.py:3079: UserWarning: You are saving your model as an HDF5 file via `model.save()`. This file format is considered legacy. We recommend using instead the native Keras format, e.g. `model.save('my_model.keras')`.\n",
            "  saving_api.save_model(\n"
          ]
        }
      ],
      "source": [
        "claim_review_history = bert_classification_model_claim_review_history.history\n",
        "print(claim_review_history)\n",
        "with open(\"/content/drive/MyDrive/Berkeley/w266/final_project/model/model_bert_cnn_claim_review_final.pkl\", \"wb\") as f:\n",
        "    pickle.dump(claim_review_history, f)\n",
        "\n",
        "bert_classification_model_claim_review.save('/content/drive/MyDrive/Berkeley/w266/final_project/model/model_bert_cnn_claim_review.h5')\n",
        "bert_classification_model_claim_review.save(\"/content/drive/MyDrive/Berkeley/w266/final_project/model/my_model_claim_review\")"
      ]
    },
    {
      "cell_type": "code",
      "source": [
        "\n",
        "# summarize history for accuracy\n",
        "plt.plot(bert_classification_model_claim_review_history.history['accuracy'])\n",
        "plt.plot(bert_classification_model_claim_review_history.history['val_accuracy'])\n",
        "plt.title('model accuracy for claim + review')\n",
        "plt.ylabel('accuracy')\n",
        "plt.xlabel('epoch')\n",
        "plt.legend(['train', 'val'], loc='upper left')\n",
        "plt.show()\n",
        "# summarize history for loss\n",
        "plt.plot(bert_classification_model_claim_review_history.history['loss'])\n",
        "plt.plot(bert_classification_model_claim_review_history.history['val_loss'])\n",
        "plt.title('model loss for claim + review')\n",
        "plt.ylabel('loss')\n",
        "plt.xlabel('epoch')\n",
        "plt.legend(['train', 'val'], loc='upper left')\n",
        "plt.show()"
      ],
      "metadata": {
        "colab": {
          "base_uri": "https://localhost:8080/",
          "height": 927
        },
        "id": "vYlsADKTyCCw",
        "outputId": "1400e465-47f7-4a94-deb5-ea4fc9455d4c"
      },
      "execution_count": 49,
      "outputs": [
        {
          "output_type": "display_data",
          "data": {
            "text/plain": [
              "<Figure size 640x480 with 1 Axes>"
            ],
            "image/png": "[encoded data removed]"
          },
          "metadata": {}
        },
        {
          "output_type": "display_data",
          "data": {
            "text/plain": [
              "<Figure size 640x480 with 1 Axes>"
            ],
            "image/png": "[encoded data removed]"
          },
          "metadata": {}
        }
      ]
    },
    {
      "cell_type": "code",
      "source": [
        "from pickle import load\n",
        "from matplotlib.pylab import plt\n",
        "import numpy as np\n",
        "\n",
        "# Load the training and validation loss dictionaries\n",
        "bert_classification_model_claim_history = load(open(\"/content/drive/MyDrive/Berkeley/w266/final_project/model/model_bert_cnn_claim_final.pkl\", \"rb\"))\n",
        "bert_classification_model_review_history =  load(open(\"/content/drive/MyDrive/Berkeley/w266/final_project/model/model_bert_cnn_review_final.pkl\", \"rb\"))\n",
        "bert_classification_model_claim_review_history =  load(open(\"/content/drive/MyDrive/Berkeley/w266/final_project/model/model_bert_cnn_claim_review_final.pkl\", \"rb\"))\n",
        "\n",
        "\n",
        "def make_plots(axs,\n",
        "              model_history1,\n",
        "              model_history2,\n",
        "              model_history3,\n",
        "              model_1_name='model 1',\n",
        "              model_2_name='model 2',\n",
        "              model_3_name='model 3',\n",
        "              ):\n",
        "    box = dict(facecolor='yellow', pad=5, alpha=0.2)\n",
        "\n",
        "    for i, metric in enumerate(['loss', 'accuracy']):\n",
        "        y_lim_lower1 = np.min(model_history1[metric])\n",
        "        y_lim_lower2 = np.min(model_history2[metric])\n",
        "        y_lim_lower = min(y_lim_lower1, y_lim_lower2) * 0.9\n",
        "\n",
        "        y_lim_upper1 = np.max(model_history1[metric])\n",
        "        y_lim_upper2 = np.max(model_history2[metric])\n",
        "        y_lim_upper = max(y_lim_upper1, y_lim_upper2) * 1.1\n",
        "\n",
        "        for j, model_history in enumerate([model_history1, model_history2, model_history3]):\n",
        "            model_name = [model_1_name, model_2_name, model_3_name][j]\n",
        "            ax1 = axs[i, j]\n",
        "            ax1.plot(model_history[metric])\n",
        "            ax1.plot(model_history['val_%s' % metric])\n",
        "            ax1.set_title('%s - %s' % (metric, model_name))\n",
        "            ax1.set_ylabel(metric, bbox=box)\n",
        "            ax1.set_ylim(y_lim_lower, y_lim_upper)\n",
        "\n",
        "fig, axs = plt.subplots(2, 3)\n",
        "fig.subplots_adjust(left=0.2, wspace=0.6)\n",
        "make_plots(axs,\n",
        "          bert_classification_model_claim_history,\n",
        "          bert_classification_model_review_history,\n",
        "          bert_classification_model_claim_review_history,\n",
        "          model_1_name='CNN for Claim',\n",
        "          model_2_name='CNN for Review',\n",
        "          model_3_name='CNN for Claim + Review')\n",
        "\n",
        "fig.align_ylabels(axs[:, 1])\n",
        "fig.set_size_inches(22.5, 10.5)\n",
        "plt.show()"
      ],
      "metadata": {
        "colab": {
          "base_uri": "https://localhost:8080/",
          "height": 891
        },
        "id": "sCsYiW0e0k6L",
        "outputId": "443c295c-6c40-452f-c567-6e9eabd58672"
      },
      "execution_count": 5,
      "outputs": [
        {
          "output_type": "display_data",
          "data": {
            "text/plain": [
              "<Figure size 2250x1050 with 6 Axes>"
            ],
            "image/png": "[encoded data removed]"
          },
          "metadata": {}
        }
      ]
    },
    {
      "cell_type": "markdown",
      "source": [
        "All three models comparison"
      ],
      "metadata": {
        "id": "q-0VzUJ8yQsY"
      }
    },
    {
      "cell_type": "code",
      "execution_count": null,
      "metadata": {
        "id": "Q_31uNw04w3j"
      },
      "outputs": [],
      "source": []
    },
    {
      "cell_type": "code",
      "execution_count": null,
      "metadata": {
        "id": "8DbNr0XG4w5r"
      },
      "outputs": [],
      "source": []
    },
    {
      "cell_type": "code",
      "execution_count": null,
      "metadata": {
        "id": "YiHQh_Yh4w71"
      },
      "outputs": [],
      "source": []
    },
    {
      "cell_type": "code",
      "execution_count": null,
      "metadata": {
        "id": "YU1YMN1i4w-l"
      },
      "outputs": [],
      "source": []
    },
    {
      "cell_type": "code",
      "execution_count": null,
      "metadata": {
        "id": "-faiC_1G4xBN"
      },
      "outputs": [],
      "source": []
    },
    {
      "cell_type": "code",
      "execution_count": null,
      "metadata": {
        "id": "gdKa1hXR4xSl"
      },
      "outputs": [],
      "source": []
    },
    {
      "cell_type": "code",
      "execution_count": null,
      "metadata": {
        "id": "bLW4yXYzV12N"
      },
      "outputs": [],
      "source": []
    }
  ],
  "metadata": {
    "accelerator": "GPU",
    "colab": {
      "machine_shape": "hm",
      "provenance": [],
      "gpuType": "T4"
    },
    "kernelspec": {
      "display_name": "Python 3",
      "name": "python3"
    },
    "language_info": {
      "name": "python"
    },
    "widgets": {
      "application/vnd.jupyter.widget-state+json": {
        "5075a5d26f4a42eeae088882b36914b4": {
          "model_module": "@jupyter-widgets/controls",
          "model_name": "HBoxModel",
          "model_module_version": "1.5.0",
          "state": {
            "_dom_classes": [],
            "_model_module": "@jupyter-widgets/controls",
            "_model_module_version": "1.5.0",
            "_model_name": "HBoxModel",
            "_view_count": null,
            "_view_module": "@jupyter-widgets/controls",
            "_view_module_version": "1.5.0",
            "_view_name": "HBoxView",
            "box_style": "",
            "children": [
              "IPY_MODEL_ef672682c0ba4dcf92065981d97fe88d",
              "IPY_MODEL_9b083770c40a41cf80f828b3aa18859d",
              "IPY_MODEL_200cf317777b40839bc2d0976583eecf"
            ],
            "layout": "IPY_MODEL_8ca90c1d8458465daceac414abd0bf00"
          }
        },
        "ef672682c0ba4dcf92065981d97fe88d": {
          "model_module": "@jupyter-widgets/controls",
          "model_name": "HTMLModel",
          "model_module_version": "1.5.0",
          "state": {
            "_dom_classes": [],
            "_model_module": "@jupyter-widgets/controls",
            "_model_module_version": "1.5.0",
            "_model_name": "HTMLModel",
            "_view_count": null,
            "_view_module": "@jupyter-widgets/controls",
            "_view_module_version": "1.5.0",
            "_view_name": "HTMLView",
            "description": "",
            "description_tooltip": null,
            "layout": "IPY_MODEL_41be457297a3420c87759bcef3c9b594",
            "placeholder": "​",
            "style": "IPY_MODEL_2e4c825c204c4c9d9d963dc687364d37",
            "value": "tokenizer_config.json: 100%"
          }
        },
        "9b083770c40a41cf80f828b3aa18859d": {
          "model_module": "@jupyter-widgets/controls",
          "model_name": "FloatProgressModel",
          "model_module_version": "1.5.0",
          "state": {
            "_dom_classes": [],
            "_model_module": "@jupyter-widgets/controls",
            "_model_module_version": "1.5.0",
            "_model_name": "FloatProgressModel",
            "_view_count": null,
            "_view_module": "@jupyter-widgets/controls",
            "_view_module_version": "1.5.0",
            "_view_name": "ProgressView",
            "bar_style": "success",
            "description": "",
            "description_tooltip": null,
            "layout": "IPY_MODEL_6deaff75389e4a3b95528088f0ab18ec",
            "max": 29,
            "min": 0,
            "orientation": "horizontal",
            "style": "IPY_MODEL_44fbee51d266466cbb12ac78926f1950",
            "value": 29
          }
        },
        "200cf317777b40839bc2d0976583eecf": {
          "model_module": "@jupyter-widgets/controls",
          "model_name": "HTMLModel",
          "model_module_version": "1.5.0",
          "state": {
            "_dom_classes": [],
            "_model_module": "@jupyter-widgets/controls",
            "_model_module_version": "1.5.0",
            "_model_name": "HTMLModel",
            "_view_count": null,
            "_view_module": "@jupyter-widgets/controls",
            "_view_module_version": "1.5.0",
            "_view_name": "HTMLView",
            "description": "",
            "description_tooltip": null,
            "layout": "IPY_MODEL_99e687e4a5564042aa2c5ba22ddd5b2d",
            "placeholder": "​",
            "style": "IPY_MODEL_8e367a0628d9463d8b914fe00a3936e9",
            "value": " 29.0/29.0 [00:00&lt;00:00, 2.11kB/s]"
          }
        },
        "8ca90c1d8458465daceac414abd0bf00": {
          "model_module": "@jupyter-widgets/base",
          "model_name": "LayoutModel",
          "model_module_version": "1.2.0",
          "state": {
            "_model_module": "@jupyter-widgets/base",
            "_model_module_version": "1.2.0",
            "_model_name": "LayoutModel",
            "_view_count": null,
            "_view_module": "@jupyter-widgets/base",
            "_view_module_version": "1.2.0",
            "_view_name": "LayoutView",
            "align_content": null,
            "align_items": null,
            "align_self": null,
            "border": null,
            "bottom": null,
            "display": null,
            "flex": null,
            "flex_flow": null,
            "grid_area": null,
            "grid_auto_columns": null,
            "grid_auto_flow": null,
            "grid_auto_rows": null,
            "grid_column": null,
            "grid_gap": null,
            "grid_row": null,
            "grid_template_areas": null,
            "grid_template_columns": null,
            "grid_template_rows": null,
            "height": null,
            "justify_content": null,
            "justify_items": null,
            "left": null,
            "margin": null,
            "max_height": null,
            "max_width": null,
            "min_height": null,
            "min_width": null,
            "object_fit": null,
            "object_position": null,
            "order": null,
            "overflow": null,
            "overflow_x": null,
            "overflow_y": null,
            "padding": null,
            "right": null,
            "top": null,
            "visibility": null,
            "width": null
          }
        },
        "41be457297a3420c87759bcef3c9b594": {
          "model_module": "@jupyter-widgets/base",
          "model_name": "LayoutModel",
          "model_module_version": "1.2.0",
          "state": {
            "_model_module": "@jupyter-widgets/base",
            "_model_module_version": "1.2.0",
            "_model_name": "LayoutModel",
            "_view_count": null,
            "_view_module": "@jupyter-widgets/base",
            "_view_module_version": "1.2.0",
            "_view_name": "LayoutView",
            "align_content": null,
            "align_items": null,
            "align_self": null,
            "border": null,
            "bottom": null,
            "display": null,
            "flex": null,
            "flex_flow": null,
            "grid_area": null,
            "grid_auto_columns": null,
            "grid_auto_flow": null,
            "grid_auto_rows": null,
            "grid_column": null,
            "grid_gap": null,
            "grid_row": null,
            "grid_template_areas": null,
            "grid_template_columns": null,
            "grid_template_rows": null,
            "height": null,
            "justify_content": null,
            "justify_items": null,
            "left": null,
            "margin": null,
            "max_height": null,
            "max_width": null,
            "min_height": null,
            "min_width": null,
            "object_fit": null,
            "object_position": null,
            "order": null,
            "overflow": null,
            "overflow_x": null,
            "overflow_y": null,
            "padding": null,
            "right": null,
            "top": null,
            "visibility": null,
            "width": null
          }
        },
        "2e4c825c204c4c9d9d963dc687364d37": {
          "model_module": "@jupyter-widgets/controls",
          "model_name": "DescriptionStyleModel",
          "model_module_version": "1.5.0",
          "state": {
            "_model_module": "@jupyter-widgets/controls",
            "_model_module_version": "1.5.0",
            "_model_name": "DescriptionStyleModel",
            "_view_count": null,
            "_view_module": "@jupyter-widgets/base",
            "_view_module_version": "1.2.0",
            "_view_name": "StyleView",
            "description_width": ""
          }
        },
        "6deaff75389e4a3b95528088f0ab18ec": {
          "model_module": "@jupyter-widgets/base",
          "model_name": "LayoutModel",
          "model_module_version": "1.2.0",
          "state": {
            "_model_module": "@jupyter-widgets/base",
            "_model_module_version": "1.2.0",
            "_model_name": "LayoutModel",
            "_view_count": null,
            "_view_module": "@jupyter-widgets/base",
            "_view_module_version": "1.2.0",
            "_view_name": "LayoutView",
            "align_content": null,
            "align_items": null,
            "align_self": null,
            "border": null,
            "bottom": null,
            "display": null,
            "flex": null,
            "flex_flow": null,
            "grid_area": null,
            "grid_auto_columns": null,
            "grid_auto_flow": null,
            "grid_auto_rows": null,
            "grid_column": null,
            "grid_gap": null,
            "grid_row": null,
            "grid_template_areas": null,
            "grid_template_columns": null,
            "grid_template_rows": null,
            "height": null,
            "justify_content": null,
            "justify_items": null,
            "left": null,
            "margin": null,
            "max_height": null,
            "max_width": null,
            "min_height": null,
            "min_width": null,
            "object_fit": null,
            "object_position": null,
            "order": null,
            "overflow": null,
            "overflow_x": null,
            "overflow_y": null,
            "padding": null,
            "right": null,
            "top": null,
            "visibility": null,
            "width": null
          }
        },
        "44fbee51d266466cbb12ac78926f1950": {
          "model_module": "@jupyter-widgets/controls",
          "model_name": "ProgressStyleModel",
          "model_module_version": "1.5.0",
          "state": {
            "_model_module": "@jupyter-widgets/controls",
            "_model_module_version": "1.5.0",
            "_model_name": "ProgressStyleModel",
            "_view_count": null,
            "_view_module": "@jupyter-widgets/base",
            "_view_module_version": "1.2.0",
            "_view_name": "StyleView",
            "bar_color": null,
            "description_width": ""
          }
        },
        "99e687e4a5564042aa2c5ba22ddd5b2d": {
          "model_module": "@jupyter-widgets/base",
          "model_name": "LayoutModel",
          "model_module_version": "1.2.0",
          "state": {
            "_model_module": "@jupyter-widgets/base",
            "_model_module_version": "1.2.0",
            "_model_name": "LayoutModel",
            "_view_count": null,
            "_view_module": "@jupyter-widgets/base",
            "_view_module_version": "1.2.0",
            "_view_name": "LayoutView",
            "align_content": null,
            "align_items": null,
            "align_self": null,
            "border": null,
            "bottom": null,
            "display": null,
            "flex": null,
            "flex_flow": null,
            "grid_area": null,
            "grid_auto_columns": null,
            "grid_auto_flow": null,
            "grid_auto_rows": null,
            "grid_column": null,
            "grid_gap": null,
            "grid_row": null,
            "grid_template_areas": null,
            "grid_template_columns": null,
            "grid_template_rows": null,
            "height": null,
            "justify_content": null,
            "justify_items": null,
            "left": null,
            "margin": null,
            "max_height": null,
            "max_width": null,
            "min_height": null,
            "min_width": null,
            "object_fit": null,
            "object_position": null,
            "order": null,
            "overflow": null,
            "overflow_x": null,
            "overflow_y": null,
            "padding": null,
            "right": null,
            "top": null,
            "visibility": null,
            "width": null
          }
        },
        "8e367a0628d9463d8b914fe00a3936e9": {
          "model_module": "@jupyter-widgets/controls",
          "model_name": "DescriptionStyleModel",
          "model_module_version": "1.5.0",
          "state": {
            "_model_module": "@jupyter-widgets/controls",
            "_model_module_version": "1.5.0",
            "_model_name": "DescriptionStyleModel",
            "_view_count": null,
            "_view_module": "@jupyter-widgets/base",
            "_view_module_version": "1.2.0",
            "_view_name": "StyleView",
            "description_width": ""
          }
        },
        "e55ef2f23a9b43a389326b13aae60dbb": {
          "model_module": "@jupyter-widgets/controls",
          "model_name": "HBoxModel",
          "model_module_version": "1.5.0",
          "state": {
            "_dom_classes": [],
            "_model_module": "@jupyter-widgets/controls",
            "_model_module_version": "1.5.0",
            "_model_name": "HBoxModel",
            "_view_count": null,
            "_view_module": "@jupyter-widgets/controls",
            "_view_module_version": "1.5.0",
            "_view_name": "HBoxView",
            "box_style": "",
            "children": [
              "IPY_MODEL_44243f1274624548bcb421ca4818bd09",
              "IPY_MODEL_1d749ec7c8ed4e2aa08b23f8b9eab044",
              "IPY_MODEL_feee73985fa44507b04991c425f9791b"
            ],
            "layout": "IPY_MODEL_09c434afccb749f5af65a65e62f512e7"
          }
        },
        "44243f1274624548bcb421ca4818bd09": {
          "model_module": "@jupyter-widgets/controls",
          "model_name": "HTMLModel",
          "model_module_version": "1.5.0",
          "state": {
            "_dom_classes": [],
            "_model_module": "@jupyter-widgets/controls",
            "_model_module_version": "1.5.0",
            "_model_name": "HTMLModel",
            "_view_count": null,
            "_view_module": "@jupyter-widgets/controls",
            "_view_module_version": "1.5.0",
            "_view_name": "HTMLView",
            "description": "",
            "description_tooltip": null,
            "layout": "IPY_MODEL_32d646e1db7b42adaee904ffbd93ce1a",
            "placeholder": "​",
            "style": "IPY_MODEL_6b2d01fde8774a5fa759fb601f37695f",
            "value": "vocab.txt: 100%"
          }
        },
        "1d749ec7c8ed4e2aa08b23f8b9eab044": {
          "model_module": "@jupyter-widgets/controls",
          "model_name": "FloatProgressModel",
          "model_module_version": "1.5.0",
          "state": {
            "_dom_classes": [],
            "_model_module": "@jupyter-widgets/controls",
            "_model_module_version": "1.5.0",
            "_model_name": "FloatProgressModel",
            "_view_count": null,
            "_view_module": "@jupyter-widgets/controls",
            "_view_module_version": "1.5.0",
            "_view_name": "ProgressView",
            "bar_style": "success",
            "description": "",
            "description_tooltip": null,
            "layout": "IPY_MODEL_15e6d6b0fabe48fdaee93ef4e662aecd",
            "max": 213450,
            "min": 0,
            "orientation": "horizontal",
            "style": "IPY_MODEL_d1c5761ca50a4afaabdd0f022d33fcd8",
            "value": 213450
          }
        },
        "feee73985fa44507b04991c425f9791b": {
          "model_module": "@jupyter-widgets/controls",
          "model_name": "HTMLModel",
          "model_module_version": "1.5.0",
          "state": {
            "_dom_classes": [],
            "_model_module": "@jupyter-widgets/controls",
            "_model_module_version": "1.5.0",
            "_model_name": "HTMLModel",
            "_view_count": null,
            "_view_module": "@jupyter-widgets/controls",
            "_view_module_version": "1.5.0",
            "_view_name": "HTMLView",
            "description": "",
            "description_tooltip": null,
            "layout": "IPY_MODEL_427a3184afed4f8e90609977e4fec1f9",
            "placeholder": "​",
            "style": "IPY_MODEL_d14279bf90eb41b6b679758529ec856c",
            "value": " 213k/213k [00:00&lt;00:00, 13.9MB/s]"
          }
        },
        "09c434afccb749f5af65a65e62f512e7": {
          "model_module": "@jupyter-widgets/base",
          "model_name": "LayoutModel",
          "model_module_version": "1.2.0",
          "state": {
            "_model_module": "@jupyter-widgets/base",
            "_model_module_version": "1.2.0",
            "_model_name": "LayoutModel",
            "_view_count": null,
            "_view_module": "@jupyter-widgets/base",
            "_view_module_version": "1.2.0",
            "_view_name": "LayoutView",
            "align_content": null,
            "align_items": null,
            "align_self": null,
            "border": null,
            "bottom": null,
            "display": null,
            "flex": null,
            "flex_flow": null,
            "grid_area": null,
            "grid_auto_columns": null,
            "grid_auto_flow": null,
            "grid_auto_rows": null,
            "grid_column": null,
            "grid_gap": null,
            "grid_row": null,
            "grid_template_areas": null,
            "grid_template_columns": null,
            "grid_template_rows": null,
            "height": null,
            "justify_content": null,
            "justify_items": null,
            "left": null,
            "margin": null,
            "max_height": null,
            "max_width": null,
            "min_height": null,
            "min_width": null,
            "object_fit": null,
            "object_position": null,
            "order": null,
            "overflow": null,
            "overflow_x": null,
            "overflow_y": null,
            "padding": null,
            "right": null,
            "top": null,
            "visibility": null,
            "width": null
          }
        },
        "32d646e1db7b42adaee904ffbd93ce1a": {
          "model_module": "@jupyter-widgets/base",
          "model_name": "LayoutModel",
          "model_module_version": "1.2.0",
          "state": {
            "_model_module": "@jupyter-widgets/base",
            "_model_module_version": "1.2.0",
            "_model_name": "LayoutModel",
            "_view_count": null,
            "_view_module": "@jupyter-widgets/base",
            "_view_module_version": "1.2.0",
            "_view_name": "LayoutView",
            "align_content": null,
            "align_items": null,
            "align_self": null,
            "border": null,
            "bottom": null,
            "display": null,
            "flex": null,
            "flex_flow": null,
            "grid_area": null,
            "grid_auto_columns": null,
            "grid_auto_flow": null,
            "grid_auto_rows": null,
            "grid_column": null,
            "grid_gap": null,
            "grid_row": null,
            "grid_template_areas": null,
            "grid_template_columns": null,
            "grid_template_rows": null,
            "height": null,
            "justify_content": null,
            "justify_items": null,
            "left": null,
            "margin": null,
            "max_height": null,
            "max_width": null,
            "min_height": null,
            "min_width": null,
            "object_fit": null,
            "object_position": null,
            "order": null,
            "overflow": null,
            "overflow_x": null,
            "overflow_y": null,
            "padding": null,
            "right": null,
            "top": null,
            "visibility": null,
            "width": null
          }
        },
        "6b2d01fde8774a5fa759fb601f37695f": {
          "model_module": "@jupyter-widgets/controls",
          "model_name": "DescriptionStyleModel",
          "model_module_version": "1.5.0",
          "state": {
            "_model_module": "@jupyter-widgets/controls",
            "_model_module_version": "1.5.0",
            "_model_name": "DescriptionStyleModel",
            "_view_count": null,
            "_view_module": "@jupyter-widgets/base",
            "_view_module_version": "1.2.0",
            "_view_name": "StyleView",
            "description_width": ""
          }
        },
        "15e6d6b0fabe48fdaee93ef4e662aecd": {
          "model_module": "@jupyter-widgets/base",
          "model_name": "LayoutModel",
          "model_module_version": "1.2.0",
          "state": {
            "_model_module": "@jupyter-widgets/base",
            "_model_module_version": "1.2.0",
            "_model_name": "LayoutModel",
            "_view_count": null,
            "_view_module": "@jupyter-widgets/base",
            "_view_module_version": "1.2.0",
            "_view_name": "LayoutView",
            "align_content": null,
            "align_items": null,
            "align_self": null,
            "border": null,
            "bottom": null,
            "display": null,
            "flex": null,
            "flex_flow": null,
            "grid_area": null,
            "grid_auto_columns": null,
            "grid_auto_flow": null,
            "grid_auto_rows": null,
            "grid_column": null,
            "grid_gap": null,
            "grid_row": null,
            "grid_template_areas": null,
            "grid_template_columns": null,
            "grid_template_rows": null,
            "height": null,
            "justify_content": null,
            "justify_items": null,
            "left": null,
            "margin": null,
            "max_height": null,
            "max_width": null,
            "min_height": null,
            "min_width": null,
            "object_fit": null,
            "object_position": null,
            "order": null,
            "overflow": null,
            "overflow_x": null,
            "overflow_y": null,
            "padding": null,
            "right": null,
            "top": null,
            "visibility": null,
            "width": null
          }
        },
        "d1c5761ca50a4afaabdd0f022d33fcd8": {
          "model_module": "@jupyter-widgets/controls",
          "model_name": "ProgressStyleModel",
          "model_module_version": "1.5.0",
          "state": {
            "_model_module": "@jupyter-widgets/controls",
            "_model_module_version": "1.5.0",
            "_model_name": "ProgressStyleModel",
            "_view_count": null,
            "_view_module": "@jupyter-widgets/base",
            "_view_module_version": "1.2.0",
            "_view_name": "StyleView",
            "bar_color": null,
            "description_width": ""
          }
        },
        "427a3184afed4f8e90609977e4fec1f9": {
          "model_module": "@jupyter-widgets/base",
          "model_name": "LayoutModel",
          "model_module_version": "1.2.0",
          "state": {
            "_model_module": "@jupyter-widgets/base",
            "_model_module_version": "1.2.0",
            "_model_name": "LayoutModel",
            "_view_count": null,
            "_view_module": "@jupyter-widgets/base",
            "_view_module_version": "1.2.0",
            "_view_name": "LayoutView",
            "align_content": null,
            "align_items": null,
            "align_self": null,
            "border": null,
            "bottom": null,
            "display": null,
            "flex": null,
            "flex_flow": null,
            "grid_area": null,
            "grid_auto_columns": null,
            "grid_auto_flow": null,
            "grid_auto_rows": null,
            "grid_column": null,
            "grid_gap": null,
            "grid_row": null,
            "grid_template_areas": null,
            "grid_template_columns": null,
            "grid_template_rows": null,
            "height": null,
            "justify_content": null,
            "justify_items": null,
            "left": null,
            "margin": null,
            "max_height": null,
            "max_width": null,
            "min_height": null,
            "min_width": null,
            "object_fit": null,
            "object_position": null,
            "order": null,
            "overflow": null,
            "overflow_x": null,
            "overflow_y": null,
            "padding": null,
            "right": null,
            "top": null,
            "visibility": null,
            "width": null
          }
        },
        "d14279bf90eb41b6b679758529ec856c": {
          "model_module": "@jupyter-widgets/controls",
          "model_name": "DescriptionStyleModel",
          "model_module_version": "1.5.0",
          "state": {
            "_model_module": "@jupyter-widgets/controls",
            "_model_module_version": "1.5.0",
            "_model_name": "DescriptionStyleModel",
            "_view_count": null,
            "_view_module": "@jupyter-widgets/base",
            "_view_module_version": "1.2.0",
            "_view_name": "StyleView",
            "description_width": ""
          }
        },
        "7dcf71dc70c4450b9ebbdb184824337e": {
          "model_module": "@jupyter-widgets/controls",
          "model_name": "HBoxModel",
          "model_module_version": "1.5.0",
          "state": {
            "_dom_classes": [],
            "_model_module": "@jupyter-widgets/controls",
            "_model_module_version": "1.5.0",
            "_model_name": "HBoxModel",
            "_view_count": null,
            "_view_module": "@jupyter-widgets/controls",
            "_view_module_version": "1.5.0",
            "_view_name": "HBoxView",
            "box_style": "",
            "children": [
              "IPY_MODEL_ea2ae75d978d4a148ffbb8fe15061ee9",
              "IPY_MODEL_0d9fc839ce24482ba69a50c3732b4d88",
              "IPY_MODEL_db64097f5e684766bd0a0656515b6106"
            ],
            "layout": "IPY_MODEL_0158b1498b6a44f88cd1cca00fc54e1f"
          }
        },
        "ea2ae75d978d4a148ffbb8fe15061ee9": {
          "model_module": "@jupyter-widgets/controls",
          "model_name": "HTMLModel",
          "model_module_version": "1.5.0",
          "state": {
            "_dom_classes": [],
            "_model_module": "@jupyter-widgets/controls",
            "_model_module_version": "1.5.0",
            "_model_name": "HTMLModel",
            "_view_count": null,
            "_view_module": "@jupyter-widgets/controls",
            "_view_module_version": "1.5.0",
            "_view_name": "HTMLView",
            "description": "",
            "description_tooltip": null,
            "layout": "IPY_MODEL_ee61ec479f344c90a88b6088406a2661",
            "placeholder": "​",
            "style": "IPY_MODEL_848a0df158b646b497833cb4e8b1ca5f",
            "value": "tokenizer.json: 100%"
          }
        },
        "0d9fc839ce24482ba69a50c3732b4d88": {
          "model_module": "@jupyter-widgets/controls",
          "model_name": "FloatProgressModel",
          "model_module_version": "1.5.0",
          "state": {
            "_dom_classes": [],
            "_model_module": "@jupyter-widgets/controls",
            "_model_module_version": "1.5.0",
            "_model_name": "FloatProgressModel",
            "_view_count": null,
            "_view_module": "@jupyter-widgets/controls",
            "_view_module_version": "1.5.0",
            "_view_name": "ProgressView",
            "bar_style": "success",
            "description": "",
            "description_tooltip": null,
            "layout": "IPY_MODEL_9fb381753a274310b9acb91859f8941a",
            "max": 435797,
            "min": 0,
            "orientation": "horizontal",
            "style": "IPY_MODEL_e6da0eb9079941e289af611bb9cac35e",
            "value": 435797
          }
        },
        "db64097f5e684766bd0a0656515b6106": {
          "model_module": "@jupyter-widgets/controls",
          "model_name": "HTMLModel",
          "model_module_version": "1.5.0",
          "state": {
            "_dom_classes": [],
            "_model_module": "@jupyter-widgets/controls",
            "_model_module_version": "1.5.0",
            "_model_name": "HTMLModel",
            "_view_count": null,
            "_view_module": "@jupyter-widgets/controls",
            "_view_module_version": "1.5.0",
            "_view_name": "HTMLView",
            "description": "",
            "description_tooltip": null,
            "layout": "IPY_MODEL_55332e234c7f47729e8dbcdec3094251",
            "placeholder": "​",
            "style": "IPY_MODEL_cc4a13e719cf4dc1a4d706036ac5dd6e",
            "value": " 436k/436k [00:00&lt;00:00, 1.85MB/s]"
          }
        },
        "0158b1498b6a44f88cd1cca00fc54e1f": {
          "model_module": "@jupyter-widgets/base",
          "model_name": "LayoutModel",
          "model_module_version": "1.2.0",
          "state": {
            "_model_module": "@jupyter-widgets/base",
            "_model_module_version": "1.2.0",
            "_model_name": "LayoutModel",
            "_view_count": null,
            "_view_module": "@jupyter-widgets/base",
            "_view_module_version": "1.2.0",
            "_view_name": "LayoutView",
            "align_content": null,
            "align_items": null,
            "align_self": null,
            "border": null,
            "bottom": null,
            "display": null,
            "flex": null,
            "flex_flow": null,
            "grid_area": null,
            "grid_auto_columns": null,
            "grid_auto_flow": null,
            "grid_auto_rows": null,
            "grid_column": null,
            "grid_gap": null,
            "grid_row": null,
            "grid_template_areas": null,
            "grid_template_columns": null,
            "grid_template_rows": null,
            "height": null,
            "justify_content": null,
            "justify_items": null,
            "left": null,
            "margin": null,
            "max_height": null,
            "max_width": null,
            "min_height": null,
            "min_width": null,
            "object_fit": null,
            "object_position": null,
            "order": null,
            "overflow": null,
            "overflow_x": null,
            "overflow_y": null,
            "padding": null,
            "right": null,
            "top": null,
            "visibility": null,
            "width": null
          }
        },
        "ee61ec479f344c90a88b6088406a2661": {
          "model_module": "@jupyter-widgets/base",
          "model_name": "LayoutModel",
          "model_module_version": "1.2.0",
          "state": {
            "_model_module": "@jupyter-widgets/base",
            "_model_module_version": "1.2.0",
            "_model_name": "LayoutModel",
            "_view_count": null,
            "_view_module": "@jupyter-widgets/base",
            "_view_module_version": "1.2.0",
            "_view_name": "LayoutView",
            "align_content": null,
            "align_items": null,
            "align_self": null,
            "border": null,
            "bottom": null,
            "display": null,
            "flex": null,
            "flex_flow": null,
            "grid_area": null,
            "grid_auto_columns": null,
            "grid_auto_flow": null,
            "grid_auto_rows": null,
            "grid_column": null,
            "grid_gap": null,
            "grid_row": null,
            "grid_template_areas": null,
            "grid_template_columns": null,
            "grid_template_rows": null,
            "height": null,
            "justify_content": null,
            "justify_items": null,
            "left": null,
            "margin": null,
            "max_height": null,
            "max_width": null,
            "min_height": null,
            "min_width": null,
            "object_fit": null,
            "object_position": null,
            "order": null,
            "overflow": null,
            "overflow_x": null,
            "overflow_y": null,
            "padding": null,
            "right": null,
            "top": null,
            "visibility": null,
            "width": null
          }
        },
        "848a0df158b646b497833cb4e8b1ca5f": {
          "model_module": "@jupyter-widgets/controls",
          "model_name": "DescriptionStyleModel",
          "model_module_version": "1.5.0",
          "state": {
            "_model_module": "@jupyter-widgets/controls",
            "_model_module_version": "1.5.0",
            "_model_name": "DescriptionStyleModel",
            "_view_count": null,
            "_view_module": "@jupyter-widgets/base",
            "_view_module_version": "1.2.0",
            "_view_name": "StyleView",
            "description_width": ""
          }
        },
        "9fb381753a274310b9acb91859f8941a": {
          "model_module": "@jupyter-widgets/base",
          "model_name": "LayoutModel",
          "model_module_version": "1.2.0",
          "state": {
            "_model_module": "@jupyter-widgets/base",
            "_model_module_version": "1.2.0",
            "_model_name": "LayoutModel",
            "_view_count": null,
            "_view_module": "@jupyter-widgets/base",
            "_view_module_version": "1.2.0",
            "_view_name": "LayoutView",
            "align_content": null,
            "align_items": null,
            "align_self": null,
            "border": null,
            "bottom": null,
            "display": null,
            "flex": null,
            "flex_flow": null,
            "grid_area": null,
            "grid_auto_columns": null,
            "grid_auto_flow": null,
            "grid_auto_rows": null,
            "grid_column": null,
            "grid_gap": null,
            "grid_row": null,
            "grid_template_areas": null,
            "grid_template_columns": null,
            "grid_template_rows": null,
            "height": null,
            "justify_content": null,
            "justify_items": null,
            "left": null,
            "margin": null,
            "max_height": null,
            "max_width": null,
            "min_height": null,
            "min_width": null,
            "object_fit": null,
            "object_position": null,
            "order": null,
            "overflow": null,
            "overflow_x": null,
            "overflow_y": null,
            "padding": null,
            "right": null,
            "top": null,
            "visibility": null,
            "width": null
          }
        },
        "e6da0eb9079941e289af611bb9cac35e": {
          "model_module": "@jupyter-widgets/controls",
          "model_name": "ProgressStyleModel",
          "model_module_version": "1.5.0",
          "state": {
            "_model_module": "@jupyter-widgets/controls",
            "_model_module_version": "1.5.0",
            "_model_name": "ProgressStyleModel",
            "_view_count": null,
            "_view_module": "@jupyter-widgets/base",
            "_view_module_version": "1.2.0",
            "_view_name": "StyleView",
            "bar_color": null,
            "description_width": ""
          }
        },
        "55332e234c7f47729e8dbcdec3094251": {
          "model_module": "@jupyter-widgets/base",
          "model_name": "LayoutModel",
          "model_module_version": "1.2.0",
          "state": {
            "_model_module": "@jupyter-widgets/base",
            "_model_module_version": "1.2.0",
            "_model_name": "LayoutModel",
            "_view_count": null,
            "_view_module": "@jupyter-widgets/base",
            "_view_module_version": "1.2.0",
            "_view_name": "LayoutView",
            "align_content": null,
            "align_items": null,
            "align_self": null,
            "border": null,
            "bottom": null,
            "display": null,
            "flex": null,
            "flex_flow": null,
            "grid_area": null,
            "grid_auto_columns": null,
            "grid_auto_flow": null,
            "grid_auto_rows": null,
            "grid_column": null,
            "grid_gap": null,
            "grid_row": null,
            "grid_template_areas": null,
            "grid_template_columns": null,
            "grid_template_rows": null,
            "height": null,
            "justify_content": null,
            "justify_items": null,
            "left": null,
            "margin": null,
            "max_height": null,
            "max_width": null,
            "min_height": null,
            "min_width": null,
            "object_fit": null,
            "object_position": null,
            "order": null,
            "overflow": null,
            "overflow_x": null,
            "overflow_y": null,
            "padding": null,
            "right": null,
            "top": null,
            "visibility": null,
            "width": null
          }
        },
        "cc4a13e719cf4dc1a4d706036ac5dd6e": {
          "model_module": "@jupyter-widgets/controls",
          "model_name": "DescriptionStyleModel",
          "model_module_version": "1.5.0",
          "state": {
            "_model_module": "@jupyter-widgets/controls",
            "_model_module_version": "1.5.0",
            "_model_name": "DescriptionStyleModel",
            "_view_count": null,
            "_view_module": "@jupyter-widgets/base",
            "_view_module_version": "1.2.0",
            "_view_name": "StyleView",
            "description_width": ""
          }
        },
        "4aa56be99ebd46abb5be855c7376c9ca": {
          "model_module": "@jupyter-widgets/controls",
          "model_name": "HBoxModel",
          "model_module_version": "1.5.0",
          "state": {
            "_dom_classes": [],
            "_model_module": "@jupyter-widgets/controls",
            "_model_module_version": "1.5.0",
            "_model_name": "HBoxModel",
            "_view_count": null,
            "_view_module": "@jupyter-widgets/controls",
            "_view_module_version": "1.5.0",
            "_view_name": "HBoxView",
            "box_style": "",
            "children": [
              "IPY_MODEL_c214d7a4539f4594a36dc5e984ea534f",
              "IPY_MODEL_042ac5f99a81425b8c65c423c7fdffac",
              "IPY_MODEL_482f66fac104406f8a0364ba161c85b3"
            ],
            "layout": "IPY_MODEL_4a2063bbb8ef465ca730b938329579f6"
          }
        },
        "c214d7a4539f4594a36dc5e984ea534f": {
          "model_module": "@jupyter-widgets/controls",
          "model_name": "HTMLModel",
          "model_module_version": "1.5.0",
          "state": {
            "_dom_classes": [],
            "_model_module": "@jupyter-widgets/controls",
            "_model_module_version": "1.5.0",
            "_model_name": "HTMLModel",
            "_view_count": null,
            "_view_module": "@jupyter-widgets/controls",
            "_view_module_version": "1.5.0",
            "_view_name": "HTMLView",
            "description": "",
            "description_tooltip": null,
            "layout": "IPY_MODEL_af8aa6f0b7664ffea12f944d874e23fd",
            "placeholder": "​",
            "style": "IPY_MODEL_c7721653dd5c4b758fcc708326512d73",
            "value": "config.json: 100%"
          }
        },
        "042ac5f99a81425b8c65c423c7fdffac": {
          "model_module": "@jupyter-widgets/controls",
          "model_name": "FloatProgressModel",
          "model_module_version": "1.5.0",
          "state": {
            "_dom_classes": [],
            "_model_module": "@jupyter-widgets/controls",
            "_model_module_version": "1.5.0",
            "_model_name": "FloatProgressModel",
            "_view_count": null,
            "_view_module": "@jupyter-widgets/controls",
            "_view_module_version": "1.5.0",
            "_view_name": "ProgressView",
            "bar_style": "success",
            "description": "",
            "description_tooltip": null,
            "layout": "IPY_MODEL_64adb07b3e5e4e5aaf4edc3a6964674e",
            "max": 570,
            "min": 0,
            "orientation": "horizontal",
            "style": "IPY_MODEL_1a03f83d1eab4c1cbacb0640f2cffd00",
            "value": 570
          }
        },
        "482f66fac104406f8a0364ba161c85b3": {
          "model_module": "@jupyter-widgets/controls",
          "model_name": "HTMLModel",
          "model_module_version": "1.5.0",
          "state": {
            "_dom_classes": [],
            "_model_module": "@jupyter-widgets/controls",
            "_model_module_version": "1.5.0",
            "_model_name": "HTMLModel",
            "_view_count": null,
            "_view_module": "@jupyter-widgets/controls",
            "_view_module_version": "1.5.0",
            "_view_name": "HTMLView",
            "description": "",
            "description_tooltip": null,
            "layout": "IPY_MODEL_922907aef23f431ebb5adaa431bd92be",
            "placeholder": "​",
            "style": "IPY_MODEL_50940466c9c14ee4a6fa51df7be1a61f",
            "value": " 570/570 [00:00&lt;00:00, 45.6kB/s]"
          }
        },
        "4a2063bbb8ef465ca730b938329579f6": {
          "model_module": "@jupyter-widgets/base",
          "model_name": "LayoutModel",
          "model_module_version": "1.2.0",
          "state": {
            "_model_module": "@jupyter-widgets/base",
            "_model_module_version": "1.2.0",
            "_model_name": "LayoutModel",
            "_view_count": null,
            "_view_module": "@jupyter-widgets/base",
            "_view_module_version": "1.2.0",
            "_view_name": "LayoutView",
            "align_content": null,
            "align_items": null,
            "align_self": null,
            "border": null,
            "bottom": null,
            "display": null,
            "flex": null,
            "flex_flow": null,
            "grid_area": null,
            "grid_auto_columns": null,
            "grid_auto_flow": null,
            "grid_auto_rows": null,
            "grid_column": null,
            "grid_gap": null,
            "grid_row": null,
            "grid_template_areas": null,
            "grid_template_columns": null,
            "grid_template_rows": null,
            "height": null,
            "justify_content": null,
            "justify_items": null,
            "left": null,
            "margin": null,
            "max_height": null,
            "max_width": null,
            "min_height": null,
            "min_width": null,
            "object_fit": null,
            "object_position": null,
            "order": null,
            "overflow": null,
            "overflow_x": null,
            "overflow_y": null,
            "padding": null,
            "right": null,
            "top": null,
            "visibility": null,
            "width": null
          }
        },
        "af8aa6f0b7664ffea12f944d874e23fd": {
          "model_module": "@jupyter-widgets/base",
          "model_name": "LayoutModel",
          "model_module_version": "1.2.0",
          "state": {
            "_model_module": "@jupyter-widgets/base",
            "_model_module_version": "1.2.0",
            "_model_name": "LayoutModel",
            "_view_count": null,
            "_view_module": "@jupyter-widgets/base",
            "_view_module_version": "1.2.0",
            "_view_name": "LayoutView",
            "align_content": null,
            "align_items": null,
            "align_self": null,
            "border": null,
            "bottom": null,
            "display": null,
            "flex": null,
            "flex_flow": null,
            "grid_area": null,
            "grid_auto_columns": null,
            "grid_auto_flow": null,
            "grid_auto_rows": null,
            "grid_column": null,
            "grid_gap": null,
            "grid_row": null,
            "grid_template_areas": null,
            "grid_template_columns": null,
            "grid_template_rows": null,
            "height": null,
            "justify_content": null,
            "justify_items": null,
            "left": null,
            "margin": null,
            "max_height": null,
            "max_width": null,
            "min_height": null,
            "min_width": null,
            "object_fit": null,
            "object_position": null,
            "order": null,
            "overflow": null,
            "overflow_x": null,
            "overflow_y": null,
            "padding": null,
            "right": null,
            "top": null,
            "visibility": null,
            "width": null
          }
        },
        "c7721653dd5c4b758fcc708326512d73": {
          "model_module": "@jupyter-widgets/controls",
          "model_name": "DescriptionStyleModel",
          "model_module_version": "1.5.0",
          "state": {
            "_model_module": "@jupyter-widgets/controls",
            "_model_module_version": "1.5.0",
            "_model_name": "DescriptionStyleModel",
            "_view_count": null,
            "_view_module": "@jupyter-widgets/base",
            "_view_module_version": "1.2.0",
            "_view_name": "StyleView",
            "description_width": ""
          }
        },
        "64adb07b3e5e4e5aaf4edc3a6964674e": {
          "model_module": "@jupyter-widgets/base",
          "model_name": "LayoutModel",
          "model_module_version": "1.2.0",
          "state": {
            "_model_module": "@jupyter-widgets/base",
            "_model_module_version": "1.2.0",
            "_model_name": "LayoutModel",
            "_view_count": null,
            "_view_module": "@jupyter-widgets/base",
            "_view_module_version": "1.2.0",
            "_view_name": "LayoutView",
            "align_content": null,
            "align_items": null,
            "align_self": null,
            "border": null,
            "bottom": null,
            "display": null,
            "flex": null,
            "flex_flow": null,
            "grid_area": null,
            "grid_auto_columns": null,
            "grid_auto_flow": null,
            "grid_auto_rows": null,
            "grid_column": null,
            "grid_gap": null,
            "grid_row": null,
            "grid_template_areas": null,
            "grid_template_columns": null,
            "grid_template_rows": null,
            "height": null,
            "justify_content": null,
            "justify_items": null,
            "left": null,
            "margin": null,
            "max_height": null,
            "max_width": null,
            "min_height": null,
            "min_width": null,
            "object_fit": null,
            "object_position": null,
            "order": null,
            "overflow": null,
            "overflow_x": null,
            "overflow_y": null,
            "padding": null,
            "right": null,
            "top": null,
            "visibility": null,
            "width": null
          }
        },
        "1a03f83d1eab4c1cbacb0640f2cffd00": {
          "model_module": "@jupyter-widgets/controls",
          "model_name": "ProgressStyleModel",
          "model_module_version": "1.5.0",
          "state": {
            "_model_module": "@jupyter-widgets/controls",
            "_model_module_version": "1.5.0",
            "_model_name": "ProgressStyleModel",
            "_view_count": null,
            "_view_module": "@jupyter-widgets/base",
            "_view_module_version": "1.2.0",
            "_view_name": "StyleView",
            "bar_color": null,
            "description_width": ""
          }
        },
        "922907aef23f431ebb5adaa431bd92be": {
          "model_module": "@jupyter-widgets/base",
          "model_name": "LayoutModel",
          "model_module_version": "1.2.0",
          "state": {
            "_model_module": "@jupyter-widgets/base",
            "_model_module_version": "1.2.0",
            "_model_name": "LayoutModel",
            "_view_count": null,
            "_view_module": "@jupyter-widgets/base",
            "_view_module_version": "1.2.0",
            "_view_name": "LayoutView",
            "align_content": null,
            "align_items": null,
            "align_self": null,
            "border": null,
            "bottom": null,
            "display": null,
            "flex": null,
            "flex_flow": null,
            "grid_area": null,
            "grid_auto_columns": null,
            "grid_auto_flow": null,
            "grid_auto_rows": null,
            "grid_column": null,
            "grid_gap": null,
            "grid_row": null,
            "grid_template_areas": null,
            "grid_template_columns": null,
            "grid_template_rows": null,
            "height": null,
            "justify_content": null,
            "justify_items": null,
            "left": null,
            "margin": null,
            "max_height": null,
            "max_width": null,
            "min_height": null,
            "min_width": null,
            "object_fit": null,
            "object_position": null,
            "order": null,
            "overflow": null,
            "overflow_x": null,
            "overflow_y": null,
            "padding": null,
            "right": null,
            "top": null,
            "visibility": null,
            "width": null
          }
        },
        "50940466c9c14ee4a6fa51df7be1a61f": {
          "model_module": "@jupyter-widgets/controls",
          "model_name": "DescriptionStyleModel",
          "model_module_version": "1.5.0",
          "state": {
            "_model_module": "@jupyter-widgets/controls",
            "_model_module_version": "1.5.0",
            "_model_name": "DescriptionStyleModel",
            "_view_count": null,
            "_view_module": "@jupyter-widgets/base",
            "_view_module_version": "1.2.0",
            "_view_name": "StyleView",
            "description_width": ""
          }
        },
        "1d53f79abd8b4153889e9b8dcf94141c": {
          "model_module": "@jupyter-widgets/controls",
          "model_name": "HBoxModel",
          "model_module_version": "1.5.0",
          "state": {
            "_dom_classes": [],
            "_model_module": "@jupyter-widgets/controls",
            "_model_module_version": "1.5.0",
            "_model_name": "HBoxModel",
            "_view_count": null,
            "_view_module": "@jupyter-widgets/controls",
            "_view_module_version": "1.5.0",
            "_view_name": "HBoxView",
            "box_style": "",
            "children": [
              "IPY_MODEL_c3c70a07298d4056bfc3fd44729d2af5",
              "IPY_MODEL_73d1493640bc43dfaf0fa9a77f9b5fe8",
              "IPY_MODEL_b1f359bfc0384e959737ec09cfe64e48"
            ],
            "layout": "IPY_MODEL_e10fb706df40434886f4d91c90b15b81"
          }
        },
        "c3c70a07298d4056bfc3fd44729d2af5": {
          "model_module": "@jupyter-widgets/controls",
          "model_name": "HTMLModel",
          "model_module_version": "1.5.0",
          "state": {
            "_dom_classes": [],
            "_model_module": "@jupyter-widgets/controls",
            "_model_module_version": "1.5.0",
            "_model_name": "HTMLModel",
            "_view_count": null,
            "_view_module": "@jupyter-widgets/controls",
            "_view_module_version": "1.5.0",
            "_view_name": "HTMLView",
            "description": "",
            "description_tooltip": null,
            "layout": "IPY_MODEL_89dc3a92cf0e42fe87bbb2db7e90ea18",
            "placeholder": "​",
            "style": "IPY_MODEL_13e74fbc8b7641d3a42db10f12b4029f",
            "value": "model.safetensors: 100%"
          }
        },
        "73d1493640bc43dfaf0fa9a77f9b5fe8": {
          "model_module": "@jupyter-widgets/controls",
          "model_name": "FloatProgressModel",
          "model_module_version": "1.5.0",
          "state": {
            "_dom_classes": [],
            "_model_module": "@jupyter-widgets/controls",
            "_model_module_version": "1.5.0",
            "_model_name": "FloatProgressModel",
            "_view_count": null,
            "_view_module": "@jupyter-widgets/controls",
            "_view_module_version": "1.5.0",
            "_view_name": "ProgressView",
            "bar_style": "success",
            "description": "",
            "description_tooltip": null,
            "layout": "IPY_MODEL_7729c01143ae4986b63fc03947b018e6",
            "max": 435755784,
            "min": 0,
            "orientation": "horizontal",
            "style": "IPY_MODEL_70b4fde6dca94f60871a51bb45c86653",
            "value": 435755784
          }
        },
        "b1f359bfc0384e959737ec09cfe64e48": {
          "model_module": "@jupyter-widgets/controls",
          "model_name": "HTMLModel",
          "model_module_version": "1.5.0",
          "state": {
            "_dom_classes": [],
            "_model_module": "@jupyter-widgets/controls",
            "_model_module_version": "1.5.0",
            "_model_name": "HTMLModel",
            "_view_count": null,
            "_view_module": "@jupyter-widgets/controls",
            "_view_module_version": "1.5.0",
            "_view_name": "HTMLView",
            "description": "",
            "description_tooltip": null,
            "layout": "IPY_MODEL_0a5c54940fae49b5a0fe4858fb51811b",
            "placeholder": "​",
            "style": "IPY_MODEL_153e90a6bcfa4cd1a64730087bbc9d53",
            "value": " 436M/436M [00:01&lt;00:00, 439MB/s]"
          }
        },
        "e10fb706df40434886f4d91c90b15b81": {
          "model_module": "@jupyter-widgets/base",
          "model_name": "LayoutModel",
          "model_module_version": "1.2.0",
          "state": {
            "_model_module": "@jupyter-widgets/base",
            "_model_module_version": "1.2.0",
            "_model_name": "LayoutModel",
            "_view_count": null,
            "_view_module": "@jupyter-widgets/base",
            "_view_module_version": "1.2.0",
            "_view_name": "LayoutView",
            "align_content": null,
            "align_items": null,
            "align_self": null,
            "border": null,
            "bottom": null,
            "display": null,
            "flex": null,
            "flex_flow": null,
            "grid_area": null,
            "grid_auto_columns": null,
            "grid_auto_flow": null,
            "grid_auto_rows": null,
            "grid_column": null,
            "grid_gap": null,
            "grid_row": null,
            "grid_template_areas": null,
            "grid_template_columns": null,
            "grid_template_rows": null,
            "height": null,
            "justify_content": null,
            "justify_items": null,
            "left": null,
            "margin": null,
            "max_height": null,
            "max_width": null,
            "min_height": null,
            "min_width": null,
            "object_fit": null,
            "object_position": null,
            "order": null,
            "overflow": null,
            "overflow_x": null,
            "overflow_y": null,
            "padding": null,
            "right": null,
            "top": null,
            "visibility": null,
            "width": null
          }
        },
        "89dc3a92cf0e42fe87bbb2db7e90ea18": {
          "model_module": "@jupyter-widgets/base",
          "model_name": "LayoutModel",
          "model_module_version": "1.2.0",
          "state": {
            "_model_module": "@jupyter-widgets/base",
            "_model_module_version": "1.2.0",
            "_model_name": "LayoutModel",
            "_view_count": null,
            "_view_module": "@jupyter-widgets/base",
            "_view_module_version": "1.2.0",
            "_view_name": "LayoutView",
            "align_content": null,
            "align_items": null,
            "align_self": null,
            "border": null,
            "bottom": null,
            "display": null,
            "flex": null,
            "flex_flow": null,
            "grid_area": null,
            "grid_auto_columns": null,
            "grid_auto_flow": null,
            "grid_auto_rows": null,
            "grid_column": null,
            "grid_gap": null,
            "grid_row": null,
            "grid_template_areas": null,
            "grid_template_columns": null,
            "grid_template_rows": null,
            "height": null,
            "justify_content": null,
            "justify_items": null,
            "left": null,
            "margin": null,
            "max_height": null,
            "max_width": null,
            "min_height": null,
            "min_width": null,
            "object_fit": null,
            "object_position": null,
            "order": null,
            "overflow": null,
            "overflow_x": null,
            "overflow_y": null,
            "padding": null,
            "right": null,
            "top": null,
            "visibility": null,
            "width": null
          }
        },
        "13e74fbc8b7641d3a42db10f12b4029f": {
          "model_module": "@jupyter-widgets/controls",
          "model_name": "DescriptionStyleModel",
          "model_module_version": "1.5.0",
          "state": {
            "_model_module": "@jupyter-widgets/controls",
            "_model_module_version": "1.5.0",
            "_model_name": "DescriptionStyleModel",
            "_view_count": null,
            "_view_module": "@jupyter-widgets/base",
            "_view_module_version": "1.2.0",
            "_view_name": "StyleView",
            "description_width": ""
          }
        },
        "7729c01143ae4986b63fc03947b018e6": {
          "model_module": "@jupyter-widgets/base",
          "model_name": "LayoutModel",
          "model_module_version": "1.2.0",
          "state": {
            "_model_module": "@jupyter-widgets/base",
            "_model_module_version": "1.2.0",
            "_model_name": "LayoutModel",
            "_view_count": null,
            "_view_module": "@jupyter-widgets/base",
            "_view_module_version": "1.2.0",
            "_view_name": "LayoutView",
            "align_content": null,
            "align_items": null,
            "align_self": null,
            "border": null,
            "bottom": null,
            "display": null,
            "flex": null,
            "flex_flow": null,
            "grid_area": null,
            "grid_auto_columns": null,
            "grid_auto_flow": null,
            "grid_auto_rows": null,
            "grid_column": null,
            "grid_gap": null,
            "grid_row": null,
            "grid_template_areas": null,
            "grid_template_columns": null,
            "grid_template_rows": null,
            "height": null,
            "justify_content": null,
            "justify_items": null,
            "left": null,
            "margin": null,
            "max_height": null,
            "max_width": null,
            "min_height": null,
            "min_width": null,
            "object_fit": null,
            "object_position": null,
            "order": null,
            "overflow": null,
            "overflow_x": null,
            "overflow_y": null,
            "padding": null,
            "right": null,
            "top": null,
            "visibility": null,
            "width": null
          }
        },
        "70b4fde6dca94f60871a51bb45c86653": {
          "model_module": "@jupyter-widgets/controls",
          "model_name": "ProgressStyleModel",
          "model_module_version": "1.5.0",
          "state": {
            "_model_module": "@jupyter-widgets/controls",
            "_model_module_version": "1.5.0",
            "_model_name": "ProgressStyleModel",
            "_view_count": null,
            "_view_module": "@jupyter-widgets/base",
            "_view_module_version": "1.2.0",
            "_view_name": "StyleView",
            "bar_color": null,
            "description_width": ""
          }
        },
        "0a5c54940fae49b5a0fe4858fb51811b": {
          "model_module": "@jupyter-widgets/base",
          "model_name": "LayoutModel",
          "model_module_version": "1.2.0",
          "state": {
            "_model_module": "@jupyter-widgets/base",
            "_model_module_version": "1.2.0",
            "_model_name": "LayoutModel",
            "_view_count": null,
            "_view_module": "@jupyter-widgets/base",
            "_view_module_version": "1.2.0",
            "_view_name": "LayoutView",
            "align_content": null,
            "align_items": null,
            "align_self": null,
            "border": null,
            "bottom": null,
            "display": null,
            "flex": null,
            "flex_flow": null,
            "grid_area": null,
            "grid_auto_columns": null,
            "grid_auto_flow": null,
            "grid_auto_rows": null,
            "grid_column": null,
            "grid_gap": null,
            "grid_row": null,
            "grid_template_areas": null,
            "grid_template_columns": null,
            "grid_template_rows": null,
            "height": null,
            "justify_content": null,
            "justify_items": null,
            "left": null,
            "margin": null,
            "max_height": null,
            "max_width": null,
            "min_height": null,
            "min_width": null,
            "object_fit": null,
            "object_position": null,
            "order": null,
            "overflow": null,
            "overflow_x": null,
            "overflow_y": null,
            "padding": null,
            "right": null,
            "top": null,
            "visibility": null,
            "width": null
          }
        },
        "153e90a6bcfa4cd1a64730087bbc9d53": {
          "model_module": "@jupyter-widgets/controls",
          "model_name": "DescriptionStyleModel",
          "model_module_version": "1.5.0",
          "state": {
            "_model_module": "@jupyter-widgets/controls",
            "_model_module_version": "1.5.0",
            "_model_name": "DescriptionStyleModel",
            "_view_count": null,
            "_view_module": "@jupyter-widgets/base",
            "_view_module_version": "1.2.0",
            "_view_name": "StyleView",
            "description_width": ""
          }
        }
      }
    }
  },
  "nbformat": 4,
  "nbformat_minor": 0
}